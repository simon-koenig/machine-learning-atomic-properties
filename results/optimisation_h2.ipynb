{
 "cells": [
  {
   "cell_type": "markdown",
   "metadata": {},
   "source": [
    "# Optimize paramters passed to gap_fit with gradient descent method, but just on one data set (training or test)"
   ]
  },
  {
   "cell_type": "markdown",
   "metadata": {},
   "source": [
    "## Omptimizing RMSE"
   ]
  },
  {
   "cell_type": "code",
   "execution_count": null,
   "metadata": {},
   "outputs": [],
   "source": [
    "# Importing everthing we need \n",
    "import sys\n",
    "sys.path.append('../')\n",
    "\n",
    "from GAP.gapmodels import GAPModel\n",
    "from GAP.gapmodels import Split\n",
    "from GAP.gapdescriptors import distance_2b\n",
    "from GAP.gapplot import QualityPlot\n",
    "import matplotlib.pyplot as plt\n",
    "from textwrap import wrap"
   ]
  },
  {
   "cell_type": "markdown",
   "metadata": {},
   "source": [
    "## fixed parameters "
   ]
  },
  {
   "cell_type": "code",
   "execution_count": null,
   "metadata": {},
   "outputs": [],
   "source": [
    "cutoff = [3]\n",
    "n_sparse = [15]\n",
    "delta = [1]\n",
    "sparse_method = ['UNIFORM']\n",
    "covariance_type = ['ARD_SE']\n",
    "sigma_fixed = ['0.0 0.0'] # sigma for hessian and virial stress is not used and hence won't be optimized"
   ]
  },
  {
   "cell_type": "markdown",
   "metadata": {},
   "source": [
    "## variable parameters"
   ]
  },
  {
   "cell_type": "code",
   "execution_count": null,
   "metadata": {},
   "outputs": [],
   "source": [
    "theta = 1\n",
    "sigma_energy = 1\n",
    "sigma_force = 1\n",
    "\n",
    "\n"
   ]
  },
  {
   "cell_type": "markdown",
   "metadata": {},
   "source": [
    "## Split up the Data "
   ]
  },
  {
   "cell_type": "code",
   "execution_count": null,
   "metadata": {},
   "outputs": [],
   "source": [
    "## Import Hydrogen_MD Data and split into training and test data, use split 80%/20%\n",
    "data='/Users/simon/simon_ml/tools/hydrogentuple.xyz'\n",
    "train_percentage = 0.8\n",
    "split = Split(data, train_percentage)\n",
    "\n",
    "#Perform the acutal split\n",
    "train_file = 'train.xyz'\n",
    "test_file = 'test.xyz'\n",
    "split.split(train_file, test_file)"
   ]
  },
  {
   "cell_type": "code",
   "execution_count": null,
   "metadata": {},
   "outputs": [],
   "source": []
  },
  {
   "cell_type": "markdown",
   "metadata": {},
   "source": [
    "## Make function that is used for optimization. RMSE takes the 3 variable parameters as input and outputs and RMSE error"
   ]
  },
  {
   "cell_type": "code",
   "execution_count": null,
   "metadata": {},
   "outputs": [],
   "source": [
    "data_file = 'train.xyz'\n",
    "def RMSE_train(tef):\n",
    "    theta,sigma_energy,sigma_force = tef[0],tef[1],tef[2]\n",
    "    data_file = 'train.xyz'\n",
    "    # Initialize all parameters, fixed and variable\n",
    "    cutoff = 4\n",
    "    n_sparse = 20\n",
    "    delta = 1\n",
    "    sparse_method = 'UNIFORM'\n",
    "    covariance_type = 'ARD_SE'\n",
    "    sigma_fixed = '0.0 0.0' # sigma for hessian and virial stress is not used and hence won't be optimized\n",
    "    theta = theta\n",
    "    sigma_energy = sigma_energy\n",
    "    sigma_force = sigma_force\n",
    "    sigma = f\"{sigma_energy} {sigma_force} {sigma_fixed}\"\n",
    "    descriptor_2b = distance_2b(cutoff=cutoff, covariance_type=covariance_type,delta=delta,theta_uniform=theta,\n",
    "                                n_sparse=n_sparse, sparse_method=sparse_method,add_species='T')\n",
    "    \n",
    "    # Get parameter string\n",
    "    parameters = descriptor_2b.get_parameter_string()\n",
    "    \n",
    "    # Make model\n",
    "    model = GAPModel()\n",
    "\n",
    "    # Select filename in which potential should be stored \n",
    "    potential=f\"GAP.xml\"\n",
    "\n",
    "    # Train model\n",
    "    model.train(parameters, training_data=data_file,GAP_potential=potential,sigma=sigma,print_output=False)\n",
    "\n",
    "    # Select filename in which predictions should be stored for prediction data \n",
    "    prediction_file= f\"quip_2b.xyz\"\n",
    "\n",
    "    # Predict energies on training data\n",
    "    model.predict(Test_Data=data_file, GAP_potential=potential, QUIP_Prediction=prediction_file,print_output=False)\n",
    "    \n",
    "    # Calculate RMSE error\n",
    "    RMSE = model.energy_RMSE(data_file,prediction_file)/2 + model.force_RMSE(data_file,prediction_file)/6\n",
    "    \n",
    "\n",
    "    # Make Plot \n",
    "    plot = QualityPlot()\n",
    "    # Make subplots object, returning axis object which is going to be passed to QualityPlot\n",
    "    figs, axs = plt.subplots(nrows=1,ncols=2,gridspec_kw={'wspace':1,'hspace':1})\n",
    "\n",
    "    # Plot predicted energies of training data against real energies of training data\n",
    "    plot.energies_on_energies(real_values=data_file, predicted_values=prediction_file, \n",
    "                            axis=axs[0],\n",
    "                            title=\"\\n\".join(wrap(f\"Energy of Training Data\"\n",
    "                            f\"theta_uniform = {theta}, sigma_energy = {sigma_energy}\",20)))\n",
    "    \n",
    "    plot.forces_on_forces(real_values=data_file, predicted_values=prediction_file, \n",
    "                        axis=axs[1],\n",
    "                        title=\"\\n\".join(wrap(f\"Force of Training Data\"\n",
    "                        f\"theta_uniform = {theta}, sigma_force = {sigma_force}\",20)))\n",
    "    # Get real and predicted energies\n",
    "    #real_energies, predicted_energies = model.getEnergies('train.xyz','quip_2b.xyz')\n",
    "    \n",
    "    return RMSE"
   ]
  },
  {
   "cell_type": "code",
   "execution_count": null,
   "metadata": {},
   "outputs": [],
   "source": []
  },
  {
   "cell_type": "markdown",
   "metadata": {},
   "source": [
    "## Use Steepest decent method to optimize the RMSE function on training data"
   ]
  },
  {
   "cell_type": "code",
   "execution_count": null,
   "metadata": {},
   "outputs": [],
   "source": []
  },
  {
   "cell_type": "code",
   "execution_count": null,
   "metadata": {},
   "outputs": [],
   "source": [
    "import scipy.optimize\n",
    "initial_guess = [1,0.004,0.08]\n",
    "result = scipy.optimize.minimize(RMSE_train,initial_guess,method='Nelder-Mead',\n",
    "                                 options={'fatol':10e-5,'maxiter':100,'disp':True})\n"
   ]
  },
  {
   "cell_type": "code",
   "execution_count": null,
   "metadata": {},
   "outputs": [],
   "source": [
    "result"
   ]
  },
  {
   "cell_type": "markdown",
   "metadata": {},
   "source": [
    "## Minimize RMSE, add up RMSE for training and validation data"
   ]
  },
  {
   "cell_type": "code",
   "execution_count": null,
   "metadata": {},
   "outputs": [],
   "source": [
    "data_file = 'train.xyz'\n",
    "validation_file = 'test.xyz'\n",
    "def RMSE_train_val(tef):\n",
    "    theta,sigma_energy,sigma_force = tef[0],tef[1],tef[2]\n",
    "    data_file = 'train.xyz'\n",
    "    validation_file = 'test.xyz'\n",
    "    # Initialize all parameters, fixed and variable\n",
    "    cutoff = 4\n",
    "    n_sparse = 20\n",
    "    delta = 1\n",
    "    sparse_method = 'UNIFORM'\n",
    "    covariance_type = 'ARD_SE'\n",
    "    sigma_fixed = '0.0 0.0' # sigma for hessian and virial stress is not used and hence won't be optimized\n",
    "    theta = theta\n",
    "    sigma_energy = sigma_energy\n",
    "    sigma_force = sigma_force\n",
    "    sigma = f\"{sigma_energy} {sigma_force} {sigma_fixed}\"\n",
    "    descriptor_2b = distance_2b(cutoff=cutoff, covariance_type=covariance_type,delta=delta,theta_uniform=theta,\n",
    "                                n_sparse=n_sparse, sparse_method=sparse_method,add_species='T')\n",
    "    \n",
    "    # Get parameter string\n",
    "    parameters = descriptor_2b.get_parameter_string()\n",
    "    \n",
    "    # Make model\n",
    "    model = GAPModel()\n",
    "\n",
    "    # Select filename in which potential should be stored \n",
    "    potential=f\"GAP.xml\"\n",
    "\n",
    "    # Train model\n",
    "    model.train(parameters, training_data=data_file,GAP_potential=potential,sigma=sigma,print_output=False)\n",
    "\n",
    "    # Select filename in which predictions should be stored for prediction data\n",
    "    prediction_file_tr= f\"quip_2btrain.xyz\"\n",
    "    prediction_file_val= f\"quip_2bvalidate.xyz\"\n",
    "\n",
    "    # Predict energies on training data\n",
    "    model.predict(Test_Data=data_file, GAP_potential=potential, QUIP_Prediction=prediction_file_tr,print_output=False)\n",
    "    \n",
    "    # Predict energies on validation data\n",
    "    model.predict(Test_Data=validation_file, GAP_potential=potential, QUIP_Prediction=prediction_file_val,print_output=False)\n",
    "    \n",
    "    \n",
    "    # Calculate RMSE of error\n",
    "    rmse_energy_train = model.energy_RMSE(data_file,prediction_file_tr)\n",
    "    rmse_force_train = model.force_RMSE(data_file,prediction_file_tr) \n",
    "    rmse_energy_validate = model.energy_RMSE(validation_file,prediction_file_val)\n",
    "    rmse_force_validate = model.force_RMSE(validation_file,prediction_file_val)\n",
    "    RMSE = rmse_energy_train/2 + rmse_force_train/6 + rmse_energy_validate/2 + rmse_force_validate/6\n",
    "    \n",
    "\n",
    "    # Make Plot \n",
    "    plot = QualityPlot()\n",
    "    # Make subplots object, returning axis object which is going to be passed to QualityPlot\n",
    "    figs, axs = plt.subplots(nrows=2,ncols=2,gridspec_kw={'wspace':1,'hspace':1})\n",
    "\n",
    "    # Plot predicted energies of training data against real energies of training data\n",
    "    plot.energies_on_energies(real_values=data_file, predicted_values=prediction_file_tr, \n",
    "                            axis=axs[0,0],\n",
    "                            title=\"\\n\".join(wrap(f\"Energy of Training Data \"\n",
    "                            f\"theta_uniform = {theta}, sigma_energy = {sigma_energy}\",20)))\n",
    "    \n",
    "    plot.forces_on_forces(real_values=data_file, predicted_values=prediction_file_tr, \n",
    "                        axis=axs[0,1],\n",
    "                        title=\"\\n\".join(wrap(f\"Force of Training Data \"\n",
    "                        f\"theta_uniform = {theta}, sigma_force = {sigma_force}\",20)))\n",
    "    \n",
    "    plot.energies_on_energies(real_values=validation_file, predicted_values=prediction_file_val, \n",
    "                            axis=axs[1,0],\n",
    "                            title=\"\\n\".join(wrap(f\"Energy of Validation Data \"\n",
    "                            f\"theta_uniform = {theta}, sigma_energy = {sigma_energy}\",20)))\n",
    "    \n",
    "    plot.forces_on_forces(real_values=validation_file, predicted_values=prediction_file_val, \n",
    "                        axis=axs[1,1],\n",
    "                        title=\"\\n\".join(wrap(f\"Force of Validation Data \"\n",
    "                        f\"theta_uniform = {theta}, sigma_force = {sigma_force}\",20)))\n",
    "    # Get real and predicted energies\n",
    "    #real_energies, predicted_energies = model.getEnergies('train.xyz','quip_2b.xyz')\n",
    "    \n",
    "    return RMSE"
   ]
  },
  {
   "cell_type": "code",
   "execution_count": null,
   "metadata": {},
   "outputs": [],
   "source": []
  },
  {
   "cell_type": "code",
   "execution_count": null,
   "metadata": {},
   "outputs": [],
   "source": [
    "import scipy.optimize\n",
    "initial_guess = [1,0.004,0.08]\n",
    "result = scipy.optimize.minimize(RMSE_train_val,initial_guess,method='Nelder-Mead',\n",
    "                                 options={'fatol':10e-5,'maxiter':100,'disp':True})"
   ]
  },
  {
   "cell_type": "code",
   "execution_count": null,
   "metadata": {},
   "outputs": [],
   "source": [
    "result"
   ]
  },
  {
   "cell_type": "code",
   "execution_count": null,
   "metadata": {},
   "outputs": [],
   "source": []
  }
 ],
 "metadata": {
  "kernelspec": {
   "display_name": "Python 3",
   "language": "python",
   "name": "python3"
  },
  "language_info": {
   "codemirror_mode": {
    "name": "ipython",
    "version": 3
   },
   "file_extension": ".py",
   "mimetype": "text/x-python",
   "name": "python",
   "nbconvert_exporter": "python",
   "pygments_lexer": "ipython3",
   "version": "3.8.2"
  }
 },
 "nbformat": 4,
 "nbformat_minor": 4
}
