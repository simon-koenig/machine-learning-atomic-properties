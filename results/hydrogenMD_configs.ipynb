{
 "cells": [
  {
   "cell_type": "markdown",
   "metadata": {},
   "source": [
    "# Storage of 'good' descriptor parameter configurations for hydrogenMD"
   ]
  },
  {
   "cell_type": "markdown",
   "metadata": {},
   "source": [
    "## Distance 2b parameters"
   ]
  },
  {
   "cell_type": "markdown",
   "metadata": {},
   "source": [
    "### There is substantial differences when varying the covariance_type paramter, so there will be differing list for each covariance_type\n"
   ]
  },
  {
   "cell_type": "code",
   "execution_count": null,
   "metadata": {},
   "outputs": [],
   "source": [
    "# Parameter Lists for covariance_type = pp :: piecewise polynomial no need for theta_uniform\n",
    "cutoff_pp = [4,5]\n",
    "n_sparse_pp = [15,20]\n",
    "delta_pp = [1]\n",
    "theta_uniform_pp = [1.25,1.5]\n",
    "default_sigma_pp = ['0.0000001 0.0000001 0.0 0.0','0.00000001 0.00000001 0.0 0.0']\n",
    "sparse_method_pp = ['uniform','cur_points']\n",
    "covariance_type_pp = ['PP'] # , 'Gaussian', 'BOND_REAL_SPACE','dot_product']\n"
   ]
  },
  {
   "cell_type": "code",
   "execution_count": null,
   "metadata": {},
   "outputs": [],
   "source": [
    "# Parameter Lists for covariance_type = ard_se :: squared exponential\n",
    "cutoff_ardse = [4,5]\n",
    "n_sparse_ardse = [15,20,25]\n",
    "delta_ardse = [1]\n",
    "theta_uniform_ardse = [1,1.5,1.75]\n",
    "default_sigma_ardse = ['0.0000001 0.0000001 0.0 0.0','0.00000001 0.00000001 0.0 0.0']\n",
    "sparse_method_ardse = ['uniform']\n",
    "covariance_type_ardse = ['ARD_SE'] # , 'Gaussian', 'BOND_REAL_SPACE','dot_product']\n"
   ]
  },
  {
   "cell_type": "code",
   "execution_count": null,
   "metadata": {},
   "outputs": [],
   "source": [
    "# Parameter Lists for covariance_type = gaussian  :: Gaussian\n",
    "cutoff_gauss = [5]\n",
    "n_sparse_gauss = [30]\n",
    "delta_gauss = [1]\n",
    "theta_uniform_gauss = [10]\n",
    "default_sigma_gauss = ['0.0 0.0 0.0 0.0']\n",
    "sparse_method_gauss = ['uniform']\n",
    "covariance_type_gauss = ['Gaussian'] #, 'BOND_REAL_SPACE','dot_product']"
   ]
  },
  {
   "cell_type": "code",
   "execution_count": null,
   "metadata": {},
   "outputs": [],
   "source": []
  },
  {
   "cell_type": "code",
   "execution_count": null,
   "metadata": {},
   "outputs": [],
   "source": []
  },
  {
   "cell_type": "markdown",
   "metadata": {},
   "source": [
    "## Simple test run of the 'good' parameters"
   ]
  },
  {
   "cell_type": "code",
   "execution_count": null,
   "metadata": {},
   "outputs": [],
   "source": [
    "# Importing everthing we need \n",
    "import sys\n",
    "sys.path.append('../')\n",
    "\n",
    "from GAP.gapmodels import GAPModel\n",
    "from GAP.gapmodels import Split\n",
    "from GAP.gapdescriptors import distance_2b\n",
    "from GAP.gapplot import QualityPlot\n",
    "import matplotlib.pyplot as plt\n",
    "from textwrap import wrap"
   ]
  },
  {
   "cell_type": "code",
   "execution_count": null,
   "metadata": {},
   "outputs": [],
   "source": []
  },
  {
   "cell_type": "code",
   "execution_count": null,
   "metadata": {},
   "outputs": [],
   "source": []
  },
  {
   "cell_type": "code",
   "execution_count": null,
   "metadata": {},
   "outputs": [],
   "source": [
    "## Import Hydrogen_MD Data and split into training and test data, use split 80%/20%\n",
    "data='/Users/simon/simon_ml/GAP/hydrogen_md.xyz'\n",
    "train_percentage = 0.8\n",
    "split = Split(data, train_percentage)\n",
    "\n",
    "#Perform the acutal split\n",
    "train_file = 'train.xyz'\n",
    "test_file = 'test.xyz'\n",
    "split.split(train_file, test_file)\n",
    "\n",
    "# Get the splitted data\n",
    "train,test = split.get_splitted_data()\n",
    "\n",
    "# Get the names of the data files containing the splitted data, just for completeness purposes. These should be \n",
    "# the same as the passed files at the split.split() method.\n",
    "train_file, test_file = split.get_splitted_data_files()"
   ]
  },
  {
   "cell_type": "markdown",
   "metadata": {},
   "source": [
    "## Iterate over list of configurations and perform training and fitting. Then see the quality of the fit using  gapplot.QualityPlot."
   ]
  },
  {
   "cell_type": "markdown",
   "metadata": {},
   "source": [
    "\n"
   ]
  },
  {
   "cell_type": "code",
   "execution_count": null,
   "metadata": {},
   "outputs": [],
   "source": []
  },
  {
   "cell_type": "markdown",
   "metadata": {},
   "source": [
    "### Pythonic way of getting all list combinations - set the paramter-lists to created paramters"
   ]
  },
  {
   "cell_type": "code",
   "execution_count": null,
   "metadata": {},
   "outputs": [],
   "source": [
    "import itertools\n",
    "li = [cutoff,covariance_type,delta, theta_uniform, n_sparse, sparse_method, default_sigma]\n",
    "comb = list(itertools.product(*li))\n",
    "print(comb)\n",
    "print(len(comb))"
   ]
  },
  {
   "cell_type": "markdown",
   "metadata": {},
   "source": [
    "### Perform iteration"
   ]
  },
  {
   "cell_type": "code",
   "execution_count": null,
   "metadata": {},
   "outputs": [],
   "source": [
    "for i,(cut,cov,delta,theta,nsparse,sparse,sigma) in enumerate(comb):\n",
    "    descriptor_2b = distance_2b(cutoff=cut, covariance_type=cov,delta=delta,theta_uniform=theta,\n",
    "                                n_sparse=nsparse, sparse_method=sparse,add_species='T')\n",
    "    # Make model\n",
    "    model = GAPModel()\n",
    "    \n",
    "    # Select filename in which potential should be stored \n",
    "    potential=f\"GAP{i}.xml\"\n",
    "    \n",
    "    # Get descriptor parameter string\n",
    "    parameters = descriptor_2b.get_parameter_string()\n",
    "    # Train model\n",
    "    model.train(parameters, training_data=train_file,GAP_potential=potential,sigma=sigma,print_output=True)\n",
    "    \n",
    "    # Select filename in which predictions should be stored for train data \n",
    "    prediction_train = f\"quip_2b_train{i}.xyz\"\n",
    "    \n",
    "    # Predict energies on training data\n",
    "    model.predict(Test_Data=train_file, GAP_potential=potential, QUIP_Prediction=prediction_train,print_output=True)\n",
    "    \n",
    "    # Select filename in which predictions should be stored for test data \n",
    "    prediction_test = f\"quip_2b_test{i}.xyz\"\n",
    "\n",
    "    # Predict energies on test data\n",
    "    model.predict(Test_Data=test_file, GAP_potential=potential, QUIP_Prediction=prediction_test)\n",
    "    \n",
    "    # Plot ennergies to see quality of the fit\n",
    "    plot = QualityPlot()\n",
    "    \n",
    "    # Make subplots object, returning axis object which is going to be passed to QualityPlot\n",
    "    figs, axs = plt.subplots(nrows=1,ncols=2,gridspec_kw={'wspace':1,'hspace':1})\n",
    "    \n",
    "    # Plot predicted energies of training data against real energies of training data\n",
    "    plot.energies_on_energies(real_values=train_file, predicted_values=prediction_train, \n",
    "                            axis=axs[0],\n",
    "                            title=\"\\n\".join(wrap(f\"Energy of Training Data, cutoff = {cut},\"\n",
    "                            f\"covariance_type = {cov}, delta = {delta},\"\n",
    "                            f\"theta_uniform = {theta}, n_sparse = {nsparse} \"\n",
    "                            f\"sparse_method = {sparse}, default_sigma = {sigma}\",20)))\n",
    "    \n",
    "    # Plot predicted energies of test data against real energies of test data\n",
    "    plot.energies_on_energies(real_values=test_file, predicted_values=prediction_test, \n",
    "                            axis=axs[1], \n",
    "                            title=\"\\n\".join(wrap(f\"Energy of Test Data, cutoff = {cut},\"\n",
    "                            f\"covariance_type = {cov}, delta = {delta},\"\n",
    "                            f\"theta_uniform = {theta}, n_sparse = {nsparse} \"\n",
    "                            f\"sparse_method = {sparse}, default_sigma = {sigma}\",20)))\n",
    "    \n",
    "    \n",
    "   \n",
    "    \n",
    "    "
   ]
  },
  {
   "cell_type": "code",
   "execution_count": null,
   "metadata": {
    "scrolled": false
   },
   "outputs": [],
   "source": [
    " for i,(cut,cov,delta,theta,nsparse,sparse,sigma) in enumerate(comb):\n",
    "    # Plot ennergies to see quality of the fit\n",
    "    plot = QualityPlot()\n",
    "    \n",
    "    # Make subplots object, returning axis object which is going to be passed to QualityPlot\n",
    "    figs, axs = plt.subplots(nrows=1,ncols=2,gridspec_kw={'wspace':1,'hspace':1})\n",
    "    \n",
    "    # Plot predicted energies of training data against real energies of training data\n",
    "    plot.energies_on_energies(real_values=train_file, predicted_values=f\"quip_2b_train{i}.xyz\", \n",
    "                            axis=axs[0],\n",
    "                            title=\"\\n\".join(wrap(f\"Energy of Training Data, cutoff = {cut},\"\n",
    "                            f\"covariance_type = {cov}, delta = {delta},\"\n",
    "                            f\"theta_uniform = {theta}, n_sparse = {nsparse} \"\n",
    "                            f\"sparse_method = {sparse}, default_sigma = {sigma}\",20)))\n",
    "    \n",
    "    # Plot predicted energies of test data against real energies of test data\n",
    "    plot.energies_on_energies(real_values=test_file, predicted_values=f\"quip_2b_test{i}.xyz\", \n",
    "                            axis=axs[1], \n",
    "                            title=\"\\n\".join(wrap(f\"Energy of Test Data, cutoff = {cut},\"\n",
    "                            f\"covariance_type = {cov}, delta = {delta},\"\n",
    "                            f\"theta_uniform = {theta}, n_sparse = {nsparse} \"\n",
    "                            f\"sparse_method = {sparse}, default_sigma = {sigma}\",20)))\n",
    "    from matplotlib.backends.backend_pdf import PdfPages\n",
    "    with PdfPages(f\"plot_test{i}.pdf\") as pdf:\n",
    "        pdf.savefig()"
   ]
  },
  {
   "cell_type": "code",
   "execution_count": null,
   "metadata": {},
   "outputs": [],
   "source": []
  },
  {
   "cell_type": "code",
   "execution_count": null,
   "metadata": {},
   "outputs": [],
   "source": []
  },
  {
   "cell_type": "code",
   "execution_count": null,
   "metadata": {},
   "outputs": [],
   "source": []
  },
  {
   "cell_type": "code",
   "execution_count": null,
   "metadata": {},
   "outputs": [],
   "source": []
  },
  {
   "cell_type": "code",
   "execution_count": null,
   "metadata": {},
   "outputs": [],
   "source": [
    "\n",
    "\n"
   ]
  },
  {
   "cell_type": "code",
   "execution_count": null,
   "metadata": {},
   "outputs": [],
   "source": []
  },
  {
   "cell_type": "code",
   "execution_count": null,
   "metadata": {},
   "outputs": [],
   "source": []
  },
  {
   "cell_type": "code",
   "execution_count": null,
   "metadata": {},
   "outputs": [],
   "source": []
  },
  {
   "cell_type": "code",
   "execution_count": null,
   "metadata": {},
   "outputs": [],
   "source": []
  },
  {
   "cell_type": "code",
   "execution_count": null,
   "metadata": {},
   "outputs": [],
   "source": [
    "\n"
   ]
  },
  {
   "cell_type": "code",
   "execution_count": null,
   "metadata": {},
   "outputs": [],
   "source": []
  },
  {
   "cell_type": "code",
   "execution_count": null,
   "metadata": {},
   "outputs": [],
   "source": []
  },
  {
   "cell_type": "code",
   "execution_count": null,
   "metadata": {},
   "outputs": [],
   "source": []
  },
  {
   "cell_type": "code",
   "execution_count": null,
   "metadata": {},
   "outputs": [],
   "source": [
    "\n",
    "        "
   ]
  },
  {
   "cell_type": "code",
   "execution_count": null,
   "metadata": {},
   "outputs": [],
   "source": []
  },
  {
   "cell_type": "code",
   "execution_count": null,
   "metadata": {},
   "outputs": [],
   "source": []
  }
 ],
 "metadata": {
  "kernelspec": {
   "display_name": "Python 3",
   "language": "python",
   "name": "python3"
  },
  "language_info": {
   "codemirror_mode": {
    "name": "ipython",
    "version": 3
   },
   "file_extension": ".py",
   "mimetype": "text/x-python",
   "name": "python",
   "nbconvert_exporter": "python",
   "pygments_lexer": "ipython3",
   "version": "3.8.2"
  }
 },
 "nbformat": 4,
 "nbformat_minor": 4
}
