{
 "cells": [
  {
   "cell_type": "markdown",
   "metadata": {},
   "source": [
    "## Make neat plots for bachelor project with intial and optimal values for the models - Hydrogen-Crystal"
   ]
  },
  {
   "cell_type": "markdown",
   "metadata": {},
   "source": [
    "## Importing everything we need"
   ]
  },
  {
   "cell_type": "code",
   "execution_count": 1,
   "metadata": {},
   "outputs": [],
   "source": [
    "# Importing everthing we need \n",
    "import sys\n",
    "sys.path.append('../')\n",
    "\n",
    "from GAP.gapmodels import GAPModel\n",
    "from GAP.gapmodels import Split\n",
    "from GAP.gapdescriptors import distance_2b\n",
    "from GAP.gapplot import QualityPlot\n",
    "import matplotlib.pyplot as plt\n",
    "from textwrap import wrap"
   ]
  },
  {
   "cell_type": "markdown",
   "metadata": {},
   "source": [
    "## fixed parameters "
   ]
  },
  {
   "cell_type": "code",
   "execution_count": 2,
   "metadata": {},
   "outputs": [],
   "source": [
    "cutoff = [4]\n",
    "n_sparse = [20]\n",
    "delta = [1]\n",
    "sparse_method = ['UNIFORM']\n",
    "covariance_type = ['ARD_SE']\n",
    "sigma_fixed = ['0.0 0.0'] # sigma for hessian and virial stress is not used and hence won't be optimized"
   ]
  },
  {
   "cell_type": "markdown",
   "metadata": {},
   "source": [
    "## variable parameters"
   ]
  },
  {
   "cell_type": "code",
   "execution_count": 3,
   "metadata": {},
   "outputs": [],
   "source": [
    "initial_guess = [1,0.008,0.04] \n",
    "opt_params_crystal = [0.38415538, 0.06524831, 0.05259016]\n",
    "opt_params_h2 = [ 0.32570375,  0.00797225, 0.00935375]"
   ]
  },
  {
   "cell_type": "markdown",
   "metadata": {},
   "source": [
    "## Split up the Data "
   ]
  },
  {
   "cell_type": "code",
   "execution_count": 4,
   "metadata": {},
   "outputs": [
    {
     "name": "stderr",
     "output_type": "stream",
     "text": [
      "/Library/Frameworks/Python.framework/Versions/3.8/lib/python3.8/site-packages/ase/io/extxyz.py:997: UserWarning: write_xyz() overwriting array \"forces\" present in atoms.arrays with stored results from calculator\n",
      "  warnings.warn('write_xyz() overwriting array \"{0}\" present '\n",
      "/Library/Frameworks/Python.framework/Versions/3.8/lib/python3.8/site-packages/ase/io/extxyz.py:997: UserWarning: write_xyz() overwriting array \"energies\" present in atoms.arrays with stored results from calculator\n",
      "  warnings.warn('write_xyz() overwriting array \"{0}\" present '\n"
     ]
    }
   ],
   "source": [
    "## Import Hydrogen_MD Data and split into training and test data, use split 80%/20%\n",
    "data='/Users/simon/simon_ml/tools/hydrogencrystal.xyz'\n",
    "train_percentage = 0.8\n",
    "split = Split(data, train_percentage)\n",
    "\n",
    "#Perform the acutal split\n",
    "train_file = 'train.xyz'\n",
    "test_file = 'test.xyz'\n",
    "split.split(train_file, test_file)"
   ]
  },
  {
   "cell_type": "markdown",
   "metadata": {},
   "source": []
  },
  {
   "cell_type": "markdown",
   "metadata": {},
   "source": [
    "## Test to figure out nice figure seetings"
   ]
  },
  {
   "cell_type": "code",
   "execution_count": 5,
   "metadata": {},
   "outputs": [],
   "source": [
    "def RMSE_plot_energy(theta,sigma_energy,sigma_force,title):\n",
    "    data_file = 'train.xyz'\n",
    "    validation_file = 'test.xyz'\n",
    "    # Initialize all parameters, fixed and variable\n",
    "    cutoff = 4\n",
    "    n_sparse = 20\n",
    "    delta = 1\n",
    "    sparse_method = 'UNIFORM'\n",
    "    covariance_type = 'ARD_SE'\n",
    "    sigma_fixed = '0.0 0.0' # sigma for hessian and virial stress is not used and hence won't be optimized\n",
    "    theta = theta\n",
    "    sigma_energy = sigma_energy\n",
    "    sigma_force = sigma_force\n",
    "    sigma = f\"{sigma_energy} {sigma_force} {sigma_fixed}\"\n",
    "    descriptor_2b = distance_2b(cutoff=cutoff, covariance_type=covariance_type,delta=delta,theta_uniform=theta,\n",
    "                                n_sparse=n_sparse, sparse_method=sparse_method,add_species='T')\n",
    "    \n",
    "    # Get parameter string\n",
    "    parameters = descriptor_2b.get_parameter_string()\n",
    "    \n",
    "    # Make model\n",
    "    model = GAPModel()\n",
    "\n",
    "    # Select filename in which potential should be stored \n",
    "    potential=f\"GAP.xml\"\n",
    "\n",
    "     # Train model\n",
    "    model.train(parameters, training_data=data_file,GAP_potential=potential,sigma=sigma,print_output=False)\n",
    "\n",
    "    # Select filename in which predictions should be stored for prediction data\n",
    "    prediction_file_tr= f\"quip_2btrain.xyz\"\n",
    "    prediction_file_val= f\"quip_2bvalidate.xyz\"\n",
    "\n",
    "    # Predict energies on training data\n",
    "    model.predict(Test_Data=data_file, GAP_potential=potential, QUIP_Prediction=prediction_file_tr,print_output=False)\n",
    "    \n",
    "    # Predict energies on validation data\n",
    "    model.predict(Test_Data=validation_file, GAP_potential=potential, QUIP_Prediction=prediction_file_val,print_output=False)\n",
    "    \n",
    "    # Calculate RMSE of error, forces are scaled by 576 (number of forces per timestep: 192 atoms, \n",
    "    #3 spacial coordiantes) energies are scaled by factor 10^2 because energy scale is that much \n",
    "    # smaller then force scale\n",
    "    rmse_energy_train = model.energy_RMSE(data_file,prediction_file_tr) /192\n",
    "    rmse_force_train = model.force_RMSE(data_file,prediction_file_tr) / 576\n",
    "    rmse_energy_validate = model.energy_RMSE(validation_file,prediction_file_val) /192\n",
    "    rmse_force_validate = model.force_RMSE(validation_file,prediction_file_val) /576\n",
    "    \n",
    "    RMSE = rmse_energy_train + rmse_force_train + rmse_energy_validate + rmse_force_validate\n",
    "\n",
    "    # Make Plot \n",
    "    plot = QualityPlot()\n",
    "    # Make subplots object, returning axis object which is going to be passed to QualityPlot\n",
    "    figs, axs = plt.subplots(nrows=1,ncols=2,gridspec_kw={'wspace':1,'hspace':1})\n",
    "    \n",
    "    # Plot predicted energies of training data against real energies of training data\n",
    "    plot.energies_on_energies(real_values=data_file, predicted_values=prediction_file_tr, \n",
    "                            axis=axs[0],\n",
    "                            title=\"\")\n",
    "    #plot.forces_on_forces(real_values=data_file, predicted_values=prediction_file_tr, \n",
    "                        #axis=axs[0,1],\n",
    "                        #title=\"\\n\".join(wrap(f\"Force of Training Data \"\n",
    "                        #f\"theta_uniform = {theta}, sigma_force = {sigma_force}\",20)))\n",
    "    \n",
    "    plot.energies_on_energies(real_values=validation_file, predicted_values=prediction_file_val, \n",
    "                            axis=axs[1],\n",
    "                            title=\"\")\n",
    "    #plot.forces_on_forces(real_values=validation_file, predicted_values=prediction_file_val, \n",
    "                        #axis=axs[1,1],\n",
    "                        #title=\"\\n\".join(wrap(f\"Force of Validation Data \"\n",
    "                        #f\"theta_uniform = {theta}, sigma_force = {sigma_force}\",20)))\n",
    "    from matplotlib.backends.backend_pdf import PdfPages\n",
    "    with PdfPages(f\"{title}.pdf\") as pdf:\n",
    "        pdf.savefig(bbox_inches = \"tight\")\n",
    "    return RMSE"
   ]
  },
  {
   "cell_type": "code",
   "execution_count": 6,
   "metadata": {},
   "outputs": [],
   "source": [
    "def RMSE_plot_force(theta,sigma_energy,sigma_force,title):\n",
    "    data_file = 'train.xyz'\n",
    "    validation_file = 'test.xyz'\n",
    "    # Initialize all parameters, fixed and variable\n",
    "    cutoff = 4\n",
    "    n_sparse = 20\n",
    "    delta = 1\n",
    "    sparse_method = 'UNIFORM'\n",
    "    covariance_type = 'ARD_SE'\n",
    "    sigma_fixed = '0.0 0.0' # sigma for hessian and virial stress is not used and hence won't be optimized\n",
    "    theta = theta\n",
    "    sigma_energy = sigma_energy\n",
    "    sigma_force = sigma_force\n",
    "    sigma = f\"{sigma_energy} {sigma_force} {sigma_fixed}\"\n",
    "    descriptor_2b = distance_2b(cutoff=cutoff, covariance_type=covariance_type,delta=delta,theta_uniform=theta,\n",
    "                                n_sparse=n_sparse, sparse_method=sparse_method,add_species='T')\n",
    "    \n",
    "    # Get parameter string\n",
    "    parameters = descriptor_2b.get_parameter_string()\n",
    "    \n",
    "    # Make model\n",
    "    model = GAPModel()\n",
    "\n",
    "    # Select filename in which potential should be stored \n",
    "    potential=f\"GAP.xml\"\n",
    "\n",
    "     # Train model\n",
    "    model.train(parameters, training_data=data_file,GAP_potential=potential,sigma=sigma,print_output=False)\n",
    "\n",
    "    # Select filename in which predictions should be stored for prediction data\n",
    "    prediction_file_tr= f\"quip_2btrain.xyz\"\n",
    "    prediction_file_val= f\"quip_2bvalidate.xyz\"\n",
    "\n",
    "    # Predict energies on training data\n",
    "    model.predict(Test_Data=data_file, GAP_potential=potential, QUIP_Prediction=prediction_file_tr,print_output=False)\n",
    "    \n",
    "    # Predict energies on validation data\n",
    "    model.predict(Test_Data=validation_file, GAP_potential=potential, QUIP_Prediction=prediction_file_val,print_output=True)\n",
    "    \n",
    "    # Calculate RMSE of error, forces are scaled by 576 (number of forces per timestep: 192 atoms, \n",
    "    #3 spacial coordiantes) energies are scaled by factor 10^2 because energy scale is that much \n",
    "    # smaller then force scale\n",
    "    rmse_energy_train = model.energy_RMSE(data_file,prediction_file_tr) /192\n",
    "    rmse_force_train = model.force_RMSE(data_file,prediction_file_tr) / 576\n",
    "    rmse_energy_validate = model.energy_RMSE(validation_file,prediction_file_val) /192\n",
    "    rmse_force_validate = model.force_RMSE(validation_file,prediction_file_val) /576\n",
    "    \n",
    "    RMSE = rmse_energy_train + rmse_force_train + rmse_energy_validate + rmse_force_validate\n",
    "\n",
    "    # Make Plot \n",
    "    plot = QualityPlot()\n",
    "    # Make subplots object, returning axis object which is going to be passed to QualityPlot\n",
    "    figs, axs = plt.subplots(nrows=1,ncols=2,gridspec_kw={'wspace':1,'hspace':1})\n",
    "    \n",
    "    # Plot predicted energies of training data against real energies of training data\n",
    "    #plot.energies_on_energies(real_values=data_file, predicted_values=prediction_file_tr, \n",
    "                            #axis=axs[0],\n",
    "                            #title=\"\\n\".join(wrap(f\"Energy of Training Data  \"\n",
    "                            #f\"Theta-Uniform = {theta},              Sigma-Energy = {sigma_energy},       Sigma-Force = {sigma_force}\",30)))\n",
    "    \n",
    "    plot.forces_on_forces(real_values=data_file, predicted_values=prediction_file_tr, \n",
    "                        axis=axs[0],\n",
    "                       title=\"\")\n",
    "    #plot.energies_on_energies(real_values=validation_file, predicted_values=prediction_file_val, \n",
    "                            #axis=axs[1],\n",
    "                            #title=\"\\n\".join(wrap(f\"Energy of Validation Data \"\n",
    "                            #f\"Theta-Uniform = {theta} ,      Sigma-Energy = {sigma_energy},      Sigma-Force = {sigma_force}\",30)))\n",
    "    \n",
    "    plot.forces_on_forces(real_values=validation_file, predicted_values=prediction_file_val, \n",
    "                        axis=axs[1],\n",
    "                       title=\"\")\n",
    "    from matplotlib.backends.backend_pdf import PdfPages\n",
    "    with PdfPages(f\"{title}.pdf\") as pdf:\n",
    "        pdf.savefig(bbox_inches = \"tight\")\n",
    "    return RMSE"
   ]
  },
  {
   "cell_type": "markdown",
   "metadata": {},
   "source": [
    "## Plot Energies of Hydrogen Crystal"
   ]
  },
  {
   "cell_type": "code",
   "execution_count": 7,
   "metadata": {
    "scrolled": false
   },
   "outputs": [
    {
     "name": "stdout",
     "output_type": "stream",
     "text": [
      " distance_2b cutoff = 4 covariance_type = ARD_SE delta = 1 theta_uniform = 1 sparse_method = UNIFORM add_species = T n_sparse = 20\n",
      " quip E=T F=T  atoms_filename='test.xyz'  param_filename='GAP.xml' | grep AT | sed 's/AT//'  > quip_2bvalidate.xyz \n",
      "\n"
     ]
    },
    {
     "ename": "ValueError",
     "evalue": "operands could not be broadcast together with shapes (40,) (0,) ",
     "output_type": "error",
     "traceback": [
      "\u001b[0;31m---------------------------------------------------------------------------\u001b[0m",
      "\u001b[0;31mValueError\u001b[0m                                Traceback (most recent call last)",
      "\u001b[0;32m<ipython-input-7-357191882114>\u001b[0m in \u001b[0;36m<module>\u001b[0;34m\u001b[0m\n\u001b[1;32m      1\u001b[0m \u001b[0minitial_guess\u001b[0m\u001b[0;34m=\u001b[0m \u001b[0;34m[\u001b[0m\u001b[0;36m1\u001b[0m\u001b[0;34m,\u001b[0m\u001b[0;36m0.008\u001b[0m\u001b[0;34m,\u001b[0m\u001b[0;36m0.04\u001b[0m\u001b[0;34m]\u001b[0m\u001b[0;34m\u001b[0m\u001b[0;34m\u001b[0m\u001b[0m\n\u001b[0;32m----> 2\u001b[0;31m \u001b[0mRMSE_init\u001b[0m \u001b[0;34m=\u001b[0m \u001b[0mRMSE_plot_energy\u001b[0m\u001b[0;34m(\u001b[0m\u001b[0minitial_guess\u001b[0m\u001b[0;34m[\u001b[0m\u001b[0;36m0\u001b[0m\u001b[0;34m]\u001b[0m\u001b[0;34m,\u001b[0m\u001b[0minitial_guess\u001b[0m\u001b[0;34m[\u001b[0m\u001b[0;36m1\u001b[0m\u001b[0;34m]\u001b[0m\u001b[0;34m,\u001b[0m\u001b[0minitial_guess\u001b[0m\u001b[0;34m[\u001b[0m\u001b[0;36m2\u001b[0m\u001b[0;34m]\u001b[0m\u001b[0;34m,\u001b[0m\u001b[0mtitle\u001b[0m\u001b[0;34m=\u001b[0m\u001b[0;34mf\"Initial_Energies_HCrystal\"\u001b[0m\u001b[0;34m)\u001b[0m\u001b[0;34m\u001b[0m\u001b[0;34m\u001b[0m\u001b[0m\n\u001b[0m",
      "\u001b[0;32m<ipython-input-5-f6dc77f67b36>\u001b[0m in \u001b[0;36mRMSE_plot_energy\u001b[0;34m(theta, sigma_energy, sigma_force, title)\u001b[0m\n\u001b[1;32m     41\u001b[0m     \u001b[0;31m#3 spacial coordiantes) energies are scaled by factor 10^2 because energy scale is that much\u001b[0m\u001b[0;34m\u001b[0m\u001b[0;34m\u001b[0m\u001b[0;34m\u001b[0m\u001b[0m\n\u001b[1;32m     42\u001b[0m     \u001b[0;31m# smaller then force scale\u001b[0m\u001b[0;34m\u001b[0m\u001b[0;34m\u001b[0m\u001b[0;34m\u001b[0m\u001b[0m\n\u001b[0;32m---> 43\u001b[0;31m     \u001b[0mrmse_energy_train\u001b[0m \u001b[0;34m=\u001b[0m \u001b[0mmodel\u001b[0m\u001b[0;34m.\u001b[0m\u001b[0menergy_RMSE\u001b[0m\u001b[0;34m(\u001b[0m\u001b[0mdata_file\u001b[0m\u001b[0;34m,\u001b[0m\u001b[0mprediction_file_tr\u001b[0m\u001b[0;34m)\u001b[0m \u001b[0;34m/\u001b[0m\u001b[0;36m192\u001b[0m\u001b[0;34m\u001b[0m\u001b[0;34m\u001b[0m\u001b[0m\n\u001b[0m\u001b[1;32m     44\u001b[0m     \u001b[0mrmse_force_train\u001b[0m \u001b[0;34m=\u001b[0m \u001b[0mmodel\u001b[0m\u001b[0;34m.\u001b[0m\u001b[0mforce_RMSE\u001b[0m\u001b[0;34m(\u001b[0m\u001b[0mdata_file\u001b[0m\u001b[0;34m,\u001b[0m\u001b[0mprediction_file_tr\u001b[0m\u001b[0;34m)\u001b[0m \u001b[0;34m/\u001b[0m \u001b[0;36m576\u001b[0m\u001b[0;34m\u001b[0m\u001b[0;34m\u001b[0m\u001b[0m\n\u001b[1;32m     45\u001b[0m     \u001b[0mrmse_energy_validate\u001b[0m \u001b[0;34m=\u001b[0m \u001b[0mmodel\u001b[0m\u001b[0;34m.\u001b[0m\u001b[0menergy_RMSE\u001b[0m\u001b[0;34m(\u001b[0m\u001b[0mvalidation_file\u001b[0m\u001b[0;34m,\u001b[0m\u001b[0mprediction_file_val\u001b[0m\u001b[0;34m)\u001b[0m \u001b[0;34m/\u001b[0m\u001b[0;36m192\u001b[0m\u001b[0;34m\u001b[0m\u001b[0;34m\u001b[0m\u001b[0m\n",
      "\u001b[0;32m~/simon_ml/GAP/gapmodels.py\u001b[0m in \u001b[0;36menergy_RMSE\u001b[0;34m(self, real_values, predicted_values)\u001b[0m\n\u001b[1;32m    159\u001b[0m         \u001b[0mr\u001b[0m \u001b[0;34m=\u001b[0m \u001b[0mnp\u001b[0m\u001b[0;34m.\u001b[0m\u001b[0marray\u001b[0m\u001b[0;34m(\u001b[0m\u001b[0mreal_energies\u001b[0m\u001b[0;34m)\u001b[0m\u001b[0;34m\u001b[0m\u001b[0;34m\u001b[0m\u001b[0m\n\u001b[1;32m    160\u001b[0m         \u001b[0mp\u001b[0m \u001b[0;34m=\u001b[0m \u001b[0mnp\u001b[0m\u001b[0;34m.\u001b[0m\u001b[0marray\u001b[0m\u001b[0;34m(\u001b[0m\u001b[0mpredicted_energies\u001b[0m\u001b[0;34m)\u001b[0m\u001b[0;34m\u001b[0m\u001b[0;34m\u001b[0m\u001b[0m\n\u001b[0;32m--> 161\u001b[0;31m         \u001b[0mRMSE\u001b[0m \u001b[0;34m=\u001b[0m \u001b[0mnp\u001b[0m\u001b[0;34m.\u001b[0m\u001b[0msqrt\u001b[0m\u001b[0;34m(\u001b[0m\u001b[0mnp\u001b[0m\u001b[0;34m.\u001b[0m\u001b[0msum\u001b[0m\u001b[0;34m(\u001b[0m\u001b[0mnp\u001b[0m\u001b[0;34m.\u001b[0m\u001b[0mpower\u001b[0m\u001b[0;34m(\u001b[0m\u001b[0mr\u001b[0m\u001b[0;34m-\u001b[0m\u001b[0mp\u001b[0m\u001b[0;34m,\u001b[0m \u001b[0;36m2\u001b[0m\u001b[0;34m)\u001b[0m\u001b[0;34m)\u001b[0m\u001b[0;34m/\u001b[0m\u001b[0mlen\u001b[0m\u001b[0;34m(\u001b[0m\u001b[0mr\u001b[0m\u001b[0;34m)\u001b[0m\u001b[0;34m)\u001b[0m\u001b[0;34m\u001b[0m\u001b[0;34m\u001b[0m\u001b[0m\n\u001b[0m\u001b[1;32m    162\u001b[0m \u001b[0;34m\u001b[0m\u001b[0m\n\u001b[1;32m    163\u001b[0m         \u001b[0;32mreturn\u001b[0m \u001b[0mRMSE\u001b[0m\u001b[0;34m\u001b[0m\u001b[0;34m\u001b[0m\u001b[0m\n",
      "\u001b[0;31mValueError\u001b[0m: operands could not be broadcast together with shapes (40,) (0,) "
     ]
    }
   ],
   "source": [
    "initial_guess= [1,0.008,0.04] \n",
    "RMSE_init = RMSE_plot_energy(initial_guess[0],initial_guess[1],initial_guess[2],title=f\"Initial_Energies_HCrystal\")"
   ]
  },
  {
   "cell_type": "code",
   "execution_count": null,
   "metadata": {},
   "outputs": [],
   "source": [
    "opt_params_crystal = [0.38415538, 0.06524831, 0.05259016]\n",
    "RMSE_opt = RMSE_plot_energy(opt_params_crystal[0],opt_params_crystal[1],opt_params_crystal[2],title=f\"Opt_Energies_HCrystal\")"
   ]
  },
  {
   "cell_type": "markdown",
   "metadata": {},
   "source": [
    "## Plot Forces of Hydrogen Crystal"
   ]
  },
  {
   "cell_type": "code",
   "execution_count": null,
   "metadata": {},
   "outputs": [],
   "source": [
    "initial_guess = [1.000000,0.00800000,0.04000000] \n",
    "RMSE_init = RMSE_plot_force(initial_guess[0],initial_guess[1],initial_guess[2],title=f\"Initial_Forces_HCrystal\")\n",
    "RMSE_init "
   ]
  },
  {
   "cell_type": "code",
   "execution_count": null,
   "metadata": {},
   "outputs": [],
   "source": [
    "opt_params_crystal = [0.38415538, 0.06524831, 0.05259016]\n",
    "RMSE_opt = RMSE_plot_force(opt_params_crystal[0],opt_params_crystal[1],opt_params_crystal[2],title=f\"Opt_Forces_HCrystal\")\n",
    "RMSE_opt"
   ]
  },
  {
   "cell_type": "code",
   "execution_count": null,
   "metadata": {},
   "outputs": [],
   "source": []
  }
 ],
 "metadata": {
  "kernelspec": {
   "display_name": "Python 3",
   "language": "python",
   "name": "python3"
  },
  "language_info": {
   "codemirror_mode": {
    "name": "ipython",
    "version": 3
   },
   "file_extension": ".py",
   "mimetype": "text/x-python",
   "name": "python",
   "nbconvert_exporter": "python",
   "pygments_lexer": "ipython3",
   "version": "3.8.2"
  }
 },
 "nbformat": 4,
 "nbformat_minor": 4
}
