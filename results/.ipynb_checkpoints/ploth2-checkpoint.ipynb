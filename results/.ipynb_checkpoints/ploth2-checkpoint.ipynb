{
 "cells": [
  {
   "cell_type": "markdown",
   "metadata": {},
   "source": [
    "## Make neat plots for bachelor project with intial and optimal values for the models  H2-molecule"
   ]
  },
  {
   "cell_type": "markdown",
   "metadata": {},
   "source": [
    "## Importing everything we need"
   ]
  },
  {
   "cell_type": "code",
   "execution_count": 1,
   "metadata": {},
   "outputs": [],
   "source": [
    "# Importing everthing we need \n",
    "import sys\n",
    "sys.path.append('../')\n",
    "\n",
    "from GAP.gapmodels import GAPModel\n",
    "from GAP.gapmodels import Split\n",
    "from GAP.gapdescriptors import distance_2b\n",
    "from GAP.gapplot import QualityPlot\n",
    "import matplotlib.pyplot as plt\n",
    "from textwrap import wrap"
   ]
  },
  {
   "cell_type": "markdown",
   "metadata": {},
   "source": [
    "## fixed parameters "
   ]
  },
  {
   "cell_type": "code",
   "execution_count": 2,
   "metadata": {},
   "outputs": [],
   "source": [
    "cutoff = [4]\n",
    "n_sparse = [20]\n",
    "delta = [1]\n",
    "sparse_method = ['UNIFORM']\n",
    "covariance_type = ['ARD_SE']\n",
    "sigma_fixed = ['0.0 0.0'] # sigma for hessian and virial stress is not used and hence won't be optimized"
   ]
  },
  {
   "cell_type": "markdown",
   "metadata": {},
   "source": [
    "## variable parameters"
   ]
  },
  {
   "cell_type": "code",
   "execution_count": 3,
   "metadata": {},
   "outputs": [],
   "source": [
    "initial_guess = [1,0.008,0.04] \n",
    "opt_params_crystal = [0.38415538, 0.06524831, 0.05259016]\n",
    "opt_params_h2 = [ 0.32570375,  0.00797225, 0.00935375]"
   ]
  },
  {
   "cell_type": "markdown",
   "metadata": {},
   "source": [
    "## Split up the Data "
   ]
  },
  {
   "cell_type": "code",
   "execution_count": 4,
   "metadata": {},
   "outputs": [
    {
     "name": "stderr",
     "output_type": "stream",
     "text": [
      "/Library/Frameworks/Python.framework/Versions/3.8/lib/python3.8/site-packages/ase/io/extxyz.py:997: UserWarning: write_xyz() overwriting array \"forces\" present in atoms.arrays with stored results from calculator\n",
      "  warnings.warn('write_xyz() overwriting array \"{0}\" present '\n",
      "/Library/Frameworks/Python.framework/Versions/3.8/lib/python3.8/site-packages/ase/io/extxyz.py:997: UserWarning: write_xyz() overwriting array \"energies\" present in atoms.arrays with stored results from calculator\n",
      "  warnings.warn('write_xyz() overwriting array \"{0}\" present '\n"
     ]
    }
   ],
   "source": [
    "## Import Hydrogen_MD Data and split into training and test data, use split 80%/20%\n",
    "data='/Users/simon/simon_ml/tools/hydrogentuple.xyz'\n",
    "train_percentage = 0.8\n",
    "split = Split(data, train_percentage)\n",
    "\n",
    "#Perform the acutal split\n",
    "train_file = 'train.xyz'\n",
    "test_file = 'test.xyz'\n",
    "split.split(train_file, test_file)"
   ]
  },
  {
   "cell_type": "code",
   "execution_count": null,
   "metadata": {},
   "outputs": [],
   "source": []
  },
  {
   "cell_type": "markdown",
   "metadata": {},
   "source": []
  },
  {
   "cell_type": "code",
   "execution_count": null,
   "metadata": {},
   "outputs": [],
   "source": []
  },
  {
   "cell_type": "code",
   "execution_count": null,
   "metadata": {},
   "outputs": [],
   "source": []
  },
  {
   "cell_type": "markdown",
   "metadata": {},
   "source": []
  },
  {
   "cell_type": "code",
   "execution_count": null,
   "metadata": {},
   "outputs": [],
   "source": []
  },
  {
   "cell_type": "code",
   "execution_count": null,
   "metadata": {},
   "outputs": [],
   "source": [
    "\n"
   ]
  },
  {
   "cell_type": "code",
   "execution_count": null,
   "metadata": {},
   "outputs": [],
   "source": []
  },
  {
   "cell_type": "markdown",
   "metadata": {},
   "source": []
  },
  {
   "cell_type": "code",
   "execution_count": null,
   "metadata": {},
   "outputs": [],
   "source": []
  },
  {
   "cell_type": "code",
   "execution_count": null,
   "metadata": {},
   "outputs": [],
   "source": []
  },
  {
   "cell_type": "code",
   "execution_count": null,
   "metadata": {},
   "outputs": [],
   "source": []
  },
  {
   "cell_type": "code",
   "execution_count": null,
   "metadata": {},
   "outputs": [],
   "source": []
  },
  {
   "cell_type": "code",
   "execution_count": null,
   "metadata": {},
   "outputs": [],
   "source": []
  },
  {
   "cell_type": "markdown",
   "metadata": {},
   "source": [
    "## Test to figure out nice figure seetings"
   ]
  },
  {
   "cell_type": "markdown",
   "metadata": {},
   "source": []
  },
  {
   "cell_type": "code",
   "execution_count": 5,
   "metadata": {},
   "outputs": [],
   "source": [
    "def RMSE_plot_energy(theta,sigma_energy,sigma_force,title):\n",
    "    data_file = 'train.xyz'\n",
    "    validation_file = 'test.xyz'\n",
    "    # Initialize all parameters, fixed and variable\n",
    "    cutoff = 4\n",
    "    n_sparse = 20\n",
    "    delta = 1\n",
    "    sparse_method = 'UNIFORM'\n",
    "    covariance_type = 'ARD_SE'\n",
    "    sigma_fixed = '0.0 0.0' # sigma for hessian and virial stress is not used and hence won't be optimized\n",
    "    theta = theta\n",
    "    sigma_energy = sigma_energy\n",
    "    sigma_force = sigma_force\n",
    "    sigma = f\"{sigma_energy} {sigma_force} {sigma_fixed}\"\n",
    "    descriptor_2b = distance_2b(cutoff=cutoff, covariance_type=covariance_type,delta=delta,theta_uniform=theta,\n",
    "                                n_sparse=n_sparse, sparse_method=sparse_method,add_species='T')\n",
    "    \n",
    "    # Get parameter string\n",
    "    parameters = descriptor_2b.get_parameter_string()\n",
    "    \n",
    "    # Make model\n",
    "    model = GAPModel()\n",
    "\n",
    "    # Select filename in which potential should be stored \n",
    "    potential=f\"GAP.xml\"\n",
    "\n",
    "     # Train model\n",
    "    model.train(parameters, training_data=data_file,GAP_potential=potential,sigma=sigma,print_output=True)\n",
    "\n",
    "    # Select filename in which predictions should be stored for prediction data\n",
    "    prediction_file_tr= f\"quip_2btrain.xyz\"\n",
    "    prediction_file_val= f\"quip_2bvalidate.xyz\"\n",
    "\n",
    "    # Predict energies on training data\n",
    "    model.predict(Test_Data=data_file, GAP_potential=potential, QUIP_Prediction=prediction_file_tr,print_output=True)\n",
    "    \n",
    "    # Predict energies on validation data\n",
    "    model.predict(Test_Data=validation_file, GAP_potential=potential, QUIP_Prediction=prediction_file_val,print_output=True)\n",
    "    \n",
    "    # Calculate RMSE of error, forces are scaled by 576 (number of forces per timestep: 192 atoms, \n",
    "    #3 spacial coordiantes) energies are scaled by factor 10^2 because energy scale is that much \n",
    "    # smaller then force scale\n",
    "    rmse_energy_train = model.energy_RMSE(data_file,prediction_file_tr) /192\n",
    "    rmse_force_train = model.force_RMSE(data_file,prediction_file_tr) / 576\n",
    "    rmse_energy_validate = model.energy_RMSE(validation_file,prediction_file_val) /192\n",
    "    rmse_force_validate = model.force_RMSE(validation_file,prediction_file_val) /576\n",
    "    \n",
    "    RMSE = rmse_energy_train + rmse_force_train + rmse_energy_validate + rmse_force_validate\n",
    "\n",
    "    # Make Plot \n",
    "    plot = QualityPlot()\n",
    "    # Make subplots object, returning axis object which is going to be passed to QualityPlot\n",
    "    figs, axs = plt.subplots(nrows=1,ncols=2,gridspec_kw={'wspace':1,'hspace':1})\n",
    "    \n",
    "    # Plot predicted energies of training data against real energies of training data\n",
    "    plot.energies_on_energies(real_values=data_file, predicted_values=prediction_file_tr, \n",
    "                            axis=axs[0],\n",
    "                            title=\"\")\n",
    "    #plot.forces_on_forces(real_values=data_file, predicted_values=prediction_file_tr, \n",
    "                        #axis=axs[0,1],\n",
    "                        #title=\"\\n\".join(wrap(f\"Force of Training Data \"\n",
    "                        #f\"theta_uniform = {theta}, sigma_force = {sigma_force}\",20)))\n",
    "    \n",
    "    plot.energies_on_energies(real_values=validation_file, predicted_values=prediction_file_val, \n",
    "                            axis=axs[1],\n",
    "                            title=\"\")\n",
    "    #plot.forces_on_forces(real_values=validation_file, predicted_values=prediction_file_val, \n",
    "                        #axis=axs[1,1],\n",
    "                        #title=\"\\n\".join(wrap(f\"Force of Validation Data \"\n",
    "                        #f\"theta_uniform = {theta}, sigma_force = {sigma_force}\",20)))\n",
    "    from matplotlib.backends.backend_pdf import PdfPages\n",
    "    with PdfPages(f\"{title}.pdf\") as pdf:\n",
    "        pdf.savefig(bbox_inches = \"tight\")\n",
    "    return RMSE"
   ]
  },
  {
   "cell_type": "code",
   "execution_count": 6,
   "metadata": {},
   "outputs": [],
   "source": [
    "def RMSE_plot_force(theta,sigma_energy,sigma_force,title):\n",
    "    data_file = 'train.xyz'\n",
    "    validation_file = 'test.xyz'\n",
    "    # Initialize all parameters, fixed and variable\n",
    "    cutoff = 4\n",
    "    n_sparse = 20\n",
    "    delta = 1\n",
    "    sparse_method = 'UNIFORM'\n",
    "    covariance_type = 'ARD_SE'\n",
    "    sigma_fixed = '0.0 0.0' # sigma for hessian and virial stress is not used and hence won't be optimized\n",
    "    theta = theta\n",
    "    sigma_energy = sigma_energy\n",
    "    sigma_force = sigma_force\n",
    "    sigma = f\"{sigma_energy} {sigma_force} {sigma_fixed}\"\n",
    "    descriptor_2b = distance_2b(cutoff=cutoff, covariance_type=covariance_type,delta=delta,theta_uniform=theta,\n",
    "                                n_sparse=n_sparse, sparse_method=sparse_method,add_species='T')\n",
    "    \n",
    "    # Get parameter string\n",
    "    parameters = descriptor_2b.get_parameter_string()\n",
    "    \n",
    "    # Make model\n",
    "    model = GAPModel()\n",
    "\n",
    "    # Select filename in which potential should be stored \n",
    "    potential=f\"GAP.xml\"\n",
    "\n",
    "     # Train model\n",
    "    model.train(parameters, training_data=data_file,GAP_potential=potential,sigma=sigma,print_output=False)\n",
    "\n",
    "    # Select filename in which predictions should be stored for prediction data\n",
    "    prediction_file_tr= f\"quip_2btrain.xyz\"\n",
    "    prediction_file_val= f\"quip_2bvalidate.xyz\"\n",
    "\n",
    "    # Predict energies on training data\n",
    "    model.predict(Test_Data=data_file, GAP_potential=potential, QUIP_Prediction=prediction_file_tr,print_output=False)\n",
    "    \n",
    "    # Predict energies on validation data\n",
    "    model.predict(Test_Data=validation_file, GAP_potential=potential, QUIP_Prediction=prediction_file_val,print_output=True)\n",
    "    \n",
    "    # Calculate RMSE of error, forces are scaled by 576 (number of forces per timestep: 192 atoms, \n",
    "    #3 spacial coordiantes) energies are scaled by factor 10^2 because energy scale is that much \n",
    "    # smaller then force scale\n",
    "    rmse_energy_train = model.energy_RMSE(data_file,prediction_file_tr) /192\n",
    "    rmse_force_train = model.force_RMSE(data_file,prediction_file_tr) / 576\n",
    "    rmse_energy_validate = model.energy_RMSE(validation_file,prediction_file_val) /192\n",
    "    rmse_force_validate = model.force_RMSE(validation_file,prediction_file_val) /576\n",
    "    \n",
    "    RMSE = rmse_energy_train + rmse_force_train + rmse_energy_validate + rmse_force_validate\n",
    "\n",
    "    # Make Plot \n",
    "    plot = QualityPlot()\n",
    "    # Make subplots object, returning axis object which is going to be passed to QualityPlot\n",
    "    figs, axs = plt.subplots(nrows=1,ncols=2,gridspec_kw={'wspace':1,'hspace':1})\n",
    "    \n",
    "    # Plot predicted energies of training data against real energies of training data\n",
    "    #plot.energies_on_energies(real_values=data_file, predicted_values=prediction_file_tr, \n",
    "                            #axis=axs[0],\n",
    "                            #title=\"\\n\".join(wrap(f\"Energy of Training Data  \"\n",
    "                            #f\"Theta-Uniform = {theta},              Sigma-Energy = {sigma_energy},       Sigma-Force = {sigma_force}\",30)))\n",
    "    \n",
    "    plot.forces_on_forces(real_values=data_file, predicted_values=prediction_file_tr, \n",
    "                        axis=axs[0],\n",
    "                       title=\"\")\n",
    "    #plot.energies_on_energies(real_values=validation_file, predicted_values=prediction_file_val, \n",
    "                            #axis=axs[1],\n",
    "                            #title=\"\\n\".join(wrap(f\"Energy of Validation Data \"\n",
    "                            #f\"Theta-Uniform = {theta} ,      Sigma-Energy = {sigma_energy},      Sigma-Force = {sigma_force}\",30)))\n",
    "    \n",
    "    plot.forces_on_forces(real_values=validation_file, predicted_values=prediction_file_val, \n",
    "                        axis=axs[1],\n",
    "                       title=\"\")\n",
    "    from matplotlib.backends.backend_pdf import PdfPages\n",
    "    with PdfPages(f\"{title}.pdf\") as pdf:\n",
    "        pdf.savefig(bbox_inches = \"tight\")\n",
    "    return RMSE"
   ]
  },
  {
   "cell_type": "markdown",
   "metadata": {},
   "source": [
    "## Plot Energies of Hydrogen Molecule "
   ]
  },
  {
   "cell_type": "code",
   "execution_count": 7,
   "metadata": {
    "scrolled": false
   },
   "outputs": [
    {
     "name": "stdout",
     "output_type": "stream",
     "text": [
      " distance_2b cutoff = 4 covariance_type = ARD_SE delta = 1 theta_uniform = 1.0 sparse_method = UNIFORM add_species = T n_sparse = 20\n",
      " gap_fit energy_parameter_name = energy  force_parameter_name = forces do_copy_at_file = F  sparse_separate_file = T gp_file = GAP.xml at_file = 'train.xyz'  default_sigma = { 0.008 0.04 0.0 0.0 } gap = {  distance_2b cutoff = 4 covariance_type = ARD_SE delta = 1 theta_uniform = 1.0 sparse_method = UNIFORM add_species = T n_sparse = 20}\n",
      "libAtoms::Hello World: 12/05/2021   16:24:17\n",
      "libAtoms::Hello World: git version  https://github.com/libAtoms/QUIP.git,357e28d15-dirty\n",
      "libAtoms::Hello World: QUIP_ARCH    darwin_x86_64_gfortran\n",
      "libAtoms::Hello World: compiled on  Jan 15 2021 at 14:52:24\n",
      "libAtoms::Hello World: Random Seed = 59057152\n",
      "libAtoms::Hello World: global verbosity = 0\n",
      "\n",
      "Calls to system_timer will do nothing by default\n",
      "\n",
      "\n",
      "================================ Input parameters ==============================\n",
      "\n",
      "atoms_filename = //MANDATORY//\n",
      "at_file = train.xyz\n",
      "gap = \" distance_2b cutoff = 4 covariance_type = ARD_SE delta = 1 theta_uniform = 1.0 sparse_method = UNIFORM add_species = T n_sparse = 20\"\n",
      "e0 = 0.0\n",
      "local_property0 = 0.0\n",
      "e0_offset = 0.0\n",
      "e0_method = isolated\n",
      "default_kernel_regularisation = //MANDATORY//\n",
      "default_sigma = \" 0.008 0.04 0.0 0.0\"\n",
      "sparse_jitter = 1.0e-10\n",
      "hessian_displacement = 1.0e-2\n",
      "hessian_delta = 1.0e-2\n",
      "baseline_param_filename = quip_params.xml\n",
      "core_param_file = quip_params.xml\n",
      "baseline_ip_args =\n",
      "core_ip_args =\n",
      "energy_parameter_name = energy\n",
      "local_property_parameter_name = local_property\n",
      "force_parameter_name = forces\n",
      "virial_parameter_name = virial\n",
      "hessian_parameter_name = hessian\n",
      "config_type_parameter_name = config_type\n",
      "kernel_regularisation_parameter_name = sigma\n",
      "sigma_parameter_name = sigma\n",
      "force_mask_parameter_name = force_mask\n",
      "parameter_name_prefix =\n",
      "config_type_kernel_regularisation =\n",
      "config_type_sigma =\n",
      "kernel_regularisation_is_per_atom = T\n",
      "sigma_per_atom = T\n",
      "do_copy_atoms_file = T\n",
      "do_copy_at_file = F\n",
      "sparse_separate_file = T\n",
      "sparse_use_actual_gpcov = F\n",
      "gap_file = gap_new.xml\n",
      "gp_file = GAP.xml\n",
      "verbosity = NORMAL\n",
      "rnd_seed = -1\n",
      "openmp_chunk_size = 1\n",
      "do_ip_timing = F\n",
      "template_file = template.xyz\n",
      "sparsify_only_no_fit = F\n",
      "\n",
      "========================================  ======================================\n",
      "\n",
      "\n",
      "============== Gaussian Approximation Potentials - Database fitting ============\n",
      "\n",
      "\n",
      "Initial parsing of command line arguments finished.\n",
      "Found 1 GAPs.\n",
      "Descriptors have been parsed\n",
      "XYZ file read\n",
      "Old GAP: { distance_2b cutoff = 4 covariance_type = ARD_SE delta = 1 theta_uniform = 1.0 sparse_method = UNIFORM add_species = T n_sparse = 20}\n",
      "New GAP: { distance_2b cutoff = 4 covariance_type = ARD_SE delta = 1 theta_uniform = 1.0 sparse_method = UNIFORM             = T n_sparse = 20 Z1=1 Z2=1}\n",
      "Multispecies support added where requested\n",
      "\n",
      "===================== Report on number of descriptors found ====================\n",
      "\n",
      "---------------------------------------------------------------------\n",
      "Descriptor:  distance_2b cutoff = 4 covariance_type = ARD_SE delta = 1 theta_uniform = 1.0 sparse_method = UNIFORM             = T n_sparse = 20 Z1=1 Z2=1\n",
      "Number of descriptors:                        80\n",
      "Number of partial derivatives of descriptors: 480\n",
      "\n",
      "========================================  ======================================\n",
      "\n",
      "E0/atom =   0.32100000000000000E+001  0.00000000000000000E+000  0.00000000000000000E+000  0.00000000000000000E+000  0.00000000000000000E+000  0.00000000000000000E+000  0.00000000000000000E+000  0.00000000000000000E+000  0.00000000000000000E+000  0.00000000000000000E+000  0.00000000000000000E+000  0.00000000000000000E+000  0.00000000000000000E+000  0.00000000000000000E+000  0.00000000000000000E+000  0.00000000000000000E+000  0.00000000000000000E+000  0.00000000000000000E+000  0.00000000000000000E+000  0.00000000000000000E+000  0.00000000000000000E+000  0.00000000000000000E+000  0.00000000000000000E+000  0.00000000000000000E+000  0.00000000000000000E+000  0.00000000000000000E+000  0.00000000000000000E+000  0.00000000000000000E+000  0.00000000000000000E+000  0.00000000000000000E+000  0.00000000000000000E+000  0.00000000000000000E+000  0.00000000000000000E+000  0.00000000000000000E+000  0.00000000000000000E+000  0.00000000000000000E+000  0.00000000000000000E+000  0.00000000000000000E+000  0.00000000000000000E+000  0.00000000000000000E+000  0.00000000000000000E+000  0.00000000000000000E+000  0.00000000000000000E+000  0.00000000000000000E+000  0.00000000000000000E+000  0.00000000000000000E+000  0.00000000000000000E+000  0.00000000000000000E+000  0.00000000000000000E+000  0.00000000000000000E+000  0.00000000000000000E+000  0.00000000000000000E+000  0.00000000000000000E+000  0.00000000000000000E+000  0.00000000000000000E+000  0.00000000000000000E+000  0.00000000000000000E+000  0.00000000000000000E+000  0.00000000000000000E+000  0.00000000000000000E+000  0.00000000000000000E+000  0.00000000000000000E+000  0.00000000000000000E+000  0.00000000000000000E+000  0.00000000000000000E+000  0.00000000000000000E+000  0.00000000000000000E+000  0.00000000000000000E+000  0.00000000000000000E+000  0.00000000000000000E+000  0.00000000000000000E+000  0.00000000000000000E+000  0.00000000000000000E+000  0.00000000000000000E+000  0.00000000000000000E+000  0.00000000000000000E+000  0.00000000000000000E+000  0.00000000000000000E+000  0.00000000000000000E+000  0.00000000000000000E+000  0.00000000000000000E+000  0.00000000000000000E+000  0.00000000000000000E+000  0.00000000000000000E+000  0.00000000000000000E+000  0.00000000000000000E+000  0.00000000000000000E+000  0.00000000000000000E+000  0.00000000000000000E+000  0.00000000000000000E+000  0.00000000000000000E+000  0.00000000000000000E+000  0.00000000000000000E+000  0.00000000000000000E+000  0.00000000000000000E+000  0.00000000000000000E+000  0.00000000000000000E+000  0.00000000000000000E+000  0.00000000000000000E+000  0.00000000000000000E+000  0.00000000000000000E+000  0.00000000000000000E+000  0.00000000000000000E+000  0.00000000000000000E+000  0.00000000000000000E+000  0.00000000000000000E+000  0.00000000000000000E+000  0.00000000000000000E+000  0.00000000000000000E+000  0.00000000000000000E+000  0.00000000000000000E+000  0.00000000000000000E+000  0.00000000000000000E+000  0.00000000000000000E+000  0.00000000000000000E+000  0.00000000000000000E+000  0.00000000000000000E+000  0.00000000000000000E+000\n",
      "\n",
      "========== Report on number of target properties found in training XYZ: ========\n",
      "\n",
      "Number of target energies (property name: energy) found: 41\n",
      "Number of target local_properties (property name: local_property) found: 0\n",
      "Number of target forces (property name: forces) found: 243\n",
      "Number of target virials (property name: virial) found: 0\n",
      "Number of target Hessian eigenvalues (property name: hessian) found: 0\n",
      "\n",
      "================================= End of report ================================\n",
      "\n",
      "\n",
      "===== Report on per-configuration/per-atom sigma (error parameter) settings ====\n",
      "\n",
      "Number of per-configuration setting of energy_sigma found:     0\n",
      "Number of per-configuration setting of force_sigma found:      0\n",
      "Number of per-configuration setting of virial_sigma found:     0\n",
      "Number of per-configuration setting of hessian_sigma found:    0\n",
      "Number of per-atom setting of force_atom_sigma found:          0\n",
      "Number of per-component setting of force_component_sigma found:          0\n",
      "\n",
      "================================= End of report ================================\n",
      "\n",
      "Cartesian coordinates transformed to descriptors\n",
      "Started sparse covariance matrix calculation of coordinate 1\n",
      "\n",
      "Finished sparse covariance matrix calculation of coordinate 1\n",
      "TIMER: gpFull_covarianceMatrix_sparse_Coordinate1_sparse  done in .23419999999999969E-002 cpu secs, .23961067199707031E-002 wall clock secs.\n",
      "TIMER: gpFull_covarianceMatrix_sparse_Coordinate1         done in .23639999999999980E-002 cpu secs, .24192333221435547E-002 wall clock secs.\n",
      "TIMER: gpFull_covarianceMatrix_sparse_LinearAlgebra       done in .12416999999999997E-001 cpu secs, .21032810211181641E-001 wall clock secs.\n",
      "TIMER: gpFull_covarianceMatrix_sparse_FunctionValues      done in .20000000000020002E-005 cpu secs, .16689300537109375E-005 wall clock secs.\n",
      "TIMER: gpFull_covarianceMatrix_sparse                     done in .14905000000000002E-001 cpu secs, .23569822311401367E-001 wall clock secs.\n",
      "TIMER: GP sparsify                                        done in .28077000000000005E-001 cpu secs, .53601980209350586E-001 wall clock secs.\n",
      "\n",
      "libAtoms::Finalise: 12/05/2021   16:24:17\n",
      "libAtoms::Finalise: Bye-Bye!\n",
      "\n",
      " quip E=T F=T  atoms_filename='train.xyz'  param_filename='GAP.xml' | grep AT | sed 's/AT//'  > quip_2btrain.xyz \n"
     ]
    },
    {
     "name": "stdout",
     "output_type": "stream",
     "text": [
      "\n",
      " quip E=T F=T  atoms_filename='test.xyz'  param_filename='GAP.xml' | grep AT | sed 's/AT//'  > quip_2bvalidate.xyz \n",
      "\n"
     ]
    },
    {
     "data": {
      "text/plain": [
       "0.0012118267751798357"
      ]
     },
     "execution_count": 7,
     "metadata": {},
     "output_type": "execute_result"
    },
    {
     "data": {
      "image/png": "[encoded data removed]",
      "text/plain": [
       "<Figure size 432x288 with 2 Axes>"
      ]
     },
     "metadata": {
      "needs_background": "light"
     },
     "output_type": "display_data"
    }
   ],
   "source": [
    "initial_guess = [1.000000,0.00800000,0.04000000] \n",
    "RMSE_init = RMSE_plot_energy(initial_guess[0],initial_guess[1],initial_guess[2],title=f\"Initial_Energies_H2_notitle\")\n",
    "RMSE_init"
   ]
  },
  {
   "cell_type": "code",
   "execution_count": 8,
   "metadata": {},
   "outputs": [
    {
     "name": "stdout",
     "output_type": "stream",
     "text": [
      " distance_2b cutoff = 4 covariance_type = ARD_SE delta = 1 theta_uniform = 0.32570375 sparse_method = UNIFORM add_species = T n_sparse = 20\n",
      " gap_fit energy_parameter_name = energy  force_parameter_name = forces do_copy_at_file = F  sparse_separate_file = T gp_file = GAP.xml at_file = 'train.xyz'  default_sigma = { 0.00797225 0.00935375 0.0 0.0 } gap = {  distance_2b cutoff = 4 covariance_type = ARD_SE delta = 1 theta_uniform = 0.32570375 sparse_method = UNIFORM add_species = T n_sparse = 20}\n",
      "libAtoms::Hello World: 12/05/2021   16:24:18\n",
      "libAtoms::Hello World: git version  https://github.com/libAtoms/QUIP.git,357e28d15-dirty\n",
      "libAtoms::Hello World: QUIP_ARCH    darwin_x86_64_gfortran\n",
      "libAtoms::Hello World: compiled on  Jan 15 2021 at 14:52:24\n",
      "libAtoms::Hello World: Random Seed = 59058399\n",
      "libAtoms::Hello World: global verbosity = 0\n",
      "\n",
      "Calls to system_timer will do nothing by default\n",
      "\n",
      "\n",
      "================================ Input parameters ==============================\n",
      "\n",
      "atoms_filename = //MANDATORY//\n",
      "at_file = train.xyz\n",
      "gap = \" distance_2b cutoff = 4 covariance_type = ARD_SE delta = 1 theta_uniform = 0.32570375 sparse_method = UNIFORM add_species = T n_sparse = 20\"\n",
      "e0 = 0.0\n",
      "local_property0 = 0.0\n",
      "e0_offset = 0.0\n",
      "e0_method = isolated\n",
      "default_kernel_regularisation = //MANDATORY//\n",
      "default_sigma = \" 0.00797225 0.00935375 0.0 0.0\"\n",
      "sparse_jitter = 1.0e-10\n",
      "hessian_displacement = 1.0e-2\n",
      "hessian_delta = 1.0e-2\n",
      "baseline_param_filename = quip_params.xml\n",
      "core_param_file = quip_params.xml\n",
      "baseline_ip_args =\n",
      "core_ip_args =\n",
      "energy_parameter_name = energy\n",
      "local_property_parameter_name = local_property\n",
      "force_parameter_name = forces\n",
      "virial_parameter_name = virial\n",
      "hessian_parameter_name = hessian\n",
      "config_type_parameter_name = config_type\n",
      "kernel_regularisation_parameter_name = sigma\n",
      "sigma_parameter_name = sigma\n",
      "force_mask_parameter_name = force_mask\n",
      "parameter_name_prefix =\n",
      "config_type_kernel_regularisation =\n",
      "config_type_sigma =\n",
      "kernel_regularisation_is_per_atom = T\n",
      "sigma_per_atom = T\n",
      "do_copy_atoms_file = T\n",
      "do_copy_at_file = F\n",
      "sparse_separate_file = T\n",
      "sparse_use_actual_gpcov = F\n",
      "gap_file = gap_new.xml\n",
      "gp_file = GAP.xml\n",
      "verbosity = NORMAL\n",
      "rnd_seed = -1\n",
      "openmp_chunk_size = 1\n",
      "do_ip_timing = F\n",
      "template_file = template.xyz\n",
      "sparsify_only_no_fit = F\n",
      "\n",
      "========================================  ======================================\n",
      "\n",
      "\n",
      "============== Gaussian Approximation Potentials - Database fitting ============\n",
      "\n",
      "\n",
      "Initial parsing of command line arguments finished.\n",
      "Found 1 GAPs.\n",
      "Descriptors have been parsed\n",
      "XYZ file read\n",
      "Old GAP: { distance_2b cutoff = 4 covariance_type = ARD_SE delta = 1 theta_uniform = 0.32570375 sparse_method = UNIFORM add_species = T n_sparse = 20}\n",
      "New GAP: { distance_2b cutoff = 4 covariance_type = ARD_SE delta = 1 theta_uniform = 0.32570375 sparse_method = UNIFORM             = T n_sparse = 20 Z1=1 Z2=1}\n",
      "Multispecies support added where requested\n",
      "\n",
      "===================== Report on number of descriptors found ====================\n",
      "\n",
      "---------------------------------------------------------------------\n",
      "Descriptor:  distance_2b cutoff = 4 covariance_type = ARD_SE delta = 1 theta_uniform = 0.32570375 sparse_method = UNIFORM             = T n_sparse = 20 Z1=1 Z2=1\n",
      "Number of descriptors:                        80\n",
      "Number of partial derivatives of descriptors: 480\n",
      "\n",
      "========================================  ======================================\n",
      "\n",
      "E0/atom =   0.32100000000000000E+001  0.00000000000000000E+000  0.00000000000000000E+000  0.00000000000000000E+000  0.00000000000000000E+000  0.00000000000000000E+000  0.00000000000000000E+000  0.00000000000000000E+000  0.00000000000000000E+000  0.00000000000000000E+000  0.00000000000000000E+000  0.00000000000000000E+000  0.00000000000000000E+000  0.00000000000000000E+000  0.00000000000000000E+000  0.00000000000000000E+000  0.00000000000000000E+000  0.00000000000000000E+000  0.00000000000000000E+000  0.00000000000000000E+000  0.00000000000000000E+000  0.00000000000000000E+000  0.00000000000000000E+000  0.00000000000000000E+000  0.00000000000000000E+000  0.00000000000000000E+000  0.00000000000000000E+000  0.00000000000000000E+000  0.00000000000000000E+000  0.00000000000000000E+000  0.00000000000000000E+000  0.00000000000000000E+000  0.00000000000000000E+000  0.00000000000000000E+000  0.00000000000000000E+000  0.00000000000000000E+000  0.00000000000000000E+000  0.00000000000000000E+000  0.00000000000000000E+000  0.00000000000000000E+000  0.00000000000000000E+000  0.00000000000000000E+000  0.00000000000000000E+000  0.00000000000000000E+000  0.00000000000000000E+000  0.00000000000000000E+000  0.00000000000000000E+000  0.00000000000000000E+000  0.00000000000000000E+000  0.00000000000000000E+000  0.00000000000000000E+000  0.00000000000000000E+000  0.00000000000000000E+000  0.00000000000000000E+000  0.00000000000000000E+000  0.00000000000000000E+000  0.00000000000000000E+000  0.00000000000000000E+000  0.00000000000000000E+000  0.00000000000000000E+000  0.00000000000000000E+000  0.00000000000000000E+000  0.00000000000000000E+000  0.00000000000000000E+000  0.00000000000000000E+000  0.00000000000000000E+000  0.00000000000000000E+000  0.00000000000000000E+000  0.00000000000000000E+000  0.00000000000000000E+000  0.00000000000000000E+000  0.00000000000000000E+000  0.00000000000000000E+000  0.00000000000000000E+000  0.00000000000000000E+000  0.00000000000000000E+000  0.00000000000000000E+000  0.00000000000000000E+000  0.00000000000000000E+000  0.00000000000000000E+000  0.00000000000000000E+000  0.00000000000000000E+000  0.00000000000000000E+000  0.00000000000000000E+000  0.00000000000000000E+000  0.00000000000000000E+000  0.00000000000000000E+000  0.00000000000000000E+000  0.00000000000000000E+000  0.00000000000000000E+000  0.00000000000000000E+000  0.00000000000000000E+000  0.00000000000000000E+000  0.00000000000000000E+000  0.00000000000000000E+000  0.00000000000000000E+000  0.00000000000000000E+000  0.00000000000000000E+000  0.00000000000000000E+000  0.00000000000000000E+000  0.00000000000000000E+000  0.00000000000000000E+000  0.00000000000000000E+000  0.00000000000000000E+000  0.00000000000000000E+000  0.00000000000000000E+000  0.00000000000000000E+000  0.00000000000000000E+000  0.00000000000000000E+000  0.00000000000000000E+000  0.00000000000000000E+000  0.00000000000000000E+000  0.00000000000000000E+000  0.00000000000000000E+000  0.00000000000000000E+000  0.00000000000000000E+000  0.00000000000000000E+000  0.00000000000000000E+000\n",
      "\n",
      "========== Report on number of target properties found in training XYZ: ========\n",
      "\n",
      "Number of target energies (property name: energy) found: 41\n",
      "Number of target local_properties (property name: local_property) found: 0\n",
      "Number of target forces (property name: forces) found: 243\n",
      "Number of target virials (property name: virial) found: 0\n",
      "Number of target Hessian eigenvalues (property name: hessian) found: 0\n",
      "\n",
      "================================= End of report ================================\n",
      "\n",
      "\n",
      "===== Report on per-configuration/per-atom sigma (error parameter) settings ====\n",
      "\n",
      "Number of per-configuration setting of energy_sigma found:     0\n",
      "Number of per-configuration setting of force_sigma found:      0\n",
      "Number of per-configuration setting of virial_sigma found:     0\n",
      "Number of per-configuration setting of hessian_sigma found:    0\n",
      "Number of per-atom setting of force_atom_sigma found:          0\n",
      "Number of per-component setting of force_component_sigma found:          0\n",
      "\n",
      "================================= End of report ================================\n",
      "\n",
      "Cartesian coordinates transformed to descriptors\n",
      "Started sparse covariance matrix calculation of coordinate 1\n",
      "\n",
      "Finished sparse covariance matrix calculation of coordinate 1\n",
      "TIMER: gpFull_covarianceMatrix_sparse_Coordinate1_sparse  done in .21559999999999982E-002 cpu secs, .21598339080810547E-002 wall clock secs.\n",
      "TIMER: gpFull_covarianceMatrix_sparse_Coordinate1         done in .21749999999999964E-002 cpu secs, .21781921386718750E-002 wall clock secs.\n",
      "TIMER: gpFull_covarianceMatrix_sparse_LinearAlgebra       done in .36700000000000621E-003 cpu secs, .22912025451660156E-003 wall clock secs.\n",
      "TIMER: gpFull_covarianceMatrix_sparse_FunctionValues      done in .20000000000020002E-005 cpu secs, .11920928955078125E-005 wall clock secs.\n",
      "TIMER: gpFull_covarianceMatrix_sparse                     done in .26349999999999985E-002 cpu secs, .24991035461425781E-002 wall clock secs.\n",
      "TIMER: GP sparsify                                        done in .83350000000000021E-002 cpu secs, .12578964233398438E-001 wall clock secs.\n",
      "\n",
      "libAtoms::Finalise: 12/05/2021   16:24:18\n",
      "libAtoms::Finalise: Bye-Bye!\n",
      "\n",
      " quip E=T F=T  atoms_filename='train.xyz'  param_filename='GAP.xml' | grep AT | sed 's/AT//'  > quip_2btrain.xyz \n"
     ]
    },
    {
     "name": "stdout",
     "output_type": "stream",
     "text": [
      "\n",
      " quip E=T F=T  atoms_filename='test.xyz'  param_filename='GAP.xml' | grep AT | sed 's/AT//'  > quip_2bvalidate.xyz \n",
      "\n"
     ]
    },
    {
     "data": {
      "text/plain": [
       "2.8090354843000635e-05"
      ]
     },
     "execution_count": 8,
     "metadata": {},
     "output_type": "execute_result"
    },
    {
     "data": {
      "image/png": "[encoded data removed]",
      "text/plain": [
       "<Figure size 432x288 with 2 Axes>"
      ]
     },
     "metadata": {
      "needs_background": "light"
     },
     "output_type": "display_data"
    }
   ],
   "source": [
    "opt_params_h2 = [ 0.32570375,  0.00797225, 0.00935375]\n",
    "RMSE_opt = RMSE_plot_energy(opt_params_h2[0],opt_params_h2[1],opt_params_h2[2],title=f\"Opt_Energies_H2_notitle\")\n",
    "RMSE_opt"
   ]
  },
  {
   "cell_type": "markdown",
   "metadata": {},
   "source": [
    "## Plot Forces of Hydrogen Molecule "
   ]
  },
  {
   "cell_type": "code",
   "execution_count": 9,
   "metadata": {},
   "outputs": [
    {
     "name": "stdout",
     "output_type": "stream",
     "text": [
      " distance_2b cutoff = 4 covariance_type = ARD_SE delta = 1 theta_uniform = 1.0 sparse_method = UNIFORM add_species = T n_sparse = 20\n",
      " quip E=T F=T  atoms_filename='test.xyz'  param_filename='GAP.xml' | grep AT | sed 's/AT//'  > quip_2bvalidate.xyz \n",
      "\n"
     ]
    },
    {
     "data": {
      "image/png": "[encoded data removed]",
      "text/plain": [
       "<Figure size 432x288 with 2 Axes>"
      ]
     },
     "metadata": {
      "needs_background": "light"
     },
     "output_type": "display_data"
    }
   ],
   "source": [
    "initial_guess = [1.000000,0.00800000,0.04000000] \n",
    "RMSE_init = RMSE_plot_force(initial_guess[0],initial_guess[1],initial_guess[2],title=f\"Initial_Forces_H2_notitle\")\n"
   ]
  },
  {
   "cell_type": "code",
   "execution_count": 10,
   "metadata": {},
   "outputs": [
    {
     "name": "stdout",
     "output_type": "stream",
     "text": [
      " distance_2b cutoff = 4 covariance_type = ARD_SE delta = 1 theta_uniform = 0.32570375 sparse_method = UNIFORM add_species = T n_sparse = 20\n",
      " quip E=T F=T  atoms_filename='test.xyz'  param_filename='GAP.xml' | grep AT | sed 's/AT//'  > quip_2bvalidate.xyz \n",
      "\n"
     ]
    },
    {
     "data": {
      "image/png": "[encoded data removed]",
      "text/plain": [
       "<Figure size 432x288 with 2 Axes>"
      ]
     },
     "metadata": {
      "needs_background": "light"
     },
     "output_type": "display_data"
    }
   ],
   "source": [
    "opt_params_h2 = [ 0.32570375,  0.00797225, 0.00935375]\n",
    "RMSE_opt = RMSE_plot_force(opt_params_h2[0],opt_params_h2[1],opt_params_h2[2],title=f\"Opt_Forces_H2_notitle\")"
   ]
  },
  {
   "cell_type": "code",
   "execution_count": null,
   "metadata": {},
   "outputs": [],
   "source": []
  }
 ],
 "metadata": {
  "kernelspec": {
   "display_name": "Python 3",
   "language": "python",
   "name": "python3"
  },
  "language_info": {
   "codemirror_mode": {
    "name": "ipython",
    "version": 3
   },
   "file_extension": ".py",
   "mimetype": "text/x-python",
   "name": "python",
   "nbconvert_exporter": "python",
   "pygments_lexer": "ipython3",
   "version": "3.8.2"
  }
 },
 "nbformat": 4,
 "nbformat_minor": 4
}
