{
 "cells": [
  {
   "cell_type": "markdown",
   "metadata": {},
   "source": [
    "# File to test gap_modules - simon "
   ]
  },
  {
   "cell_type": "markdown",
   "metadata": {},
   "source": [
    "## Importing modules and classes"
   ]
  },
  {
   "cell_type": "code",
   "execution_count": 1,
   "metadata": {},
   "outputs": [],
   "source": [
    "# Using the model with the simplest descriptor, 2b - two body distance\n",
    "from gapmodels import GAPModel\n",
    "from gapdescriptors import distance_2b"
   ]
  },
  {
   "cell_type": "markdown",
   "metadata": {},
   "source": [
    "## Creating instances of models and descriptors"
   ]
  },
  {
   "cell_type": "code",
   "execution_count": 2,
   "metadata": {},
   "outputs": [
    {
     "name": "stdout",
     "output_type": "stream",
     "text": [
      " distance_2b cutoff = 5 covariance_type = ARD_SE delta = 0.5 theta_uniform = 1 sparse_method = uniform add_species = T n_sparse = 30\n"
     ]
    }
   ],
   "source": [
    "# Initialize distance_2_b descriptor\n",
    "descriptor_2b = distance_2b(cutoff=5,covariance_type='ARD_SE',delta=0.5,theta_uniform=1,sparse_method='uniform',add_species='T',n_sparse=30)"
   ]
  },
  {
   "cell_type": "code",
   "execution_count": 3,
   "metadata": {},
   "outputs": [],
   "source": [
    "# Make instances of GAPModel\n",
    "model = GAPModel()\n"
   ]
  },
  {
   "cell_type": "markdown",
   "metadata": {},
   "source": [
    "## Splitting up the Data into training data and test data"
   ]
  },
  {
   "cell_type": "code",
   "execution_count": 4,
   "metadata": {},
   "outputs": [],
   "source": [
    "from gapmodels import Split"
   ]
  },
  {
   "cell_type": "code",
   "execution_count": 5,
   "metadata": {},
   "outputs": [],
   "source": [
    "# Create split object and pass in the data that needs to be split and the percentage of the training data \n",
    "data_file = \"/Users/simon/simon_ml/tools/hydrogen_tuple.xyz\"\n",
    "train_percentage = 0.8\n",
    "\n",
    "split = Split(data_file, train_percentage)"
   ]
  },
  {
   "cell_type": "code",
   "execution_count": 6,
   "metadata": {},
   "outputs": [
    {
     "data": {
      "text/plain": [
       "' Percentile of training data: 0.8 |  Percentile of test data: 0.19999999999999996 '"
      ]
     },
     "execution_count": 6,
     "metadata": {},
     "output_type": "execute_result"
    }
   ],
   "source": [
    "# Get percentages \n",
    "split.get_percentages()"
   ]
  },
  {
   "cell_type": "code",
   "execution_count": 7,
   "metadata": {},
   "outputs": [
    {
     "name": "stderr",
     "output_type": "stream",
     "text": [
      "/Library/Frameworks/Python.framework/Versions/3.8/lib/python3.8/site-packages/ase/io/extxyz.py:997: UserWarning: write_xyz() overwriting array \"forces\" present in atoms.arrays with stored results from calculator\n",
      "  warnings.warn('write_xyz() overwriting array \"{0}\" present '\n",
      "/Library/Frameworks/Python.framework/Versions/3.8/lib/python3.8/site-packages/ase/io/extxyz.py:997: UserWarning: write_xyz() overwriting array \"energies\" present in atoms.arrays with stored results from calculator\n",
      "  warnings.warn('write_xyz() overwriting array \"{0}\" present '\n"
     ]
    }
   ],
   "source": [
    "# Split up the data. Here the output_file_names need to be passed in order to avoid overwriting later. \n",
    "train_data_file = '2btrain_data_file.xyz'\n",
    "test_data_file = '2btest_data_file.xyz'\n",
    "split.split(train_data_file,test_data_file)"
   ]
  },
  {
   "cell_type": "code",
   "execution_count": 8,
   "metadata": {},
   "outputs": [],
   "source": [
    "# Get the splitted data\n",
    "train,test = split.get_splitted_data()\n"
   ]
  },
  {
   "cell_type": "code",
   "execution_count": 9,
   "metadata": {},
   "outputs": [],
   "source": [
    "# Get the names of the data files containing the splitted data. These are needed for the model.train and \n",
    "# model.predict methods. \n",
    "train_data_file, test_data_file = split.get_splitted_data_files()\n"
   ]
  },
  {
   "cell_type": "code",
   "execution_count": 10,
   "metadata": {},
   "outputs": [
    {
     "data": {
      "text/plain": [
       "'2btrain_data_file.xyz'"
      ]
     },
     "execution_count": 10,
     "metadata": {},
     "output_type": "execute_result"
    }
   ],
   "source": [
    "train_data_file"
   ]
  },
  {
   "cell_type": "code",
   "execution_count": null,
   "metadata": {},
   "outputs": [],
   "source": []
  },
  {
   "cell_type": "markdown",
   "metadata": {},
   "source": [
    "## Training the model"
   ]
  },
  {
   "cell_type": "code",
   "execution_count": 11,
   "metadata": {},
   "outputs": [
    {
     "name": "stdout",
     "output_type": "stream",
     "text": [
      " gap_fit energy_parameter_name = energy  force_parameter_name = forces do_copy_at_file = F  sparse_separate_file = T gp_file = 2bGAP.xml at_file = '2btrain_data_file.xyz'  default_sigma = { 0.0000001 1.0 1.0 1.0 } gap = {  distance_2b cutoff = 5 covariance_type = ARD_SE delta = 0.5 theta_uniform = 1 sparse_method = uniform add_species = T n_sparse = 30}\n",
      "libAtoms::Hello World: 16/03/2021   12:04:33\n",
      "libAtoms::Hello World: git version  https://github.com/libAtoms/QUIP.git,357e28d15-dirty\n",
      "libAtoms::Hello World: QUIP_ARCH    darwin_x86_64_gfortran\n",
      "libAtoms::Hello World: compiled on  Jan 15 2021 at 14:52:24\n",
      "libAtoms::Hello World: Random Seed = 43473671\n",
      "libAtoms::Hello World: global verbosity = 0\n",
      "\n",
      "Calls to system_timer will do nothing by default\n",
      "\n",
      "\n",
      "================================ Input parameters ==============================\n",
      "\n",
      "atoms_filename = //MANDATORY//\n",
      "at_file = 2btrain_data_file.xyz\n",
      "gap = \" distance_2b cutoff = 5 covariance_type = ARD_SE delta = 0.5 theta_uniform = 1 sparse_method = uniform add_species = T n_sparse = 30\"\n",
      "e0 = 0.0\n",
      "local_property0 = 0.0\n",
      "e0_offset = 0.0\n",
      "e0_method = isolated\n",
      "default_kernel_regularisation = //MANDATORY//\n",
      "default_sigma = \" 0.0000001 1.0 1.0 1.0\"\n",
      "sparse_jitter = 1.0e-10\n",
      "hessian_displacement = 1.0e-2\n",
      "hessian_delta = 1.0e-2\n",
      "baseline_param_filename = quip_params.xml\n",
      "core_param_file = quip_params.xml\n",
      "baseline_ip_args =\n",
      "core_ip_args =\n",
      "energy_parameter_name = energy\n",
      "local_property_parameter_name = local_property\n",
      "force_parameter_name = forces\n",
      "virial_parameter_name = virial\n",
      "hessian_parameter_name = hessian\n",
      "config_type_parameter_name = config_type\n",
      "kernel_regularisation_parameter_name = sigma\n",
      "sigma_parameter_name = sigma\n",
      "force_mask_parameter_name = force_mask\n",
      "parameter_name_prefix =\n",
      "config_type_kernel_regularisation =\n",
      "config_type_sigma =\n",
      "kernel_regularisation_is_per_atom = T\n",
      "sigma_per_atom = T\n",
      "do_copy_atoms_file = T\n",
      "do_copy_at_file = F\n",
      "sparse_separate_file = T\n",
      "sparse_use_actual_gpcov = F\n",
      "gap_file = gap_new.xml\n",
      "gp_file = 2bGAP.xml\n",
      "verbosity = NORMAL\n",
      "rnd_seed = -1\n",
      "openmp_chunk_size = 1\n",
      "do_ip_timing = F\n",
      "template_file = template.xyz\n",
      "sparsify_only_no_fit = F\n",
      "\n",
      "========================================  ======================================\n",
      "\n",
      "\n",
      "============== Gaussian Approximation Potentials - Database fitting ============\n",
      "\n",
      "\n",
      "Initial parsing of command line arguments finished.\n",
      "Found 1 GAPs.\n",
      "Descriptors have been parsed\n",
      "XYZ file read\n",
      "Old GAP: { distance_2b cutoff = 5 covariance_type = ARD_SE delta = 0.5 theta_uniform = 1 sparse_method = uniform add_species = T n_sparse = 30}\n",
      "New GAP: { distance_2b cutoff = 5 covariance_type = ARD_SE delta = 0.5 theta_uniform = 1 sparse_method = uniform             = T n_sparse = 30 Z1=1 Z2=1}\n",
      "Multispecies support added where requested\n",
      "\n",
      "===================== Report on number of descriptors found ====================\n",
      "\n",
      "---------------------------------------------------------------------\n",
      "Descriptor:  distance_2b cutoff = 5 covariance_type = ARD_SE delta = 0.5 theta_uniform = 1 sparse_method = uniform             = T n_sparse = 30 Z1=1 Z2=1\n",
      "Number of descriptors:                        80\n",
      "Number of partial derivatives of descriptors: 480\n",
      "\n",
      "========================================  ======================================\n",
      "\n",
      "E0/atom =   0.32100000000000000E+001  0.00000000000000000E+000  0.00000000000000000E+000  0.00000000000000000E+000  0.00000000000000000E+000  0.00000000000000000E+000  0.00000000000000000E+000  0.00000000000000000E+000  0.00000000000000000E+000  0.00000000000000000E+000  0.00000000000000000E+000  0.00000000000000000E+000  0.00000000000000000E+000  0.00000000000000000E+000  0.00000000000000000E+000  0.00000000000000000E+000  0.00000000000000000E+000  0.00000000000000000E+000  0.00000000000000000E+000  0.00000000000000000E+000  0.00000000000000000E+000  0.00000000000000000E+000  0.00000000000000000E+000  0.00000000000000000E+000  0.00000000000000000E+000  0.00000000000000000E+000  0.00000000000000000E+000  0.00000000000000000E+000  0.00000000000000000E+000  0.00000000000000000E+000  0.00000000000000000E+000  0.00000000000000000E+000  0.00000000000000000E+000  0.00000000000000000E+000  0.00000000000000000E+000  0.00000000000000000E+000  0.00000000000000000E+000  0.00000000000000000E+000  0.00000000000000000E+000  0.00000000000000000E+000  0.00000000000000000E+000  0.00000000000000000E+000  0.00000000000000000E+000  0.00000000000000000E+000  0.00000000000000000E+000  0.00000000000000000E+000  0.00000000000000000E+000  0.00000000000000000E+000  0.00000000000000000E+000  0.00000000000000000E+000  0.00000000000000000E+000  0.00000000000000000E+000  0.00000000000000000E+000  0.00000000000000000E+000  0.00000000000000000E+000  0.00000000000000000E+000  0.00000000000000000E+000  0.00000000000000000E+000  0.00000000000000000E+000  0.00000000000000000E+000  0.00000000000000000E+000  0.00000000000000000E+000  0.00000000000000000E+000  0.00000000000000000E+000  0.00000000000000000E+000  0.00000000000000000E+000  0.00000000000000000E+000  0.00000000000000000E+000  0.00000000000000000E+000  0.00000000000000000E+000  0.00000000000000000E+000  0.00000000000000000E+000  0.00000000000000000E+000  0.00000000000000000E+000  0.00000000000000000E+000  0.00000000000000000E+000  0.00000000000000000E+000  0.00000000000000000E+000  0.00000000000000000E+000  0.00000000000000000E+000  0.00000000000000000E+000  0.00000000000000000E+000  0.00000000000000000E+000  0.00000000000000000E+000  0.00000000000000000E+000  0.00000000000000000E+000  0.00000000000000000E+000  0.00000000000000000E+000  0.00000000000000000E+000  0.00000000000000000E+000  0.00000000000000000E+000  0.00000000000000000E+000  0.00000000000000000E+000  0.00000000000000000E+000  0.00000000000000000E+000  0.00000000000000000E+000  0.00000000000000000E+000  0.00000000000000000E+000  0.00000000000000000E+000  0.00000000000000000E+000  0.00000000000000000E+000  0.00000000000000000E+000  0.00000000000000000E+000  0.00000000000000000E+000  0.00000000000000000E+000  0.00000000000000000E+000  0.00000000000000000E+000  0.00000000000000000E+000  0.00000000000000000E+000  0.00000000000000000E+000  0.00000000000000000E+000  0.00000000000000000E+000  0.00000000000000000E+000  0.00000000000000000E+000  0.00000000000000000E+000  0.00000000000000000E+000  0.00000000000000000E+000  0.00000000000000000E+000\n",
      "\n",
      "========== Report on number of target properties found in training XYZ: ========\n",
      "\n",
      "Number of target energies (property name: energy) found: 41\n",
      "Number of target local_properties (property name: local_property) found: 0\n",
      "Number of target forces (property name: forces) found: 243\n",
      "Number of target virials (property name: virial) found: 0\n",
      "Number of target Hessian eigenvalues (property name: hessian) found: 0\n",
      "\n",
      "================================= End of report ================================\n",
      "\n",
      "\n",
      "===== Report on per-configuration/per-atom sigma (error parameter) settings ====\n",
      "\n",
      "Number of per-configuration setting of energy_sigma found:     0\n",
      "Number of per-configuration setting of force_sigma found:      0\n",
      "Number of per-configuration setting of virial_sigma found:     0\n",
      "Number of per-configuration setting of hessian_sigma found:    0\n",
      "Number of per-atom setting of force_atom_sigma found:          0\n",
      "Number of per-component setting of force_component_sigma found:          0\n",
      "\n",
      "================================= End of report ================================\n",
      "\n",
      "Cartesian coordinates transformed to descriptors\n",
      "Started sparse covariance matrix calculation of coordinate 1\n",
      "\n",
      "Finished sparse covariance matrix calculation of coordinate 1\n",
      "TIMER: gpFull_covarianceMatrix_sparse_Coordinate1_sparse  done in .37970000000000018E-002 cpu secs, .41069984436035156E-002 wall clock secs.\n",
      "TIMER: gpFull_covarianceMatrix_sparse_Coordinate1         done in .38219999999999990E-002 cpu secs, .41310787200927734E-002 wall clock secs.\n",
      "TIMER: gpFull_covarianceMatrix_sparse_LinearAlgebra       done in .50599999999999951E-003 cpu secs, .29587745666503906E-003 wall clock secs.\n",
      "TIMER: gpFull_covarianceMatrix_sparse_FunctionValues      done in .10000000000010001E-005 cpu secs, .95367431640625000E-006 wall clock secs.\n",
      "TIMER: gpFull_covarianceMatrix_sparse                     done in .44529999999999986E-002 cpu secs, .45511722564697266E-002 wall clock secs.\n",
      "TIMER: GP sparsify                                        done in .10415000000000001E-001 cpu secs, .15480041503906250E-001 wall clock secs.\n",
      "\n",
      "libAtoms::Finalise: 16/03/2021   12:04:33\n",
      "libAtoms::Finalise: Bye-Bye!\n",
      "\n"
     ]
    },
    {
     "data": {
      "text/plain": [
       "'/Users/simon/simon_ml/GAP/2bGAP.xml'"
      ]
     },
     "execution_count": 11,
     "metadata": {},
     "output_type": "execute_result"
    }
   ],
   "source": [
    "# Getting the parameters\n",
    "d2b_parameters = descriptor_2b.get_parameter_string()\n",
    "\n",
    "# Choose training data and add\n",
    "train_data_file \n",
    "\n",
    "# Choose test data\n",
    "test_data_file\n",
    "\n",
    "# Choose filename to be of trained GAP Potential. \n",
    "GAP_potential = '2bGAP.xml'\n",
    "\n",
    "# Sigma for gap_fit, means how precise the classification is. Change sigma to prevent over-/underfitting\n",
    "# sigma values = 'energy force virial, hessian'\n",
    "sigma = '0.0000001 1.0 1.0 1.0'\n",
    "# Train the model\n",
    "model.train(d2b_parameters,training_data=train_data_file,GAP_potential=GAP_potential,sigma=sigma,print_output=True)\n",
    "\n",
    "# Print out file in which the potential is stored\n",
    "model.get_potential_file()\n",
    "\n",
    "\n",
    "\n"
   ]
  },
  {
   "cell_type": "markdown",
   "metadata": {},
   "source": [
    "## Making predictions "
   ]
  },
  {
   "cell_type": "code",
   "execution_count": 12,
   "metadata": {},
   "outputs": [
    {
     "name": "stdout",
     "output_type": "stream",
     "text": [
      " quip E=T F=T  atoms_filename='2btrain_data_file.xyz'  param_filename='/Users/simon/simon_ml/GAP/2bGAP.xml' | grep AT | sed 's/AT//'  > 2bquip_prediction_tr.xyz \n",
      "\n",
      "/Users/simon/simon_ml/GAP/2bquip_prediction_tr.xyz\n",
      " quip E=T F=T  atoms_filename='2btest_data_file.xyz'  param_filename='/Users/simon/simon_ml/GAP/2bGAP.xml' | grep AT | sed 's/AT//'  > 2bquip_prediction_te.xyz \n",
      "\n",
      "/Users/simon/simon_ml/GAP/2bquip_prediction_te.xyz\n"
     ]
    }
   ],
   "source": [
    "# Select which configuration you want to predict the energy for, let´s first predict energy and forces for \n",
    "# the training configuration. Secondly test the model on the test data, remember that both predictions are based \n",
    "# upon the same trained GAP Potential.\n",
    "\n",
    "test_data_tr = train_data_file\n",
    "test_data_te = test_data_file\n",
    "\n",
    "# Get trained potential\n",
    "GAP_potential = model.get_potential_file()\n",
    "\n",
    "\n",
    "# Select filename in which predictions should be stored for train data \n",
    "QUIP_Prediction2b_tr = '2bquip_prediction_tr.xyz'\n",
    "\n",
    "\n",
    "# Use predict method on training data and test data \n",
    "model.predict(Test_Data=test_data_tr, GAP_potential=GAP_potential, QUIP_Prediction=QUIP_Prediction2b_tr)\n",
    "print(model.get_prediction_file())\n",
    "\n",
    "\n",
    "# Select filename in which predictions should be stored for test data\n",
    "QUIP_Prediction2b_te = '2bquip_prediction_te.xyz'\n",
    "\n",
    "# Use predict method on test data as test data\n",
    "model.predict(Test_Data=test_data_te, GAP_potential=GAP_potential, QUIP_Prediction=QUIP_Prediction2b_te)\n",
    "print(model.get_prediction_file())"
   ]
  },
  {
   "cell_type": "code",
   "execution_count": 13,
   "metadata": {},
   "outputs": [
    {
     "data": {
      "text/plain": [
       "' distance_2b cutoff = 5 covariance_type = ARD_SE delta = 0.5 theta_uniform = 1 sparse_method = uniform add_species = T n_sparse = 30'"
      ]
     },
     "execution_count": 13,
     "metadata": {},
     "output_type": "execute_result"
    }
   ],
   "source": [
    "d2b_parameters"
   ]
  },
  {
   "cell_type": "markdown",
   "metadata": {},
   "source": [
    "## Plot real values against predicted values to see quality of the fit"
   ]
  },
  {
   "cell_type": "code",
   "execution_count": 14,
   "metadata": {},
   "outputs": [],
   "source": [
    "from gapplot import QualityPlot\n",
    "import matplotlib.pyplot as plt\n"
   ]
  },
  {
   "cell_type": "code",
   "execution_count": 15,
   "metadata": {},
   "outputs": [
    {
     "data": {
      "image/png": "[encoded data removed]",
      "text/plain": [
       "<Figure size 432x288 with 4 Axes>"
      ]
     },
     "metadata": {
      "needs_background": "light"
     },
     "output_type": "display_data"
    }
   ],
   "source": [
    "# Make instance of QualityPlot which contains the plot methods\n",
    "# Make instance of plt.subplots object to make nice table of multiple subplots\n",
    "QP = QualityPlot()\n",
    "figs, axs = plt.subplots(nrows=2,ncols=2,gridspec_kw={'wspace':1,'hspace':1})\n",
    "\n",
    "# Plot energies and pass them on to axis object.\n",
    "fig=QP.energies_on_energies(real_values=test_data_tr, predicted_values=QUIP_Prediction2b_tr, axis=axs[0,0],title=\"Energy of training data\")\n",
    "QP.energies_on_energies(real_values=test_data_te,predicted_values=QUIP_Prediction2b_te, axis=axs[0,1], title=\"Energy of test data\")\n",
    "\n",
    "# Plot forces and pass them on to axis object.\n",
    "QP.forces_on_forces(real_values=test_data_tr, predicted_values=QUIP_Prediction2b_tr, axis=axs[1,0],title=\"Forces of training data\")\n",
    "QP.forces_on_forces(real_values=test_data_te,predicted_values=QUIP_Prediction2b_te, axis=axs[1,1], title=\"Forces of test data\")\n",
    "\n"
   ]
  },
  {
   "cell_type": "markdown",
   "metadata": {},
   "source": [
    "## Calculate RMSE and R2_Score "
   ]
  },
  {
   "cell_type": "code",
   "execution_count": 16,
   "metadata": {},
   "outputs": [
    {
     "data": {
      "text/plain": [
       "2.0608756217052875e-06"
      ]
     },
     "execution_count": 16,
     "metadata": {},
     "output_type": "execute_result"
    }
   ],
   "source": [
    "model.RMSE(test_data_tr,QUIP_Prediction2b_tr)"
   ]
  },
  {
   "cell_type": "code",
   "execution_count": 17,
   "metadata": {},
   "outputs": [
    {
     "data": {
      "text/plain": [
       "0.9909132250259446"
      ]
     },
     "execution_count": 17,
     "metadata": {},
     "output_type": "execute_result"
    }
   ],
   "source": [
    "model.R2_Score(test_data_tr,QUIP_Prediction2b_tr)"
   ]
  },
  {
   "cell_type": "markdown",
   "metadata": {},
   "source": [
    "## Simple plot of atomic distances against atomic energies"
   ]
  },
  {
   "cell_type": "code",
   "execution_count": 18,
   "metadata": {},
   "outputs": [
    {
     "data": {
      "text/plain": [
       "Text(0, 0.5, 'Predicted Energy of System')"
      ]
     },
     "execution_count": 18,
     "metadata": {},
     "output_type": "execute_result"
    },
    {
     "data": {
      "image/png": "[encoded data removed]",
      "text/plain": [
       "<Figure size 432x288 with 1 Axes>"
      ]
     },
     "metadata": {
      "needs_background": "light"
     },
     "output_type": "display_data"
    }
   ],
   "source": [
    "from ase.io import read\n",
    "step = read(test_data_tr, \"0\")\n",
    "n_types = len(set(step.get_chemical_symbols()))\n",
    "\n",
    "# Read in real values and predicted values\n",
    "real_atoms = read(test_data_tr, f\":-{n_types}\")\n",
    "predicted_atoms = read(QUIP_Prediction2b_tr, f\":-{n_types}\")\n",
    "\n",
    "# Plot real energies on the x axis and predicted energies on the y axis\n",
    "real_energies = [a.get_potential_energy() for a in real_atoms]\n",
    "predicted_energies = [a.get_potential_energy()\n",
    "                      for a in predicted_atoms]\n",
    "\n",
    "import math\n",
    "real_atom_distances = [math.dist(a.positions[0],a.positions[1])for a in real_atoms]\n",
    "plt.scatter(real_atom_distances,real_energies)\n",
    "plt.xlabel('Interatomic Distance of hydrogen tuple')\n",
    "plt.ylabel('Real Energy of System')\n",
    "\n",
    "\n",
    "plt.scatter(real_atom_distances,predicted_energies)\n",
    "plt.xlabel('Interatomic Distance of hydrogen tuple')\n",
    "plt.ylabel('Predicted Energy of System')"
   ]
  },
  {
   "cell_type": "code",
   "execution_count": null,
   "metadata": {},
   "outputs": [],
   "source": []
  },
  {
   "cell_type": "code",
   "execution_count": null,
   "metadata": {},
   "outputs": [],
   "source": []
  }
 ],
 "metadata": {
  "kernelspec": {
   "display_name": "Python 3",
   "language": "python",
   "name": "python3"
  },
  "language_info": {
   "codemirror_mode": {
    "name": "ipython",
    "version": 3
   },
   "file_extension": ".py",
   "mimetype": "text/x-python",
   "name": "python",
   "nbconvert_exporter": "python",
   "pygments_lexer": "ipython3",
   "version": "3.8.2"
  }
 },
 "nbformat": 4,
 "nbformat_minor": 4
}
