{
 "cells": [
  {
   "cell_type": "markdown",
   "metadata": {},
   "source": [
    "# Training a GAP model\n",
    "\n",
    "## steps\n",
    "    1. generate a small dataset of water structures \n",
    "        - use CP2K if you havea access to it\n",
    "        - otherwise: use any simple potential implemented in ASE, just for trying this out I have used EMT here\n",
    "    1. generate e0 values\n",
    "    1. separate a training and a validation dataset\n",
    "    1. **train the model**\n",
    "    1. look at the outcome of the model\n",
    "    \n",
    "## here we will fit twice, to see the difference between a 2b-only and a 2b+3b fit"
   ]
  },
  {
   "cell_type": "code",
   "execution_count": 3,
   "metadata": {
    "ExecuteTime": {
     "end_time": "2018-10-08T08:48:40.136302Z",
     "start_time": "2018-10-08T08:48:40.130282Z"
    }
   },
   "outputs": [],
   "source": [
    "# general imports \n",
    "import numpy as np\n",
    "import matplotlib.pyplot as plt \n",
    "from copy import deepcopy as cp\n",
    "\n",
    "# ase imports\n",
    "import ase.io\n",
    "from ase import Atoms, Atom\n",
    "from ase import units\n",
    "from ase.build import molecule\n",
    "# for MD\n",
    "from ase.md.langevin import Langevin\n",
    "from ase.io.trajectory import Trajectory"
   ]
  },
  {
   "cell_type": "code",
   "execution_count": 4,
   "metadata": {
    "ExecuteTime": {
     "end_time": "2018-10-07T17:07:43.520727Z",
     "start_time": "2018-10-07T17:07:43.460810Z"
    }
   },
   "outputs": [],
   "source": [
    "# helper functions\n",
    "def make_water(density, super_cell=[3, 3, 3]):\n",
    "    \"\"\" Geenrates a supercell of water molecules with a desired density.\n",
    "        Density in g/cm^3!!!\"\"\"\n",
    "    h2o = molecule('H2O')\n",
    "    a = np.cbrt((sum(h2o.get_masses()) * units.m ** 3 * 1E-6 ) / (density * units.mol))\n",
    "    h2o.set_cell((a, a, a))\n",
    "    h2o.set_pbc((True, True, True))\n",
    "    #return cp(h2o.repeat(super_cell))\n",
    "    return h2o.repeat(super_cell)\n",
    "\n",
    "def rms_dict(x_ref, x_pred):\n",
    "    \"\"\" Takes two datasets of the same shape and returns a dictionary containing RMS error data\"\"\"\n",
    "\n",
    "    x_ref = np.array(x_ref)\n",
    "    x_pred = np.array(x_pred)\n",
    "\n",
    "    if np.shape(x_pred) != np.shape(x_ref):\n",
    "        raise ValueError('WARNING: not matching shapes in rms')\n",
    "\n",
    "    error_2 = (x_ref - x_pred) ** 2\n",
    "\n",
    "    average = np.sqrt(np.average(error_2))\n",
    "    std_ = np.sqrt(np.var(error_2))\n",
    "\n",
    "    return {'rmse': average, 'std': std_}"
   ]
  },
  {
   "cell_type": "markdown",
   "metadata": {},
   "source": [
    "## generating data only with ASE, using the EMT calculator\n",
    "\n",
    "This is only for the demonstration of how to do it, this run is will be done very fast. There is no practical use of the data beyond lerning the use teach_sparse, quip, etc. with it."
   ]
  },
  {
   "cell_type": "code",
   "execution_count": 5,
   "metadata": {
    "ExecuteTime": {
     "end_time": "2018-10-07T17:10:50.964994Z",
     "start_time": "2018-10-07T17:07:43.523997Z"
    },
    "scrolled": true
   },
   "outputs": [
    {
     "name": "stdout",
     "output_type": "stream",
     "text": [
      "Energy per atom: Epot = 0.885eV  Ekin = 0.000eV (T=  0K)  Etot = 0.885eV\n",
      "Energy per atom: Epot = 0.885eV  Ekin = 0.000eV (T=  0K)  Etot = 0.885eV\n",
      "Energy per atom: Epot = 0.820eV  Ekin = 0.053eV (T=413K)  Etot = 0.874eV\n",
      "Energy per atom: Epot = 0.660eV  Ekin = 0.208eV (T=1610K)  Etot = 0.868eV\n",
      "Energy per atom: Epot = 0.632eV  Ekin = 0.224eV (T=1734K)  Etot = 0.857eV\n",
      "Energy per atom: Epot = 0.869eV  Ekin = 0.005eV (T= 39K)  Etot = 0.874eV\n",
      "Energy per atom: Epot = 0.780eV  Ekin = 0.089eV (T=690K)  Etot = 0.869eV\n",
      "Energy per atom: Epot = 0.755eV  Ekin = 0.117eV (T=909K)  Etot = 0.872eV\n",
      "Energy per atom: Epot = 0.707eV  Ekin = 0.163eV (T=1262K)  Etot = 0.870eV\n",
      "Energy per atom: Epot = 0.704eV  Ekin = 0.158eV (T=1220K)  Etot = 0.861eV\n",
      "Energy per atom: Epot = 0.867eV  Ekin = 0.007eV (T= 54K)  Etot = 0.874eV\n",
      "Energy per atom: Epot = 0.706eV  Ekin = 0.159eV (T=1228K)  Etot = 0.865eV\n",
      "Energy per atom: Epot = 0.680eV  Ekin = 0.188eV (T=1458K)  Etot = 0.869eV\n",
      "Energy per atom: Epot = 0.826eV  Ekin = 0.046eV (T=358K)  Etot = 0.872eV\n",
      "Energy per atom: Epot = 0.770eV  Ekin = 0.100eV (T=776K)  Etot = 0.870eV\n",
      "Energy per atom: Epot = 0.770eV  Ekin = 0.101eV (T=781K)  Etot = 0.871eV\n",
      "Energy per atom: Epot = 0.754eV  Ekin = 0.116eV (T=896K)  Etot = 0.870eV\n",
      "Energy per atom: Epot = 0.748eV  Ekin = 0.121eV (T=940K)  Etot = 0.870eV\n",
      "Energy per atom: Epot = 0.760eV  Ekin = 0.111eV (T=856K)  Etot = 0.871eV\n",
      "Energy per atom: Epot = 0.748eV  Ekin = 0.122eV (T=946K)  Etot = 0.870eV\n",
      "Energy per atom: Epot = 0.747eV  Ekin = 0.123eV (T=955K)  Etot = 0.870eV\n",
      "Energy per atom: Epot = 0.758eV  Ekin = 0.113eV (T=874K)  Etot = 0.871eV\n",
      "Energy per atom: Epot = 0.728eV  Ekin = 0.142eV (T=1101K)  Etot = 0.870eV\n",
      "Energy per atom: Epot = 0.732eV  Ekin = 0.138eV (T=1070K)  Etot = 0.870eV\n",
      "Energy per atom: Epot = 0.735eV  Ekin = 0.135eV (T=1043K)  Etot = 0.870eV\n",
      "Energy per atom: Epot = 0.733eV  Ekin = 0.137eV (T=1061K)  Etot = 0.870eV\n",
      "Energy per atom: Epot = 0.705eV  Ekin = 0.165eV (T=1276K)  Etot = 0.870eV\n",
      "Energy per atom: Epot = 0.697eV  Ekin = 0.171eV (T=1325K)  Etot = 0.869eV\n",
      "Energy per atom: Epot = 0.744eV  Ekin = 0.128eV (T=988K)  Etot = 0.871eV\n",
      "Energy per atom: Epot = 0.751eV  Ekin = 0.122eV (T=946K)  Etot = 0.873eV\n",
      "Energy per atom: Epot = 0.746eV  Ekin = 0.127eV (T=981K)  Etot = 0.872eV\n",
      "Energy per atom: Epot = 0.718eV  Ekin = 0.153eV (T=1181K)  Etot = 0.871eV\n",
      "Energy per atom: Epot = 0.701eV  Ekin = 0.169eV (T=1309K)  Etot = 0.870eV\n",
      "Energy per atom: Epot = 0.689eV  Ekin = 0.180eV (T=1393K)  Etot = 0.869eV\n",
      "Energy per atom: Epot = 0.703eV  Ekin = 0.168eV (T=1300K)  Etot = 0.871eV\n",
      "Energy per atom: Epot = 0.712eV  Ekin = 0.159eV (T=1233K)  Etot = 0.872eV\n",
      "Energy per atom: Epot = 0.689eV  Ekin = 0.180eV (T=1396K)  Etot = 0.870eV\n",
      "Energy per atom: Epot = 0.670eV  Ekin = 0.200eV (T=1544K)  Etot = 0.870eV\n",
      "Energy per atom: Epot = 0.648eV  Ekin = 0.222eV (T=1715K)  Etot = 0.870eV\n",
      "Energy per atom: Epot = 0.670eV  Ekin = 0.200eV (T=1546K)  Etot = 0.870eV\n",
      "Energy per atom: Epot = 0.632eV  Ekin = 0.239eV (T=1846K)  Etot = 0.871eV\n",
      "Energy per atom: Epot = 0.582eV  Ekin = 0.287eV (T=2223K)  Etot = 0.869eV\n",
      "Energy per atom: Epot = 0.583eV  Ekin = 0.287eV (T=2220K)  Etot = 0.870eV\n",
      "Energy per atom: Epot = 0.551eV  Ekin = 0.319eV (T=2464K)  Etot = 0.870eV\n",
      "Energy per atom: Epot = 0.519eV  Ekin = 0.351eV (T=2715K)  Etot = 0.870eV\n",
      "Energy per atom: Epot = 0.458eV  Ekin = 0.414eV (T=3201K)  Etot = 0.871eV\n",
      "Energy per atom: Epot = 0.471eV  Ekin = 0.400eV (T=3096K)  Etot = 0.871eV\n",
      "Energy per atom: Epot = 0.491eV  Ekin = 0.381eV (T=2945K)  Etot = 0.871eV\n",
      "Energy per atom: Epot = 0.487eV  Ekin = 0.385eV (T=2975K)  Etot = 0.871eV\n",
      "Energy per atom: Epot = 0.464eV  Ekin = 0.409eV (T=3161K)  Etot = 0.872eV\n",
      "Energy per atom: Epot = 0.460eV  Ekin = 0.411eV (T=3178K)  Etot = 0.871eV\n",
      "Energy per atom: Epot = 0.453eV  Ekin = 0.416eV (T=3217K)  Etot = 0.869eV\n",
      "Energy per atom: Epot = 0.452eV  Ekin = 0.418eV (T=3235K)  Etot = 0.870eV\n",
      "Energy per atom: Epot = 0.490eV  Ekin = 0.380eV (T=2942K)  Etot = 0.870eV\n",
      "Energy per atom: Epot = 0.477eV  Ekin = 0.393eV (T=3043K)  Etot = 0.870eV\n",
      "Energy per atom: Epot = 0.444eV  Ekin = 0.425eV (T=3290K)  Etot = 0.869eV\n",
      "Energy per atom: Epot = 0.425eV  Ekin = 0.446eV (T=3447K)  Etot = 0.871eV\n",
      "Energy per atom: Epot = 0.419eV  Ekin = 0.449eV (T=3472K)  Etot = 0.868eV\n",
      "Energy per atom: Epot = 0.429eV  Ekin = 0.441eV (T=3413K)  Etot = 0.870eV\n",
      "Energy per atom: Epot = 0.453eV  Ekin = 0.420eV (T=3246K)  Etot = 0.872eV\n",
      "Energy per atom: Epot = 0.439eV  Ekin = 0.432eV (T=3342K)  Etot = 0.871eV\n",
      "Energy per atom: Epot = 0.408eV  Ekin = 0.462eV (T=3577K)  Etot = 0.871eV\n",
      "Energy per atom: Epot = 0.404eV  Ekin = 0.468eV (T=3618K)  Etot = 0.872eV\n",
      "Energy per atom: Epot = 0.362eV  Ekin = 0.509eV (T=3935K)  Etot = 0.871eV\n",
      "Energy per atom: Epot = 0.340eV  Ekin = 0.530eV (T=4099K)  Etot = 0.870eV\n",
      "Energy per atom: Epot = 0.382eV  Ekin = 0.490eV (T=3793K)  Etot = 0.872eV\n",
      "Energy per atom: Epot = 0.395eV  Ekin = 0.476eV (T=3685K)  Etot = 0.871eV\n",
      "Energy per atom: Epot = 0.365eV  Ekin = 0.507eV (T=3921K)  Etot = 0.872eV\n",
      "Energy per atom: Epot = 0.414eV  Ekin = 0.462eV (T=3577K)  Etot = 0.876eV\n",
      "Energy per atom: Epot = 0.430eV  Ekin = 0.441eV (T=3408K)  Etot = 0.871eV\n",
      "Energy per atom: Epot = 0.414eV  Ekin = 0.457eV (T=3536K)  Etot = 0.871eV\n",
      "Energy per atom: Epot = 0.421eV  Ekin = 0.451eV (T=3486K)  Etot = 0.871eV\n",
      "Energy per atom: Epot = 0.439eV  Ekin = 0.435eV (T=3364K)  Etot = 0.874eV\n",
      "Energy per atom: Epot = 0.428eV  Ekin = 0.444eV (T=3432K)  Etot = 0.871eV\n",
      "Energy per atom: Epot = 0.421eV  Ekin = 0.450eV (T=3480K)  Etot = 0.871eV\n",
      "Energy per atom: Epot = 0.419eV  Ekin = 0.449eV (T=3476K)  Etot = 0.868eV\n",
      "Energy per atom: Epot = 0.403eV  Ekin = 0.470eV (T=3637K)  Etot = 0.874eV\n",
      "Energy per atom: Epot = 0.396eV  Ekin = 0.475eV (T=3676K)  Etot = 0.871eV\n",
      "Energy per atom: Epot = 0.414eV  Ekin = 0.462eV (T=3570K)  Etot = 0.876eV\n",
      "Energy per atom: Epot = 0.370eV  Ekin = 0.500eV (T=3866K)  Etot = 0.870eV\n",
      "Energy per atom: Epot = 0.353eV  Ekin = 0.516eV (T=3995K)  Etot = 0.869eV\n",
      "Energy per atom: Epot = 0.389eV  Ekin = 0.478eV (T=3701K)  Etot = 0.867eV\n",
      "Energy per atom: Epot = 0.411eV  Ekin = 0.459eV (T=3552K)  Etot = 0.870eV\n",
      "Energy per atom: Epot = 0.417eV  Ekin = 0.454eV (T=3512K)  Etot = 0.871eV\n",
      "Energy per atom: Epot = 0.453eV  Ekin = 0.420eV (T=3249K)  Etot = 0.873eV\n",
      "Energy per atom: Epot = 0.384eV  Ekin = 0.485eV (T=3753K)  Etot = 0.869eV\n",
      "Energy per atom: Epot = 0.389eV  Ekin = 0.481eV (T=3720K)  Etot = 0.870eV\n",
      "Energy per atom: Epot = 0.390eV  Ekin = 0.480eV (T=3711K)  Etot = 0.870eV\n",
      "Energy per atom: Epot = 0.394eV  Ekin = 0.478eV (T=3697K)  Etot = 0.872eV\n",
      "Energy per atom: Epot = 0.404eV  Ekin = 0.475eV (T=3674K)  Etot = 0.879eV\n",
      "Energy per atom: Epot = 0.408eV  Ekin = 0.473eV (T=3661K)  Etot = 0.882eV\n",
      "Energy per atom: Epot = 0.379eV  Ekin = 0.501eV (T=3875K)  Etot = 0.880eV\n",
      "Energy per atom: Epot = 0.393eV  Ekin = 0.490eV (T=3793K)  Etot = 0.883eV\n",
      "Energy per atom: Epot = 0.389eV  Ekin = 0.493eV (T=3814K)  Etot = 0.881eV\n",
      "Energy per atom: Epot = 0.358eV  Ekin = 0.522eV (T=4038K)  Etot = 0.880eV\n",
      "Energy per atom: Epot = 0.365eV  Ekin = 0.515eV (T=3981K)  Etot = 0.879eV\n",
      "Energy per atom: Epot = 0.386eV  Ekin = 0.494eV (T=3822K)  Etot = 0.880eV\n",
      "Energy per atom: Epot = 0.391eV  Ekin = 0.488eV (T=3776K)  Etot = 0.880eV\n",
      "Energy per atom: Epot = 0.396eV  Ekin = 0.485eV (T=3750K)  Etot = 0.881eV\n",
      "Energy per atom: Epot = 0.381eV  Ekin = 0.495eV (T=3833K)  Etot = 0.876eV\n",
      "Energy per atom: Epot = 0.406eV  Ekin = 0.474eV (T=3664K)  Etot = 0.880eV\n",
      "Energy per atom: Epot = 0.387eV  Ekin = 0.495eV (T=3826K)  Etot = 0.882eV\n",
      "Energy per atom: Epot = 0.371eV  Ekin = 0.510eV (T=3945K)  Etot = 0.881eV\n",
      "Energy per atom: Epot = 0.368eV  Ekin = 0.515eV (T=3983K)  Etot = 0.883eV\n",
      "Energy per atom: Epot = 0.389eV  Ekin = 0.494eV (T=3819K)  Etot = 0.882eV\n",
      "Energy per atom: Epot = 0.388eV  Ekin = 0.499eV (T=3859K)  Etot = 0.887eV\n",
      "Energy per atom: Epot = 0.444eV  Ekin = 0.470eV (T=3638K)  Etot = 0.914eV\n",
      "Energy per atom: Epot = 0.434eV  Ekin = 0.479eV (T=3707K)  Etot = 0.913eV\n",
      "Energy per atom: Epot = 0.430eV  Ekin = 0.519eV (T=4015K)  Etot = 0.949eV\n",
      "Energy per atom: Epot = 0.404eV  Ekin = 0.544eV (T=4210K)  Etot = 0.948eV\n",
      "Energy per atom: Epot = 0.439eV  Ekin = 0.513eV (T=3969K)  Etot = 0.952eV\n"
     ]
    },
    {
     "name": "stdout",
     "output_type": "stream",
     "text": [
      "Energy per atom: Epot = 0.352eV  Ekin = 0.597eV (T=4616K)  Etot = 0.948eV\n",
      "Energy per atom: Epot = 0.395eV  Ekin = 0.548eV (T=4237K)  Etot = 0.943eV\n",
      "Energy per atom: Epot = 0.335eV  Ekin = 0.608eV (T=4707K)  Etot = 0.944eV\n",
      "Energy per atom: Epot = 0.439eV  Ekin = 0.525eV (T=4061K)  Etot = 0.964eV\n",
      "Energy per atom: Epot = 0.416eV  Ekin = 0.547eV (T=4235K)  Etot = 0.963eV\n",
      "Energy per atom: Epot = 0.414eV  Ekin = 0.554eV (T=4284K)  Etot = 0.968eV\n",
      "Energy per atom: Epot = 0.392eV  Ekin = 0.576eV (T=4457K)  Etot = 0.968eV\n",
      "Energy per atom: Epot = 0.379eV  Ekin = 0.585eV (T=4529K)  Etot = 0.965eV\n",
      "Energy per atom: Epot = 0.374eV  Ekin = 0.593eV (T=4590K)  Etot = 0.967eV\n",
      "Energy per atom: Epot = 0.387eV  Ekin = 0.582eV (T=4499K)  Etot = 0.969eV\n",
      "Energy per atom: Epot = 0.357eV  Ekin = 0.612eV (T=4738K)  Etot = 0.970eV\n"
     ]
    },
    {
     "data": {
      "text/plain": [
       "True"
      ]
     },
     "execution_count": 5,
     "metadata": {},
     "output_type": "execute_result"
    }
   ],
   "source": [
    "# Running MD with ASE's EMT\n",
    "\n",
    "from ase.calculators.emt import EMT\n",
    "calc = EMT()\n",
    "\n",
    "T = 150  # Kelvin\n",
    "\n",
    "# Set up a grid of water\n",
    "water = make_water(1.0, [3, 3, 3])\n",
    "water.set_calculator(calc)\n",
    "\n",
    "# We want to run MD using the Langevin algorithm\n",
    "# with a time step of 1 fs, the temperature T and the friction\n",
    "# coefficient to 0.002 atomic units.\n",
    "dyn = Langevin(water, 1 * units.fs, T * units.kB, 0.0002)\n",
    "\n",
    "def printenergy(a=water):  # store a reference to atoms in the definition.\n",
    "    \"\"\"Function to print the potential, kinetic and total energy.\"\"\"\n",
    "    epot = a.get_potential_energy() / len(a)\n",
    "    ekin = a.get_kinetic_energy() / len(a)\n",
    "    print('Energy per atom: Epot = %.3feV  Ekin = %.3feV (T=%3.0fK)  '\n",
    "          'Etot = %.3feV' % (epot, ekin, ekin / (1.5 * units.kB), epot + ekin))\n",
    "\n",
    "dyn.attach(printenergy, interval=5)\n",
    "\n",
    "# We also want to save the positions of all atoms after every 5th time step.\n",
    "traj = Trajectory('dyn_emt.traj', 'w', water)\n",
    "dyn.attach(traj.write, interval=5)\n",
    "\n",
    "# Now run the dynamics\n",
    "printenergy(water)\n",
    "dyn.run(600)   # CHANGE THIS IF YOU WANT LONGER/SHORTER RUN"
   ]
  },
  {
   "cell_type": "code",
   "execution_count": 6,
   "metadata": {
    "ExecuteTime": {
     "end_time": "2018-10-07T17:10:51.483185Z",
     "start_time": "2018-10-07T17:10:50.968420Z"
    }
   },
   "outputs": [],
   "source": [
    "# wrap and save traj in .xyz --- the .traj is a non human readable database file, xyz is much better\n",
    "out_traj = ase.io.read('dyn_emt.traj', ':')\n",
    "for at in out_traj:\n",
    "    at.wrap()\n",
    "    if 'momenta' in at.arrays: del at.arrays['momenta']\n",
    "ase.io.write('dyn_emt.xyz', out_traj, 'xyz')"
   ]
  },
  {
   "cell_type": "markdown",
   "metadata": {},
   "source": [
    "## get e0 for H and O - energies of the isolated atoms\n",
    "\n",
    "This is the energy of the isolated atom, will be in the teach_sparse string in the following format: `e0={H:energy:O:energy}`"
   ]
  },
  {
   "cell_type": "code",
   "execution_count": 7,
   "metadata": {
    "ExecuteTime": {
     "end_time": "2018-10-07T17:10:51.495057Z",
     "start_time": "2018-10-07T17:10:51.486315Z"
    }
   },
   "outputs": [
    {
     "name": "stdout",
     "output_type": "stream",
     "text": [
      "e0_H: 3.21\n",
      "e0_O: 4.6\n",
      "Atom('H', [0.0, 0.0, 0.0], index=0)\n"
     ]
    }
   ],
   "source": [
    "isolated_H = Atoms('H', calculator=EMT(), cell=[20, 20, 20], pbc=True)\n",
    "isolated_O = Atoms('O', calculator=EMT(), cell=[20, 20, 20], pbc=True)\n",
    "\n",
    "print('e0_H:',isolated_H.get_potential_energy())\n",
    "print('e0_O:',isolated_O.get_potential_energy())\n",
    "\n",
    "# this made the e0 string be the following: e0={H:3.21:O:4.6}\n",
    "isolated_H\n",
    "for i in isolated_H:\n",
    "    print(i)"
   ]
  },
  {
   "cell_type": "markdown",
   "metadata": {
    "ExecuteTime": {
     "end_time": "2018-10-07T13:10:08.501028Z",
     "start_time": "2018-10-07T13:10:08.496414Z"
    }
   },
   "source": [
    "## separate the dataset into a training and a validation set\n",
    "\n",
    "As we have 120 frames from the 600fs MD, I will do it 60,60 with taking even and odd frames for the two"
   ]
  },
  {
   "cell_type": "code",
   "execution_count": 8,
   "metadata": {
    "ExecuteTime": {
     "end_time": "2018-10-07T17:10:51.802364Z",
     "start_time": "2018-10-07T17:10:51.497953Z"
    }
   },
   "outputs": [],
   "source": [
    "ase.io.write('train.xyz', out_traj[0::2] + [isolated_H] + [isolated_O]) \n",
    "ase.io.write('validate.xyz', out_traj[1::2])"
   ]
  },
  {
   "cell_type": "code",
   "execution_count": null,
   "metadata": {
    "ExecuteTime": {
     "end_time": "2018-10-07T17:10:51.813416Z",
     "start_time": "2018-10-07T17:10:51.805556Z"
    }
   },
   "outputs": [],
   "source": [
    "# Split up into train and test data. \n",
    "\n",
    "out_traj_hydrogen = ase.io.read('/Users/simon/simon_ml/GAP/hydrogen_md.xyz', ':')\n",
    "for at in out_traj_hydrogen:\n",
    "    at.wrap()\n",
    "\n",
    "ase.io.write('train2b_01.xyz',out_traj_hydrogen[0:-1:2] + [isolated_H])\n",
    "ase.io.write('test2b_01.xyz', out_traj_hydrogen[1::2])\n",
    "\n",
    "train_data='/Users/simon/simon_ml/GAP/train2b_01.xyz'\n",
    "test_data='/Users/simon/simon_ml/GAP/test2b_01.xyz'\n"
   ]
  },
  {
   "cell_type": "code",
   "execution_count": null,
   "metadata": {},
   "outputs": [],
   "source": [
    "# Compare files of the tutorial with selfmade ones to find differences\n",
    "print(type(out_traj[-1]))\n",
    "print(type(out_traj_hydrogen[-1]))\n",
    "train_data"
   ]
  },
  {
   "cell_type": "markdown",
   "metadata": {
    "ExecuteTime": {
     "end_time": "2018-10-07T12:48:02.357449Z",
     "start_time": "2018-10-07T12:48:02.347940Z"
    }
   },
   "source": [
    "## train our GAP model from the command line\n",
    "\n",
    "Will use a fit of 2b only, using the desciptor distance_2b.\n",
    "\n",
    "Let's understand how this works. The bash command takes named arguments separated by spaces.\n",
    "\n",
    "- `teach_sparse` the command which actually does the fit  \n",
    "- `e0={H:3.21:O:4.6}` the energies of the isolated atoms\n",
    "- `energy_parameter_name=energy force_parameter_name=forces` names of the parameters\n",
    "- `do_copy_at_file=F sparse_separate_file=T` just needed, don't want to copy the training data and using separate files for the xml makes it faster\n",
    "- `gp_file=GAP.xml` filename of the potential parameters, I have always used this name, because I had separate directories for the different trainings potentials\n",
    "- `at_file=train.xyz` training file\n",
    "- `default_sigma={0.008 0.04 0 0}` sigma values to be used for energies, forces, stresses, hessians in order; this represents the accuracy of the data and the relative weight of them in the fit (more accurate --> more significant in the fit)\n",
    "- `gap={...}` the potential to be fit, separated by ':'\n",
    "\n",
    "**distance_2b**\n",
    "- `cutoff=4.0` radial, practically the highest distance the descriptor takes into account \n",
    "- `covariance_type=ard_se` use gausses in the fit\n",
    "- `delta=0.5` what relative portion of the things shall be determined by this potential\n",
    "- `theta_uniform=1.0` width of the gaussians\n",
    "- `sparse_method=uniform` use uniform bins to choose the sparse points\n",
    "- `add_species=T ` take the species into account, so it will generate more GAPs automatically (see the output)\n",
    "- `n_sparse=10` number of sparse points\n",
    "\n",
    "\n",
    "## notice, that the script is running in parallel, using all 8 cores of the current machine"
   ]
  },
  {
   "cell_type": "code",
   "execution_count": null,
   "metadata": {
    "ExecuteTime": {
     "end_time": "2018-10-07T17:10:55.183809Z",
     "start_time": "2018-10-07T17:10:51.816438Z"
    },
    "scrolled": false
   },
   "outputs": [],
   "source": [
    "# train gap_model with our hydrogen model\n",
    "! gap_fit energy_parameter_name=energy force_parameter_name=forces do_copy_at_file=F sparse_separate_file=T gp_file=GAP2b_01.xml at_file='/Users/simon/simon_ml/GAP/train2b_01.xyz' default_sigma={0.008 0.04 0 0} gap={distance_2b cutoff=2.0 covariance_type=ard_se delta=0.5 theta_uniform=1.0 sparse_method=uniform add_species=T n_sparse=10}"
   ]
  },
  {
   "cell_type": "code",
   "execution_count": null,
   "metadata": {},
   "outputs": [],
   "source": []
  },
  {
   "cell_type": "markdown",
   "metadata": {
    "ExecuteTime": {
     "end_time": "2018-10-07T12:56:59.802090Z",
     "start_time": "2018-10-07T12:56:58.506422Z"
    }
   },
   "source": [
    "## use the potential with QUIP on train.xyz and validate.xyz"
   ]
  },
  {
   "cell_type": "code",
   "execution_count": null,
   "metadata": {
    "ExecuteTime": {
     "end_time": "2018-10-07T17:11:02.087146Z",
     "start_time": "2018-10-07T17:10:55.187005Z"
    },
    "scrolled": true
   },
   "outputs": [],
   "source": [
    "# calculate train.xyz\n",
    "\n",
    "! quip E=T F=T atoms_filename=/Users/simon/simon_ml/GAP/train2b_01.xyz param_filename=GAP2b_01.xml | grep AT | sed 's/AT//' > quip_train2b_01.xyz\n",
    "! quip E=T F=T atoms_filename=/Users/simon/simon_ml/GAP/test2b_01.xyz param_filename=GAP2b_01.xml | grep AT | sed 's/AT//' > quip_test2b_01.xyz"
   ]
  },
  {
   "cell_type": "markdown",
   "metadata": {
    "ExecuteTime": {
     "end_time": "2018-10-07T12:58:09.146524Z",
     "start_time": "2018-10-07T12:58:09.136959Z"
    }
   },
   "source": [
    "## make simple plots of the energies and forces on the EMT and GAP datas"
   ]
  },
  {
   "cell_type": "code",
   "execution_count": null,
   "metadata": {
    "ExecuteTime": {
     "end_time": "2018-10-08T08:48:46.462404Z",
     "start_time": "2018-10-08T08:48:46.441786Z"
    }
   },
   "outputs": [],
   "source": [
    "def energy_plot(in_file, out_file, ax, title='Plot of energy'):\n",
    "    \"\"\" Plots the distribution of energy per atom on the output vs the input\"\"\"\n",
    "    # read files\n",
    "    in_atoms = ase.io.read(in_file, ':-1')\n",
    "    out_atoms = ase.io.read(out_file, ':-1')\n",
    "    # list energies\n",
    "    ener_in = [at.get_potential_energy() for at in in_atoms]\n",
    "    ener_out = [at.get_potential_energy()  for at in out_atoms]\n",
    "    # scatter plot of the data\n",
    "    ax.scatter(ener_in, ener_out)\n",
    "    # get the appropriate limits for the plot\n",
    "    for_limits = np.array(ener_in +ener_out)   \n",
    "    elim = (for_limits.min() , for_limits.max() )\n",
    "    ax.set_xlim(elim)\n",
    "    ax.set_ylim(elim)\n",
    "    # add line of slope 1 for refrence\n",
    "    ax.plot(elim, elim, c='k')\n",
    "    # set labels\n",
    "    ax.set_ylabel('energy by GAP / eV')\n",
    "    ax.set_xlabel('energy by EMT / eV')\n",
    "    #set title\n",
    "    ax.set_title(title)\n",
    "    # add text about RMSE\n",
    "    _rms = rms_dict(ener_in, ener_out)\n",
    "    rmse_text = 'RMSE:\\n' + str(np.round(_rms['rmse'], 3)) + ' +- ' + str(np.round(_rms['std'], 3)) + 'eV/atom'\n",
    "    ax.text(0.9, 0.1, rmse_text, transform=ax.transAxes, fontsize='large', horizontalalignment='right', \n",
    "            verticalalignment='bottom')\n",
    "    \n",
    "def force_plot(in_file, out_file, ax, symbol='HO', title='Plot of force'):\n",
    "    \"\"\" Plots the distribution of firce components per atom on the output vs the input \n",
    "        only plots for the given atom type(s)\"\"\"\n",
    "    \n",
    "    in_atoms = ase.io.read(in_file, ':')\n",
    "    out_atoms = ase.io.read(out_file, ':')\n",
    "    \n",
    "    # extract data for only one species\n",
    "    in_force, out_force = [], []\n",
    "    for at_in, at_out in zip(in_atoms, out_atoms):\n",
    "        # get the symbols\n",
    "        sym_all = at_in.get_chemical_symbols()\n",
    "        # add force for each atom\n",
    "        for j, sym in enumerate(sym_all):\n",
    "            if sym in symbol:\n",
    "                in_force.append(at_in.get_forces()[j])\n",
    "                #out_force.append(at_out.get_forces()[j]) \\  \n",
    "                out_force.append(at_out.arrays['force'][j]) # because QUIP and ASE use different names\n",
    "    # convert to np arrays, much easier to work with\n",
    "    #in_force = np.array(in_force)\n",
    "    #out_force = np.array(out_force)\n",
    "    # scatter plot of the data\n",
    "    ax.scatter(in_force, out_force)\n",
    "    # get the appropriate limits for the plot\n",
    "    for_limits = np.array(in_force + out_force)   \n",
    "    flim = (for_limits.min() , for_limits.max())\n",
    "    ax.set_xlim(flim)\n",
    "    ax.set_ylim(flim)\n",
    "    # add line of \n",
    "    ax.plot(flim, flim, c='k')\n",
    "    # set labels\n",
    "    ax.set_ylabel('force by GAP / (eV/Å)')\n",
    "    ax.set_xlabel('force by EMT / (eV/Å)')\n",
    "    #set title\n",
    "    ax.set_title(title)\n",
    "    # add text about RMSE\n",
    "    _rms = rms_dict(in_force, out_force)\n",
    "    rmse_text = 'RMSE:\\n' + str(np.round(_rms['rmse'], 3)) + ' +- ' + str(np.round(_rms['std'], 3)) + 'eV/Å'\n",
    "    ax.text(0.9, 0.1, rmse_text, transform=ax.transAxes, fontsize='large', horizontalalignment='right', \n",
    "            verticalalignment='bottom')"
   ]
  },
  {
   "cell_type": "code",
   "execution_count": null,
   "metadata": {
    "ExecuteTime": {
     "end_time": "2018-10-08T08:53:58.018401Z",
     "start_time": "2018-10-08T08:53:50.892329Z"
    }
   },
   "outputs": [],
   "source": [
    "fig, ax_list = plt.subplots(nrows=2, ncols=2, gridspec_kw={'hspace': 0.3})\n",
    "fig.set_size_inches(15, 20)\n",
    "ax_list = ax_list.flat[:]\n",
    "\n",
    "energy_plot('train2b_01.xyz','quip_train2b_01.xyz', ax_list[0], 'Energy on training data')\n",
    "energy_plot('test2b_01.xyz', 'quip_test2b_01.xyz', ax_list[1], 'Energy on validation data')\n",
    "force_plot('train2b_01.xyz', 'quip_train2b_01.xyz', ax_list[2], 'H', 'Force on training data - H')\n",
    "force_plot('test2b_01.xyz', 'quip_test2b_01.xyz', ax_list[3], 'H', 'Force on test data - H')\n",
    "#force_plot('validate.xyz', 'quip_validate.xyz', ax_list[4], 'H', 'Force on validation data - H')\n",
    "#force_plot('validate.xyz', 'quip_validate.xyz', ax_list[5], 'O',  'Force on validation data - O')\n",
    "\n",
    "# if you wanted to have the same limits on the force plots\n",
    "#for ax in ax_list[2:]:\n",
    "#    flim = (-20, 20)\n",
    "#    ax.set_xlim(flim)\n",
    "#    ax.set_ylim(flim)"
   ]
  },
  {
   "cell_type": "code",
   "execution_count": null,
   "metadata": {},
   "outputs": [],
   "source": []
  },
  {
   "cell_type": "markdown",
   "metadata": {
    "ExecuteTime": {
     "end_time": "2018-10-07T12:48:02.357449Z",
     "start_time": "2018-10-07T12:48:02.347940Z"
    }
   },
   "source": [
    "## train our GAP_3b model from the command line\n",
    "\n",
    "Let's add three ody terms to the fit, which will hopefully improve it. We will be using the desciprtors distance_2b and angle_3b.\n",
    "\n",
    "**angle_3b**\n",
    "- `theta_fac=0.5` this takes the input data and determines the width from that; useful here, because the dimensions of the descriptor are different\n",
    "- `n_sparse=50` higher dimensional space, more sparse points\n",
    "\n",
    "## both training and quip takes significantly more time than the last one!!!"
   ]
  },
  {
   "cell_type": "code",
   "execution_count": null,
   "metadata": {
    "ExecuteTime": {
     "end_time": "2018-10-07T17:12:12.409600Z",
     "start_time": "2018-10-07T17:11:09.080521Z"
    },
    "scrolled": false
   },
   "outputs": [],
   "source": [
    "! gap_fit energy_parameter_name=energy force_parameter_name=forces do_copy_at_file=F sparse_separate_file=T gp_file=GAP2b3b_01.xml at_file=/Users/simon/simon_ml/GAP/train2b_01.xyz default_sigma={0.008 0.04 0 0} gap={distance_2b cutoff=4.0 covariance_type=ard_se delta=0.5 theta_uniform=1.0 sparse_method=uniform add_species=T n_sparse=10 : angle_3b cutoff=3.5 covariance_type=ard_se delta=0.5 theta_fac=0.5 add_species=T n_sparse=30 sparse_method=uniform}\n"
   ]
  },
  {
   "cell_type": "markdown",
   "metadata": {
    "ExecuteTime": {
     "end_time": "2018-10-07T12:56:59.802090Z",
     "start_time": "2018-10-07T12:56:58.506422Z"
    }
   },
   "source": [
    "## use the potential with QUIP on trani.xyz and validate.xyz"
   ]
  },
  {
   "cell_type": "code",
   "execution_count": null,
   "metadata": {
    "ExecuteTime": {
     "end_time": "2018-10-07T17:12:47.633785Z",
     "start_time": "2018-10-07T17:12:12.412800Z"
    }
   },
   "outputs": [],
   "source": [
    "# calculate train.xyz\n",
    "\n",
    "! quip E=T F=T atoms_filename=/Users/simon/simon_ml/GAP/train2b_01.xyz param_filename=GAP2b3b_01.xml | grep AT | sed 's/AT//' > quip3b_train01.xyz\n",
    "! quip E=T F=T atoms_filename=/Users/simon/simon_ml/GAP/test2b_01.xyz param_filename=GAP2b3b_01.xml | grep AT | sed 's/AT//' > quip3b_test01.xyz"
   ]
  },
  {
   "cell_type": "markdown",
   "metadata": {},
   "source": [
    "## look at the outputs - clear improvement"
   ]
  },
  {
   "cell_type": "code",
   "execution_count": null,
   "metadata": {
    "ExecuteTime": {
     "end_time": "2018-10-08T08:54:43.555206Z",
     "start_time": "2018-10-08T08:54:36.324200Z"
    }
   },
   "outputs": [],
   "source": [
    "fig, ax_list = plt.subplots(nrows=3, ncols=2, gridspec_kw={'hspace': 0.3})\n",
    "fig.set_size_inches(15, 20)\n",
    "ax_list = ax_list.flat[:]\n",
    "\n",
    "energy_plot('train2b_01.xyz', 'quip3b_train01.xyz', ax_list[0], 'Energy on training data')\n",
    "energy_plot('test2b_01.xyz', 'quip3b_test01.xyz', ax_list[1], 'Energy on validation data')\n",
    "#force_plot('train.xyz', 'quip_3b_train.xyz', ax_list[2], 'H', 'Force on training data - H')\n",
    "#force_plot('train.xyz', 'quip_3b_train.xyz', ax_list[3], 'O', 'Force on training data - O')\n",
    "#force_plot('validate.xyz', 'quip_3b_validate.xyz', ax_list[4], 'H', 'Force on validation data - H')\n",
    "#force_plot('validate.xyz', 'quip_3b_validate.xyz', ax_list[5], 'O',  'Force on validation data - O')\n",
    "\n",
    "# if you wanted to have the same limits on the force plots\n",
    "#for ax in ax_list[2:]:\n",
    "#    flim = (-20, 20)\n",
    "#    ax.set_xlim(flim)\n",
    "#    ax.set_ylim(flim)"
   ]
  }
 ],
 "metadata": {
  "kernelspec": {
   "display_name": "Python 3",
   "language": "python",
   "name": "python3"
  },
  "language_info": {
   "codemirror_mode": {
    "name": "ipython",
    "version": 3
   },
   "file_extension": ".py",
   "mimetype": "text/x-python",
   "name": "python",
   "nbconvert_exporter": "python",
   "pygments_lexer": "ipython3",
   "version": "3.8.2"
  }
 },
 "nbformat": 4,
 "nbformat_minor": 2
}
