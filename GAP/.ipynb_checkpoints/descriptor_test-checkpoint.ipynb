{
 "cells": [
  {
   "cell_type": "markdown",
   "metadata": {},
   "source": [
    "# File to test gap_modules - simon "
   ]
  },
  {
   "cell_type": "markdown",
   "metadata": {},
   "source": [
    "## Importing modules and classes"
   ]
  },
  {
   "cell_type": "code",
   "execution_count": 1,
   "metadata": {},
   "outputs": [
    {
     "name": "stdout",
     "output_type": "stream",
     "text": [
      "hello world\n"
     ]
    }
   ],
   "source": [
    "# Using the model with the simplest descriptor, 2b - two body distance\n",
    "from gap_models2 import GAPModel\n",
    "from gap_models2 import distance_2b"
   ]
  },
  {
   "cell_type": "markdown",
   "metadata": {},
   "source": [
    "## Creating instances of models and descriptors"
   ]
  },
  {
   "cell_type": "code",
   "execution_count": 2,
   "metadata": {},
   "outputs": [
    {
     "name": "stdout",
     "output_type": "stream",
     "text": [
      " distance_2b cutoff = 4 covariance_type = ard_se delta = 0.5 theta_uniform = 1.0 sparse_method = uniform add_species = T n_sparse = 10\n"
     ]
    }
   ],
   "source": [
    "# Initialize distance_2_b descriptor\n",
    "descriptor_2b = distance_2b(4,'ard_se',0.5,1.0,'uniform','T',10)"
   ]
  },
  {
   "cell_type": "code",
   "execution_count": null,
   "metadata": {},
   "outputs": [],
   "source": []
  },
  {
   "cell_type": "code",
   "execution_count": 3,
   "metadata": {},
   "outputs": [],
   "source": [
    "# Make instances of GAPModel\n",
    "model = GAPModel()\n"
   ]
  },
  {
   "cell_type": "markdown",
   "metadata": {},
   "source": [
    "## Training the model"
   ]
  },
  {
   "cell_type": "code",
   "execution_count": 4,
   "metadata": {},
   "outputs": [
    {
     "name": "stdout",
     "output_type": "stream",
     "text": [
      " gap_fit energy_parameter_name = energy  force_parameter_name = forces do_copy_at_file = F  sparse_separate_file = T gp_file = testGAP.xml at_file = '/Users/simon/simon_ml/GAP/hydrogen_md.xyz'  default_sigma = {0.008 0.04 0 0} gap = {  distance_2b cutoff = 4 covariance_type = ard_se delta = 0.5 theta_uniform = 1.0 sparse_method = uniform add_species = T n_sparse = 10}\n",
      "libAtoms::Hello World: 23/02/2021   21:13:23\n",
      "libAtoms::Hello World: git version  https://github.com/libAtoms/QUIP.git,357e28d15-dirty\n",
      "libAtoms::Hello World: QUIP_ARCH    darwin_x86_64_gfortran\n",
      "libAtoms::Hello World: compiled on  Jan 15 2021 at 14:52:24\n",
      "libAtoms::Hello World: Random Seed = 76403777\n",
      "libAtoms::Hello World: global verbosity = 0\n",
      "\n",
      "Calls to system_timer will do nothing by default\n",
      "\n",
      "\n",
      "================================ Input parameters ==============================\n",
      "\n",
      "atoms_filename = //MANDATORY//\n",
      "at_file = /Users/simon/simon_ml/GAP/hydrogen_md.xyz\n",
      "gap = \" distance_2b cutoff = 4 covariance_type = ard_se delta = 0.5 theta_uniform = 1.0 sparse_method = uniform add_species = T n_sparse = 10\"\n",
      "e0 = 0.0\n",
      "local_property0 = 0.0\n",
      "e0_offset = 0.0\n",
      "e0_method = isolated\n",
      "default_kernel_regularisation = //MANDATORY//\n",
      "default_sigma = \"0.008 0.04 0 0\"\n",
      "sparse_jitter = 1.0e-10\n",
      "hessian_displacement = 1.0e-2\n",
      "hessian_delta = 1.0e-2\n",
      "baseline_param_filename = quip_params.xml\n",
      "core_param_file = quip_params.xml\n",
      "baseline_ip_args =\n",
      "core_ip_args =\n",
      "energy_parameter_name = energy\n",
      "local_property_parameter_name = local_property\n",
      "force_parameter_name = forces\n",
      "virial_parameter_name = virial\n",
      "hessian_parameter_name = hessian\n",
      "config_type_parameter_name = config_type\n",
      "kernel_regularisation_parameter_name = sigma\n",
      "sigma_parameter_name = sigma\n",
      "force_mask_parameter_name = force_mask\n",
      "parameter_name_prefix =\n",
      "config_type_kernel_regularisation =\n",
      "config_type_sigma =\n",
      "kernel_regularisation_is_per_atom = T\n",
      "sigma_per_atom = T\n",
      "do_copy_atoms_file = T\n",
      "do_copy_at_file = F\n",
      "sparse_separate_file = T\n",
      "sparse_use_actual_gpcov = F\n",
      "gap_file = gap_new.xml\n",
      "gp_file = testGAP.xml\n",
      "verbosity = NORMAL\n",
      "rnd_seed = -1\n",
      "openmp_chunk_size = 1\n",
      "do_ip_timing = F\n",
      "template_file = template.xyz\n",
      "sparsify_only_no_fit = F\n",
      "\n",
      "========================================  ======================================\n",
      "\n",
      "\n",
      "============== Gaussian Approximation Potentials - Database fitting ============\n",
      "\n",
      "\n",
      "Initial parsing of command line arguments finished.\n",
      "Found 1 GAPs.\n",
      "Descriptors have been parsed\n",
      "XYZ file read\n",
      "Old GAP: { distance_2b cutoff = 4 covariance_type = ard_se delta = 0.5 theta_uniform = 1.0 sparse_method = uniform add_species = T n_sparse = 10}\n",
      "New GAP: { distance_2b cutoff = 4 covariance_type = ard_se delta = 0.5 theta_uniform = 1.0 sparse_method = uniform             = T n_sparse = 10 Z1=1 Z2=1}\n",
      "Multispecies support added where requested\n",
      "\n",
      "===================== Report on number of descriptors found ====================\n",
      "\n",
      "---------------------------------------------------------------------\n",
      "Descriptor:  distance_2b cutoff = 4 covariance_type = ard_se delta = 0.5 theta_uniform = 1.0 sparse_method = uniform             = T n_sparse = 10 Z1=1 Z2=1\n",
      "Number of descriptors:                        1833600\n",
      "Number of partial derivatives of descriptors: 11001600\n",
      "\n",
      "========================================  ======================================\n",
      "\n",
      "E0/atom =   0.32100000000000000E+001  0.00000000000000000E+000  0.00000000000000000E+000  0.00000000000000000E+000  0.00000000000000000E+000  0.00000000000000000E+000  0.00000000000000000E+000  0.00000000000000000E+000  0.00000000000000000E+000  0.00000000000000000E+000  0.00000000000000000E+000  0.00000000000000000E+000  0.00000000000000000E+000  0.00000000000000000E+000  0.00000000000000000E+000  0.00000000000000000E+000  0.00000000000000000E+000  0.00000000000000000E+000  0.00000000000000000E+000  0.00000000000000000E+000  0.00000000000000000E+000  0.00000000000000000E+000  0.00000000000000000E+000  0.00000000000000000E+000  0.00000000000000000E+000  0.00000000000000000E+000  0.00000000000000000E+000  0.00000000000000000E+000  0.00000000000000000E+000  0.00000000000000000E+000  0.00000000000000000E+000  0.00000000000000000E+000  0.00000000000000000E+000  0.00000000000000000E+000  0.00000000000000000E+000  0.00000000000000000E+000  0.00000000000000000E+000  0.00000000000000000E+000  0.00000000000000000E+000  0.00000000000000000E+000  0.00000000000000000E+000  0.00000000000000000E+000  0.00000000000000000E+000  0.00000000000000000E+000  0.00000000000000000E+000  0.00000000000000000E+000  0.00000000000000000E+000  0.00000000000000000E+000  0.00000000000000000E+000  0.00000000000000000E+000  0.00000000000000000E+000  0.00000000000000000E+000  0.00000000000000000E+000  0.00000000000000000E+000  0.00000000000000000E+000  0.00000000000000000E+000  0.00000000000000000E+000  0.00000000000000000E+000  0.00000000000000000E+000  0.00000000000000000E+000  0.00000000000000000E+000  0.00000000000000000E+000  0.00000000000000000E+000  0.00000000000000000E+000  0.00000000000000000E+000  0.00000000000000000E+000  0.00000000000000000E+000  0.00000000000000000E+000  0.00000000000000000E+000  0.00000000000000000E+000  0.00000000000000000E+000  0.00000000000000000E+000  0.00000000000000000E+000  0.00000000000000000E+000  0.00000000000000000E+000  0.00000000000000000E+000  0.00000000000000000E+000  0.00000000000000000E+000  0.00000000000000000E+000  0.00000000000000000E+000  0.00000000000000000E+000  0.00000000000000000E+000  0.00000000000000000E+000  0.00000000000000000E+000  0.00000000000000000E+000  0.00000000000000000E+000  0.00000000000000000E+000  0.00000000000000000E+000  0.00000000000000000E+000  0.00000000000000000E+000  0.00000000000000000E+000  0.00000000000000000E+000  0.00000000000000000E+000  0.00000000000000000E+000  0.00000000000000000E+000  0.00000000000000000E+000  0.00000000000000000E+000  0.00000000000000000E+000  0.00000000000000000E+000  0.00000000000000000E+000  0.00000000000000000E+000  0.00000000000000000E+000  0.00000000000000000E+000  0.00000000000000000E+000  0.00000000000000000E+000  0.00000000000000000E+000  0.00000000000000000E+000  0.00000000000000000E+000  0.00000000000000000E+000  0.00000000000000000E+000  0.00000000000000000E+000  0.00000000000000000E+000  0.00000000000000000E+000  0.00000000000000000E+000  0.00000000000000000E+000  0.00000000000000000E+000  0.00000000000000000E+000  0.00000000000000000E+000\n",
      "\n",
      "========== Report on number of target properties found in training XYZ: ========\n",
      "\n",
      "Number of target energies (property name: energy) found: 51\n",
      "Number of target local_properties (property name: local_property) found: 0\n",
      "Number of target forces (property name: forces) found: 28803\n",
      "Number of target virials (property name: virial) found: 0\n",
      "Number of target Hessian eigenvalues (property name: hessian) found: 0\n",
      "\n",
      "================================= End of report ================================\n",
      "\n",
      "\n",
      "===== Report on per-configuration/per-atom sigma (error parameter) settings ====\n",
      "\n",
      "Number of per-configuration setting of energy_sigma found:     0\n",
      "Number of per-configuration setting of force_sigma found:      0\n",
      "Number of per-configuration setting of virial_sigma found:     0\n",
      "Number of per-configuration setting of hessian_sigma found:    0\n",
      "Number of per-atom setting of force_atom_sigma found:          0\n",
      "Number of per-component setting of force_component_sigma found:          0\n",
      "\n",
      "================================= End of report ================================\n",
      "\n",
      "Cartesian coordinates transformed to descriptors\n",
      "Started sparse covariance matrix calculation of coordinate 1\n",
      "\n",
      "Finished sparse covariance matrix calculation of coordinate 1\n",
      "TIMER: gpFull_covarianceMatrix_sparse_Coordinate1_sparse  done in 21.867191999999999 cpu secs, 24.550425052642822 wall clock secs.\n",
      "TIMER: gpFull_covarianceMatrix_sparse_Coordinate1         done in 21.867263000000001 cpu secs, 24.550500154495239 wall clock secs.\n",
      "TIMER: gpFull_covarianceMatrix_sparse_LinearAlgebra       done in .78279999999999461E-002 cpu secs, .47700405120849609E-002 wall clock secs.\n",
      "TIMER: gpFull_covarianceMatrix_sparse_FunctionValues      done in .39999999998485691E-004 cpu secs, .41961669921875000E-004 wall clock secs.\n",
      "TIMER: gpFull_covarianceMatrix_sparse                     done in 21.877896000000000 cpu secs, 24.558073759078979 wall clock secs.\n",
      "TIMER: GP sparsify                                        done in 21.889973999999999 cpu secs, 24.577482938766479 wall clock secs.\n",
      "\n",
      "libAtoms::Finalise: 23/02/2021   21:13:56\n",
      "libAtoms::Finalise: Bye-Bye!\n",
      "\n"
     ]
    },
    {
     "data": {
      "text/plain": [
       "'/Users/simon/simon_ml/GAP/testGAP.xml'"
      ]
     },
     "execution_count": 4,
     "metadata": {},
     "output_type": "execute_result"
    }
   ],
   "source": [
    "# Getting the parameters\n",
    "d2b_parameters = descriptor_2b.get_parameter_string()\n",
    "\n",
    "\n",
    "# Choose training data\n",
    "t_data = \"/Users/simon/simon_ml/GAP/hydrogen_md.xyz\"\n",
    "\n",
    "# Train the model\n",
    "model.train(d2b_parameters,training_data=t_data,GAP_potential='testGAP.xml')\n",
    "\n",
    "# Print out file in which the potential is stored\n",
    "model.get_potential_file()\n",
    "\n",
    "\n",
    "\n"
   ]
  },
  {
   "cell_type": "markdown",
   "metadata": {},
   "source": [
    "## Making predictions "
   ]
  },
  {
   "cell_type": "code",
   "execution_count": 5,
   "metadata": {},
   "outputs": [
    {
     "name": "stdout",
     "output_type": "stream",
     "text": [
      " quip E=T F=T  atoms_filename='/Users/simon/simon_ml/GAP/hydrogen_md.xyz'  param_filename='/Users/simon/simon_ml/GAP/testGAP.xml' | grep AT | sed 's/AT//'  > quip_prediction.xyz \n",
      "\n"
     ]
    }
   ],
   "source": [
    "# Select which configuration you want to predict the energy for \n",
    "test_data = \"/Users/simon/simon_ml/GAP/hydrogen_md.xyz\"\n",
    "\n",
    "\n",
    "# Get trained potential\n",
    "GAP_potential = model.get_potential_file()\n",
    "\n",
    "\n",
    "# Select filename in which predictions should be stored \n",
    "output = 'quip_prediction.xyz'\n",
    "\n",
    "\n",
    "# Use predict method \n",
    "model.predict(Test_Data=test_data, GAP_potential=GAP_potential, QUIP_Prediction=output)\n",
    "\n"
   ]
  },
  {
   "cell_type": "code",
   "execution_count": 6,
   "metadata": {},
   "outputs": [
    {
     "data": {
      "text/plain": [
       "'/Users/simon/simon_ml/GAP/quip_prediction.xyz'"
      ]
     },
     "execution_count": 6,
     "metadata": {},
     "output_type": "execute_result"
    }
   ],
   "source": [
    "model.get_prediction_file()"
   ]
  },
  {
   "cell_type": "code",
   "execution_count": 21,
   "metadata": {},
   "outputs": [
    {
     "data": {
      "image/png": "[encoded data removed]",
      "text/plain": [
       "<Figure size 432x288 with 1 Axes>"
      ]
     },
     "metadata": {
      "needs_background": "light"
     },
     "output_type": "display_data"
    }
   ],
   "source": [
    "import ase.io\n",
    "import pandas as pd\n",
    "import numpy as np\n",
    "import matplotlib.pyplot as plt \n",
    "\n",
    "train_atoms = ase.io.read(t_data, ':')\n",
    "test_atoms = ase.io.read(model.get_prediction_file(), ':')\n",
    "\n",
    "# Plot real energies on the x axis and predicted energies on the y axis \n",
    "train_energy = [at.get_potential_energy()  for at in train_atoms]\n",
    "predicted_energy = [at.get_potential_energy()  for at in test_atoms]\n",
    "\n",
    "\n",
    "# Plot real forces on the x axis and predicted forces on the y axis \n",
    "\n",
    "# extract data for only one species\n",
    "    in_force, out_force = [], []\n",
    "    for at_in, at_out in zip(in_atoms, out_atoms):\n",
    "        # get the symbols\n",
    "        sym_all = at_in.get_chemical_symbols()\n",
    "        # add force for each atom\n",
    "        for j, sym in enumerate(sym_all):\n",
    "            if sym in symbol:\n",
    "                in_force.append(at_in.get_forces()[j])\n",
    "                #out_force.append(at_out.get_forces()[j]) \\  \n",
    "                out_force.append(at_out.arrays['force'][j])\n",
    "\n",
    "\n",
    "plot = matplotlib.pyplot.scatter(train_energy[:-1],predicted_energy[:-1],)\n",
    "\n",
    "\n",
    "\n",
    "\n"
   ]
  },
  {
   "cell_type": "code",
   "execution_count": null,
   "metadata": {},
   "outputs": [],
   "source": []
  }
 ],
 "metadata": {
  "kernelspec": {
   "display_name": "Python 3",
   "language": "python",
   "name": "python3"
  },
  "language_info": {
   "codemirror_mode": {
    "name": "ipython",
    "version": 3
   },
   "file_extension": ".py",
   "mimetype": "text/x-python",
   "name": "python",
   "nbconvert_exporter": "python",
   "pygments_lexer": "ipython3",
   "version": "3.8.2"
  }
 },
 "nbformat": 4,
 "nbformat_minor": 4
}
