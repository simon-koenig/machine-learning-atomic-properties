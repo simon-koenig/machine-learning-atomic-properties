{
 "cells": [
  {
   "cell_type": "markdown",
   "metadata": {},
   "source": [
    "## Testing n stuff - simon k "
   ]
  },
  {
   "cell_type": "code",
   "execution_count": 1,
   "metadata": {},
   "outputs": [
    {
     "name": "stdout",
     "output_type": "stream",
     "text": [
      "hello world\n"
     ]
    }
   ],
   "source": [
    "# Try: create the shell cmd string when creating the descriptor class\n",
    "from gap_models2 import GAPModel\n",
    "from gap_models2 import distance_2b"
   ]
  },
  {
   "cell_type": "code",
   "execution_count": 2,
   "metadata": {},
   "outputs": [
    {
     "name": "stdout",
     "output_type": "stream",
     "text": [
      " distance_2b cutoff = 4 covariance_type = ard_se delta = 0.5 theta_uniform = 1.0 sparse_method = uniform add_species = T n_sparse = 10\n"
     ]
    }
   ],
   "source": [
    "# Make descriptor\n",
    "descriptor_2b = distance_2b(4,'ard_se',0.5,1.0,'uniform','T',10)"
   ]
  },
  {
   "cell_type": "code",
   "execution_count": 3,
   "metadata": {},
   "outputs": [
    {
     "data": {
      "text/plain": [
       "' distance_2b cutoff = 4 covariance_type = ard_se delta = 0.5 theta_uniform = 1.0 sparse_method = uniform add_species = T n_sparse = 10'"
      ]
     },
     "execution_count": 3,
     "metadata": {},
     "output_type": "execute_result"
    }
   ],
   "source": [
    "descriptor_2b.get_parameter_string()"
   ]
  },
  {
   "cell_type": "code",
   "execution_count": 4,
   "metadata": {},
   "outputs": [],
   "source": [
    "# Make instance of GAPModel\n",
    "model = GAPModel()\n",
    "\n",
    "# Choose training data\n",
    "t_data = \"/Users/simon/simon_ml/GAP/hydrogen_md.xyz\"\n",
    "\n",
    "# Choose parameter string\n",
    "parameters = descriptor_2b.get_parameter_string()"
   ]
  },
  {
   "cell_type": "code",
   "execution_count": 5,
   "metadata": {},
   "outputs": [
    {
     "name": "stdout",
     "output_type": "stream",
     "text": [
      " gap_fit energy_parameter_name = energy  force_parameter_name = forces do_copy_at_file = F  sparse_separate_file = T gp_file = testGAP.xml at_file = '/Users/simon/simon_ml/GAP/hydrogen_md.xyz'  default_sigma = {0.008 0.04 0 0} gap =  distance_2b cutoff = 4 covariance_type = ard_se delta = 0.5 theta_uniform = 1.0 sparse_method = uniform add_species = T n_sparse = 10\n",
      "libAtoms::Hello World: 23/02/2021   17:56:57\n",
      "libAtoms::Hello World: git version  https://github.com/libAtoms/QUIP.git,357e28d15-dirty\n",
      "libAtoms::Hello World: QUIP_ARCH    darwin_x86_64_gfortran\n",
      "libAtoms::Hello World: compiled on  Jan 15 2021 at 14:52:24\n",
      "libAtoms::Hello World: Random Seed = 64617827\n",
      "libAtoms::Hello World: global verbosity = 0\n",
      "\n",
      "Calls to system_timer will do nothing by default\n",
      "\n",
      "param_read_line: unknown key cutoff\n",
      "gap_fit\n",
      "\n"
     ]
    }
   ],
   "source": [
    "# Add descriptor to GAPModel \n",
    "model.train(parameters,training_data=t_data,GAP_potential='testGAP.xml')\n"
   ]
  },
  {
   "cell_type": "code",
   "execution_count": null,
   "metadata": {},
   "outputs": [],
   "source": []
  }
 ],
 "metadata": {
  "kernelspec": {
   "display_name": "Python 3",
   "language": "python",
   "name": "python3"
  },
  "language_info": {
   "codemirror_mode": {
    "name": "ipython",
    "version": 3
   },
   "file_extension": ".py",
   "mimetype": "text/x-python",
   "name": "python",
   "nbconvert_exporter": "python",
   "pygments_lexer": "ipython3",
   "version": "3.8.2"
  }
 },
 "nbformat": 4,
 "nbformat_minor": 4
}
