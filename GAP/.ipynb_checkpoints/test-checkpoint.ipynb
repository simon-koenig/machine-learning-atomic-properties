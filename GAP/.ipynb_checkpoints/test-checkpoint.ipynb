{
 "cells": [
  {
   "cell_type": "markdown",
   "metadata": {},
   "source": [
    "## Testing n stuff - simon k "
   ]
  },
  {
   "cell_type": "code",
   "execution_count": 2,
   "metadata": {},
   "outputs": [
    {
     "name": "stdout",
     "output_type": "stream",
     "text": [
      "hello world\n"
     ]
    }
   ],
   "source": [
    "# Try: create the shell cmd string when creating the descriptor class\n",
    "from gap_models2 import GAPModel\n",
    "from gap_models2 import distance_2b"
   ]
  },
  {
   "cell_type": "code",
   "execution_count": 3,
   "metadata": {},
   "outputs": [
    {
     "name": "stdout",
     "output_type": "stream",
     "text": [
      " distance_2b cutoff = 4 covariance_type = ard_se delta = 0.5 theta_uniform = 1.0 sparse_method = uniform add_species = T n_sparse = 10\n"
     ]
    }
   ],
   "source": [
    "# Make descriptor\n",
    "descriptor_2b = distance_2b(4,'ard_se',0.5,1.0,'uniform','T',10)"
   ]
  },
  {
   "cell_type": "code",
   "execution_count": 4,
   "metadata": {},
   "outputs": [
    {
     "data": {
      "text/plain": [
       "' distance_2b cutoff = 4 covariance_type = ard_se delta = 0.5 theta_uniform = 1.0 sparse_method = uniform add_species = T n_sparse = 10'"
      ]
     },
     "execution_count": 4,
     "metadata": {},
     "output_type": "execute_result"
    }
   ],
   "source": [
    "descriptor_2b.get_parameter_string()"
   ]
  },
  {
   "cell_type": "code",
   "execution_count": 6,
   "metadata": {},
   "outputs": [],
   "source": [
    "# Make instance of GAPModel\n",
    "model = GAPModel()\n",
    "\n",
    "# Choose training data\n",
    "t_data = \"/Users/simon/simon_ml/GAP/hydrogen_md.xyz\"\n",
    "\n",
    "# Choose parameter string\n",
    "parameters = descriptor_2b.get_parameter_string()"
   ]
  },
  {
   "cell_type": "code",
   "execution_count": 5,
   "metadata": {},
   "outputs": [
    {
     "name": "stdout",
     "output_type": "stream",
     "text": [
      " gap_fit energy_parameter_name = energy  force_parameter_name = forces do_copy_at_file = F  sparse_separate_file = T gp_file = testGAP.xml at_file = '/Users/simon/simon_ml/GAP/hydrogen_md.xyz'  default_sigma = {0.008 0.04 0 0} gap = {  distance_2b cutoff = 4 covariance_type = ard_se delta = 0.5 theta_uniform = 1.0 sparse_method = uniform add_species = T n_sparse = 10}\n",
      "libAtoms::Hello World: 23/02/2021   20:01:03\n",
      "libAtoms::Hello World: git version  https://github.com/libAtoms/QUIP.git,357e28d15-dirty\n",
      "libAtoms::Hello World: QUIP_ARCH    darwin_x86_64_gfortran\n",
      "libAtoms::Hello World: compiled on  Jan 15 2021 at 14:52:24\n",
      "libAtoms::Hello World: Random Seed = 72063741\n",
      "libAtoms::Hello World: global verbosity = 0\n",
      "\n",
      "Calls to system_timer will do nothing by default\n",
      "\n",
      "\n",
      "================================ Input parameters ==============================\n",
      "\n",
      "atoms_filename = //MANDATORY//\n",
      "at_file = /Users/simon/simon_ml/GAP/hydrogen_md.xyz\n",
      "gap = \" distance_2b cutoff = 4 covariance_type = ard_se delta = 0.5 theta_uniform = 1.0 sparse_method = uniform add_species = T n_sparse = 10\"\n",
      "e0 = 0.0\n",
      "local_property0 = 0.0\n",
      "e0_offset = 0.0\n",
      "e0_method = isolated\n",
      "default_kernel_regularisation = //MANDATORY//\n",
      "default_sigma = \"0.008 0.04 0 0\"\n",
      "sparse_jitter = 1.0e-10\n",
      "hessian_displacement = 1.0e-2\n",
      "hessian_delta = 1.0e-2\n",
      "baseline_param_filename = quip_params.xml\n",
      "core_param_file = quip_params.xml\n",
      "baseline_ip_args =\n",
      "core_ip_args =\n",
      "energy_parameter_name = energy\n",
      "local_property_parameter_name = local_property\n",
      "force_parameter_name = forces\n",
      "virial_parameter_name = virial\n",
      "hessian_parameter_name = hessian\n",
      "config_type_parameter_name = config_type\n",
      "kernel_regularisation_parameter_name = sigma\n",
      "sigma_parameter_name = sigma\n",
      "force_mask_parameter_name = force_mask\n",
      "parameter_name_prefix =\n",
      "config_type_kernel_regularisation =\n",
      "config_type_sigma =\n",
      "kernel_regularisation_is_per_atom = T\n",
      "sigma_per_atom = T\n",
      "do_copy_atoms_file = T\n",
      "do_copy_at_file = F\n",
      "sparse_separate_file = T\n",
      "sparse_use_actual_gpcov = F\n",
      "gap_file = gap_new.xml\n",
      "gp_file = testGAP.xml\n",
      "verbosity = NORMAL\n",
      "rnd_seed = -1\n",
      "openmp_chunk_size = 1\n",
      "do_ip_timing = F\n",
      "template_file = template.xyz\n",
      "sparsify_only_no_fit = F\n",
      "\n",
      "========================================  ======================================\n",
      "\n",
      "\n",
      "============== Gaussian Approximation Potentials - Database fitting ============\n",
      "\n",
      "\n",
      "Initial parsing of command line arguments finished.\n",
      "Found 1 GAPs.\n",
      "Descriptors have been parsed\n",
      "XYZ file read\n",
      "Old GAP: { distance_2b cutoff = 4 covariance_type = ard_se delta = 0.5 theta_uniform = 1.0 sparse_method = uniform add_species = T n_sparse = 10}\n",
      "New GAP: { distance_2b cutoff = 4 covariance_type = ard_se delta = 0.5 theta_uniform = 1.0 sparse_method = uniform             = T n_sparse = 10 Z1=1 Z2=1}\n",
      "Multispecies support added where requested\n",
      "\n",
      "===================== Report on number of descriptors found ====================\n",
      "\n",
      "---------------------------------------------------------------------\n",
      "Descriptor:  distance_2b cutoff = 4 covariance_type = ard_se delta = 0.5 theta_uniform = 1.0 sparse_method = uniform             = T n_sparse = 10 Z1=1 Z2=1\n",
      "Number of descriptors:                        1833600\n",
      "Number of partial derivatives of descriptors: 11001600\n",
      "\n",
      "========================================  ======================================\n",
      "\n",
      "E0/atom =   0.32100000000000000E+001  0.00000000000000000E+000  0.00000000000000000E+000  0.00000000000000000E+000  0.00000000000000000E+000  0.00000000000000000E+000  0.00000000000000000E+000  0.00000000000000000E+000  0.00000000000000000E+000  0.00000000000000000E+000  0.00000000000000000E+000  0.00000000000000000E+000  0.00000000000000000E+000  0.00000000000000000E+000  0.00000000000000000E+000  0.00000000000000000E+000  0.00000000000000000E+000  0.00000000000000000E+000  0.00000000000000000E+000  0.00000000000000000E+000  0.00000000000000000E+000  0.00000000000000000E+000  0.00000000000000000E+000  0.00000000000000000E+000  0.00000000000000000E+000  0.00000000000000000E+000  0.00000000000000000E+000  0.00000000000000000E+000  0.00000000000000000E+000  0.00000000000000000E+000  0.00000000000000000E+000  0.00000000000000000E+000  0.00000000000000000E+000  0.00000000000000000E+000  0.00000000000000000E+000  0.00000000000000000E+000  0.00000000000000000E+000  0.00000000000000000E+000  0.00000000000000000E+000  0.00000000000000000E+000  0.00000000000000000E+000  0.00000000000000000E+000  0.00000000000000000E+000  0.00000000000000000E+000  0.00000000000000000E+000  0.00000000000000000E+000  0.00000000000000000E+000  0.00000000000000000E+000  0.00000000000000000E+000  0.00000000000000000E+000  0.00000000000000000E+000  0.00000000000000000E+000  0.00000000000000000E+000  0.00000000000000000E+000  0.00000000000000000E+000  0.00000000000000000E+000  0.00000000000000000E+000  0.00000000000000000E+000  0.00000000000000000E+000  0.00000000000000000E+000  0.00000000000000000E+000  0.00000000000000000E+000  0.00000000000000000E+000  0.00000000000000000E+000  0.00000000000000000E+000  0.00000000000000000E+000  0.00000000000000000E+000  0.00000000000000000E+000  0.00000000000000000E+000  0.00000000000000000E+000  0.00000000000000000E+000  0.00000000000000000E+000  0.00000000000000000E+000  0.00000000000000000E+000  0.00000000000000000E+000  0.00000000000000000E+000  0.00000000000000000E+000  0.00000000000000000E+000  0.00000000000000000E+000  0.00000000000000000E+000  0.00000000000000000E+000  0.00000000000000000E+000  0.00000000000000000E+000  0.00000000000000000E+000  0.00000000000000000E+000  0.00000000000000000E+000  0.00000000000000000E+000  0.00000000000000000E+000  0.00000000000000000E+000  0.00000000000000000E+000  0.00000000000000000E+000  0.00000000000000000E+000  0.00000000000000000E+000  0.00000000000000000E+000  0.00000000000000000E+000  0.00000000000000000E+000  0.00000000000000000E+000  0.00000000000000000E+000  0.00000000000000000E+000  0.00000000000000000E+000  0.00000000000000000E+000  0.00000000000000000E+000  0.00000000000000000E+000  0.00000000000000000E+000  0.00000000000000000E+000  0.00000000000000000E+000  0.00000000000000000E+000  0.00000000000000000E+000  0.00000000000000000E+000  0.00000000000000000E+000  0.00000000000000000E+000  0.00000000000000000E+000  0.00000000000000000E+000  0.00000000000000000E+000  0.00000000000000000E+000  0.00000000000000000E+000  0.00000000000000000E+000  0.00000000000000000E+000\n",
      "\n",
      "========== Report on number of target properties found in training XYZ: ========\n",
      "\n",
      "Number of target energies (property name: energy) found: 51\n",
      "Number of target local_properties (property name: local_property) found: 0\n",
      "Number of target forces (property name: forces) found: 28803\n",
      "Number of target virials (property name: virial) found: 0\n",
      "Number of target Hessian eigenvalues (property name: hessian) found: 0\n",
      "\n",
      "================================= End of report ================================\n",
      "\n",
      "\n",
      "===== Report on per-configuration/per-atom sigma (error parameter) settings ====\n",
      "\n",
      "Number of per-configuration setting of energy_sigma found:     0\n",
      "Number of per-configuration setting of force_sigma found:      0\n",
      "Number of per-configuration setting of virial_sigma found:     0\n",
      "Number of per-configuration setting of hessian_sigma found:    0\n",
      "Number of per-atom setting of force_atom_sigma found:          0\n",
      "Number of per-component setting of force_component_sigma found:          0\n",
      "\n",
      "================================= End of report ================================\n",
      "\n",
      "Cartesian coordinates transformed to descriptors\n",
      "Started sparse covariance matrix calculation of coordinate 1\n",
      "\n",
      "Finished sparse covariance matrix calculation of coordinate 1\n",
      "TIMER: gpFull_covarianceMatrix_sparse_Coordinate1_sparse  done in 19.745833000000001 cpu secs, 19.895663022994995 wall clock secs.\n",
      "TIMER: gpFull_covarianceMatrix_sparse_Coordinate1         done in 19.745868999999999 cpu secs, 19.895699024200439 wall clock secs.\n",
      "TIMER: gpFull_covarianceMatrix_sparse_LinearAlgebra       done in .85080000000026246E-002 cpu secs, .36323070526123047E-002 wall clock secs.\n",
      "TIMER: gpFull_covarianceMatrix_sparse_FunctionValues      done in .42000000000541604E-004 cpu secs, .42915344238281250E-004 wall clock secs.\n",
      "TIMER: gpFull_covarianceMatrix_sparse                     done in 19.756568999999999 cpu secs, 19.901529073715210 wall clock secs.\n",
      "TIMER: GP sparsify                                        done in 19.767449999999997 cpu secs, 19.921484231948853 wall clock secs.\n",
      "\n",
      "libAtoms::Finalise: 23/02/2021   20:01:29\n",
      "libAtoms::Finalise: Bye-Bye!\n",
      "\n"
     ]
    }
   ],
   "source": [
    "# Add descriptor to GAPModel \n",
    "model.train(parameters,training_data=t_data,GAP_potential='testGAP1.xml')\n"
   ]
  },
  {
   "cell_type": "code",
   "execution_count": 81,
   "metadata": {},
   "outputs": [
    {
     "name": "stderr",
     "output_type": "stream",
     "text": [
      "/Library/Frameworks/Python.framework/Versions/3.8/lib/python3.8/site-packages/ase/io/extxyz.py:997: UserWarning: write_xyz() overwriting array \"forces\" present in atoms.arrays with stored results from calculator\n",
      "  warnings.warn('write_xyz() overwriting array \"{0}\" present '\n",
      "/Library/Frameworks/Python.framework/Versions/3.8/lib/python3.8/site-packages/ase/io/extxyz.py:997: UserWarning: write_xyz() overwriting array \"energies\" present in atoms.arrays with stored results from calculator\n",
      "  warnings.warn('write_xyz() overwriting array \"{0}\" present '\n"
     ]
    }
   ],
   "source": [
    "# Try splitting data into test and validation set\n",
    "import ase\n",
    "data = ase.io.read(\"/Users/simon/simon_ml/GAP/hydrogen_md.xyz\",':')\n",
    "\n",
    "# Randomize sampling\n",
    "import random \n",
    "# Take 80percent of the data as training data \n",
    "n_train = round(len(data)*80/100)\n",
    "train_index = random.sample(range(1,len(data)+1),n_train)\n",
    "\n",
    "\n",
    "# Take 20percent of the data as test data\n",
    "n_test = len(data)-(n_train)\n",
    "test_index = random.sample(range(1,len(data)+1),n_test)\n",
    "\n",
    "# Small test if splitting indices worked correctly\n",
    "complete = train_index+test_index\n",
    "if len(complete) == len(data):\n",
    "    train_data = [data[i-1] for i in train_index]\n",
    "    test_data = [data[i-1] for i in test_index]\n",
    "    \n",
    "# Write train and test data to .xyz file format because this format is needed for gap_fit and quip \n",
    "ase.io.write('train_data1.xyz',train_data[:])\n",
    "ase.io.write('test_data1.xyz',test_data[:])\n",
    "train_data1_xyz = 'train_data1.xyz'\n",
    "test_data1_xyz = 'test_data1.xyz'\n",
    "\n"
   ]
  },
  {
   "cell_type": "code",
   "execution_count": 83,
   "metadata": {},
   "outputs": [
    {
     "name": "stdout",
     "output_type": "stream",
     "text": [
      " gap_fit energy_parameter_name = energy  force_parameter_name = forces do_copy_at_file = F  sparse_separate_file = T gp_file = testGAP1.xml at_file = 'train_data1.xyz'  default_sigma = {0.008 0.04 0 0} gap = {  distance_2b cutoff = 4 covariance_type = ard_se delta = 0.5 theta_uniform = 1.0 sparse_method = uniform add_species = T n_sparse = 10}\n",
      "libAtoms::Hello World: 24/02/2021   10:41:01\n",
      "libAtoms::Hello World: git version  https://github.com/libAtoms/QUIP.git,357e28d15-dirty\n",
      "libAtoms::Hello World: QUIP_ARCH    darwin_x86_64_gfortran\n",
      "libAtoms::Hello World: compiled on  Jan 15 2021 at 14:52:24\n",
      "libAtoms::Hello World: Random Seed = 38461379\n",
      "libAtoms::Hello World: global verbosity = 0\n",
      "\n",
      "Calls to system_timer will do nothing by default\n",
      "\n",
      "\n",
      "================================ Input parameters ==============================\n",
      "\n",
      "atoms_filename = //MANDATORY//\n",
      "at_file = train_data1.xyz\n",
      "gap = \" distance_2b cutoff = 4 covariance_type = ard_se delta = 0.5 theta_uniform = 1.0 sparse_method = uniform add_species = T n_sparse = 10\"\n",
      "e0 = 0.0\n",
      "local_property0 = 0.0\n",
      "e0_offset = 0.0\n",
      "e0_method = isolated\n",
      "default_kernel_regularisation = //MANDATORY//\n",
      "default_sigma = \"0.008 0.04 0 0\"\n",
      "sparse_jitter = 1.0e-10\n",
      "hessian_displacement = 1.0e-2\n",
      "hessian_delta = 1.0e-2\n",
      "baseline_param_filename = quip_params.xml\n",
      "core_param_file = quip_params.xml\n",
      "baseline_ip_args =\n",
      "core_ip_args =\n",
      "energy_parameter_name = energy\n",
      "local_property_parameter_name = local_property\n",
      "force_parameter_name = forces\n",
      "virial_parameter_name = virial\n",
      "hessian_parameter_name = hessian\n",
      "config_type_parameter_name = config_type\n",
      "kernel_regularisation_parameter_name = sigma\n",
      "sigma_parameter_name = sigma\n",
      "force_mask_parameter_name = force_mask\n",
      "parameter_name_prefix =\n",
      "config_type_kernel_regularisation =\n",
      "config_type_sigma =\n",
      "kernel_regularisation_is_per_atom = T\n",
      "sigma_per_atom = T\n",
      "do_copy_atoms_file = T\n",
      "do_copy_at_file = F\n",
      "sparse_separate_file = T\n",
      "sparse_use_actual_gpcov = F\n",
      "gap_file = gap_new.xml\n",
      "gp_file = testGAP1.xml\n",
      "verbosity = NORMAL\n",
      "rnd_seed = -1\n",
      "openmp_chunk_size = 1\n",
      "do_ip_timing = F\n",
      "template_file = template.xyz\n",
      "sparsify_only_no_fit = F\n",
      "\n",
      "========================================  ======================================\n",
      "\n",
      "\n",
      "============== Gaussian Approximation Potentials - Database fitting ============\n",
      "\n",
      "\n",
      "Initial parsing of command line arguments finished.\n",
      "Found 1 GAPs.\n",
      "Descriptors have been parsed\n",
      "XYZ file read\n",
      "Old GAP: { distance_2b cutoff = 4 covariance_type = ard_se delta = 0.5 theta_uniform = 1.0 sparse_method = uniform add_species = T n_sparse = 10}\n",
      "New GAP: { distance_2b cutoff = 4 covariance_type = ard_se delta = 0.5 theta_uniform = 1.0 sparse_method = uniform             = T n_sparse = 10 Z1=1 Z2=1}\n",
      "Multispecies support added where requested\n",
      "\n",
      "===================== Report on number of descriptors found ====================\n",
      "\n",
      "---------------------------------------------------------------------\n",
      "Descriptor:  distance_2b cutoff = 4 covariance_type = ard_se delta = 0.5 theta_uniform = 1.0 sparse_method = uniform             = T n_sparse = 10 Z1=1 Z2=1\n",
      "Number of descriptors:                        1466880\n",
      "Number of partial derivatives of descriptors: 8801280\n",
      "\n",
      "========================================  ======================================\n",
      "\n",
      "E0/atom =   0.32100000000000000E+001  0.00000000000000000E+000  0.00000000000000000E+000  0.00000000000000000E+000  0.00000000000000000E+000  0.00000000000000000E+000  0.00000000000000000E+000  0.00000000000000000E+000  0.00000000000000000E+000  0.00000000000000000E+000  0.00000000000000000E+000  0.00000000000000000E+000  0.00000000000000000E+000  0.00000000000000000E+000  0.00000000000000000E+000  0.00000000000000000E+000  0.00000000000000000E+000  0.00000000000000000E+000  0.00000000000000000E+000  0.00000000000000000E+000  0.00000000000000000E+000  0.00000000000000000E+000  0.00000000000000000E+000  0.00000000000000000E+000  0.00000000000000000E+000  0.00000000000000000E+000  0.00000000000000000E+000  0.00000000000000000E+000  0.00000000000000000E+000  0.00000000000000000E+000  0.00000000000000000E+000  0.00000000000000000E+000  0.00000000000000000E+000  0.00000000000000000E+000  0.00000000000000000E+000  0.00000000000000000E+000  0.00000000000000000E+000  0.00000000000000000E+000  0.00000000000000000E+000  0.00000000000000000E+000  0.00000000000000000E+000  0.00000000000000000E+000  0.00000000000000000E+000  0.00000000000000000E+000  0.00000000000000000E+000  0.00000000000000000E+000  0.00000000000000000E+000  0.00000000000000000E+000  0.00000000000000000E+000  0.00000000000000000E+000  0.00000000000000000E+000  0.00000000000000000E+000  0.00000000000000000E+000  0.00000000000000000E+000  0.00000000000000000E+000  0.00000000000000000E+000  0.00000000000000000E+000  0.00000000000000000E+000  0.00000000000000000E+000  0.00000000000000000E+000  0.00000000000000000E+000  0.00000000000000000E+000  0.00000000000000000E+000  0.00000000000000000E+000  0.00000000000000000E+000  0.00000000000000000E+000  0.00000000000000000E+000  0.00000000000000000E+000  0.00000000000000000E+000  0.00000000000000000E+000  0.00000000000000000E+000  0.00000000000000000E+000  0.00000000000000000E+000  0.00000000000000000E+000  0.00000000000000000E+000  0.00000000000000000E+000  0.00000000000000000E+000  0.00000000000000000E+000  0.00000000000000000E+000  0.00000000000000000E+000  0.00000000000000000E+000  0.00000000000000000E+000  0.00000000000000000E+000  0.00000000000000000E+000  0.00000000000000000E+000  0.00000000000000000E+000  0.00000000000000000E+000  0.00000000000000000E+000  0.00000000000000000E+000  0.00000000000000000E+000  0.00000000000000000E+000  0.00000000000000000E+000  0.00000000000000000E+000  0.00000000000000000E+000  0.00000000000000000E+000  0.00000000000000000E+000  0.00000000000000000E+000  0.00000000000000000E+000  0.00000000000000000E+000  0.00000000000000000E+000  0.00000000000000000E+000  0.00000000000000000E+000  0.00000000000000000E+000  0.00000000000000000E+000  0.00000000000000000E+000  0.00000000000000000E+000  0.00000000000000000E+000  0.00000000000000000E+000  0.00000000000000000E+000  0.00000000000000000E+000  0.00000000000000000E+000  0.00000000000000000E+000  0.00000000000000000E+000  0.00000000000000000E+000  0.00000000000000000E+000  0.00000000000000000E+000  0.00000000000000000E+000  0.00000000000000000E+000\n",
      "\n",
      "========== Report on number of target properties found in training XYZ: ========\n",
      "\n",
      "Number of target energies (property name: energy) found: 41\n",
      "Number of target local_properties (property name: local_property) found: 0\n",
      "Number of target forces (property name: forces) found: 23043\n",
      "Number of target virials (property name: virial) found: 0\n",
      "Number of target Hessian eigenvalues (property name: hessian) found: 0\n",
      "\n",
      "================================= End of report ================================\n",
      "\n",
      "\n",
      "===== Report on per-configuration/per-atom sigma (error parameter) settings ====\n",
      "\n",
      "Number of per-configuration setting of energy_sigma found:     0\n",
      "Number of per-configuration setting of force_sigma found:      0\n",
      "Number of per-configuration setting of virial_sigma found:     0\n",
      "Number of per-configuration setting of hessian_sigma found:    0\n",
      "Number of per-atom setting of force_atom_sigma found:          0\n",
      "Number of per-component setting of force_component_sigma found:          0\n",
      "\n",
      "================================= End of report ================================\n",
      "\n",
      "Cartesian coordinates transformed to descriptors\n",
      "Started sparse covariance matrix calculation of coordinate 1\n",
      "\n",
      "Finished sparse covariance matrix calculation of coordinate 1\n",
      "TIMER: gpFull_covarianceMatrix_sparse_Coordinate1_sparse  done in 16.847324000000000 cpu secs, 18.988880157470703 wall clock secs.\n",
      "TIMER: gpFull_covarianceMatrix_sparse_Coordinate1         done in 16.847366000000001 cpu secs, 18.988920927047729 wall clock secs.\n",
      "TIMER: gpFull_covarianceMatrix_sparse_LinearAlgebra       done in .73909999999983711E-002 cpu secs, .44801235198974609E-002 wall clock secs.\n",
      "TIMER: gpFull_covarianceMatrix_sparse_FunctionValues      done in .45000000000072760E-004 cpu secs, .44107437133789062E-004 wall clock secs.\n",
      "TIMER: gpFull_covarianceMatrix_sparse                     done in 16.855426999999999 cpu secs, 18.994071006774902 wall clock secs.\n",
      "TIMER: GP sparsify                                        done in 16.868141999999999 cpu secs, 19.016728162765503 wall clock secs.\n",
      "\n",
      "libAtoms::Finalise: 24/02/2021   10:41:25\n",
      "libAtoms::Finalise: Bye-Bye!\n",
      "\n"
     ]
    }
   ],
   "source": [
    "model.train(parameters,training_data=train_data1_xyz,GAP_potential='testGAP1.xml')"
   ]
  },
  {
   "cell_type": "code",
   "execution_count": null,
   "metadata": {},
   "outputs": [],
   "source": []
  }
 ],
 "metadata": {
  "kernelspec": {
   "display_name": "Python 3",
   "language": "python",
   "name": "python3"
  },
  "language_info": {
   "codemirror_mode": {
    "name": "ipython",
    "version": 3
   },
   "file_extension": ".py",
   "mimetype": "text/x-python",
   "name": "python",
   "nbconvert_exporter": "python",
   "pygments_lexer": "ipython3",
   "version": "3.8.2"
  }
 },
 "nbformat": 4,
 "nbformat_minor": 4
}
