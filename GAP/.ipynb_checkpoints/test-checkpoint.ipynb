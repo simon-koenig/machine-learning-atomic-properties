{
 "cells": [
  {
   "cell_type": "markdown",
   "metadata": {},
   "source": [
    "## Testing n stuff - simon k "
   ]
  },
  {
   "cell_type": "code",
   "execution_count": 1,
   "metadata": {},
   "outputs": [],
   "source": [
    "# Try: create the shell cmd string when creating the descriptor class\n",
    "from gap_models2 import GAPModel\n",
    "from gap_descriptors import distance_2b\n",
    "from gap_descriptors import angle_3b\n",
    "from gap_descriptors import soap"
   ]
  },
  {
   "cell_type": "code",
   "execution_count": 2,
   "metadata": {},
   "outputs": [
    {
     "name": "stdout",
     "output_type": "stream",
     "text": [
      " distance_2b cutoff = 4 covariance_type = ard_se delta = 0.5 theta_uniform = 1.0 sparse_method = uniform add_species = T n_sparse = 10\n",
      " angle_3b cutoff = 4 covariance_type = ard_se delta = 0.5 theta_fac = 0.5 sparse_method = uniform add_species = F n_sparse = 10\n"
     ]
    }
   ],
   "source": [
    "# Make descriptor(s)\n",
    "descriptor_2b = distance_2b(4,'ard_se',0.5,1.0,'uniform','T',10)\n",
    "descriptor_3b = angle_3b(cutoff=4,covariance_type='ard_se',delta=0.5,theta_fac=0.5,sparse_method='uniform',add_species='F',n_sparse=10)"
   ]
  },
  {
   "cell_type": "code",
   "execution_count": 3,
   "metadata": {},
   "outputs": [],
   "source": [
    "# Make instance of GAPModel\n",
    "model = GAPModel()"
   ]
  },
  {
   "cell_type": "code",
   "execution_count": null,
   "metadata": {},
   "outputs": [],
   "source": [
    "# maybe splitting randomly is the reason, let´s try with just splitting even and odd\n",
    "import ase.io\n",
    "traj = ase.io.read(hydrogen_md.xyz, ':-1')\n",
    "train_data = ase.io.write('train.xyz', traj[0::2]\n",
    "validate_data = ase.io.write('validate.xyz', traj[1::2]"
   ]
  },
  {
   "cell_type": "code",
   "execution_count": null,
   "metadata": {},
   "outputs": [],
   "source": []
  },
  {
   "cell_type": "code",
   "execution_count": 4,
   "metadata": {},
   "outputs": [
    {
     "name": "stdout",
     "output_type": "stream",
     "text": [
      " gap_fit energy_parameter_name = energy  force_parameter_name = forces do_copy_at_file = F  sparse_separate_file = T gp_file = GAPPotential_2b.xml at_file = 'train.xyz'  default_sigma = {0.008 0.04 0 0} gap = {  distance_2b cutoff = 4 covariance_type = ard_se delta = 0.5 theta_uniform = 1.0 sparse_method = uniform add_species = T n_sparse = 10: angle_3b cutoff = 4 covariance_type = ard_se delta = 0.5 theta_fac = 0.5 sparse_method = uniform add_species = F n_sparse = 10}\n",
      "libAtoms::Hello World: 02/03/2021   18:39:21\n",
      "libAtoms::Hello World: git version  https://github.com/libAtoms/QUIP.git,357e28d15-dirty\n",
      "libAtoms::Hello World: QUIP_ARCH    darwin_x86_64_gfortran\n",
      "libAtoms::Hello World: compiled on  Jan 15 2021 at 14:52:24\n",
      "libAtoms::Hello World: Random Seed = 67161041\n",
      "libAtoms::Hello World: global verbosity = 0\n",
      "\n",
      "Calls to system_timer will do nothing by default\n",
      "\n",
      "\n",
      "================================ Input parameters ==============================\n",
      "\n",
      "atoms_filename = //MANDATORY//\n",
      "at_file = train.xyz\n",
      "gap = \" distance_2b cutoff = 4 covariance_type = ard_se delta = 0.5 theta_uniform = 1.0 sparse_method = uniform add_species = T n_sparse = 10: angle_3b cutoff = 4 covariance_type = ard_se delta = 0.5 theta_fac = 0.5 sparse_method = uniform add_species = F n_sparse = 10\"\n",
      "e0 = 0.0\n",
      "local_property0 = 0.0\n",
      "e0_offset = 0.0\n",
      "e0_method = isolated\n",
      "default_kernel_regularisation = //MANDATORY//\n",
      "default_sigma = \"0.008 0.04 0 0\"\n",
      "sparse_jitter = 1.0e-10\n",
      "hessian_displacement = 1.0e-2\n",
      "hessian_delta = 1.0e-2\n",
      "baseline_param_filename = quip_params.xml\n",
      "core_param_file = quip_params.xml\n",
      "baseline_ip_args =\n",
      "core_ip_args =\n",
      "energy_parameter_name = energy\n",
      "local_property_parameter_name = local_property\n",
      "force_parameter_name = forces\n",
      "virial_parameter_name = virial\n",
      "hessian_parameter_name = hessian\n",
      "config_type_parameter_name = config_type\n",
      "kernel_regularisation_parameter_name = sigma\n",
      "sigma_parameter_name = sigma\n",
      "force_mask_parameter_name = force_mask\n",
      "parameter_name_prefix =\n",
      "config_type_kernel_regularisation =\n",
      "config_type_sigma =\n",
      "kernel_regularisation_is_per_atom = T\n",
      "sigma_per_atom = T\n",
      "do_copy_atoms_file = T\n",
      "do_copy_at_file = F\n",
      "sparse_separate_file = T\n",
      "sparse_use_actual_gpcov = F\n",
      "gap_file = gap_new.xml\n",
      "gp_file = GAPPotential_2b.xml\n",
      "verbosity = NORMAL\n",
      "rnd_seed = -1\n",
      "openmp_chunk_size = 1\n",
      "do_ip_timing = F\n",
      "template_file = template.xyz\n",
      "sparsify_only_no_fit = F\n",
      "\n",
      "========================================  ======================================\n",
      "\n",
      "\n",
      "============== Gaussian Approximation Potentials - Database fitting ============\n",
      "\n",
      "\n",
      "Initial parsing of command line arguments finished.\n",
      "Found 2 GAPs.\n",
      "Descriptors have been parsed\n",
      "XYZ file read\n",
      "Old GAP: { distance_2b cutoff = 4 covariance_type = ard_se delta = 0.5 theta_uniform = 1.0 sparse_method = uniform add_species = T n_sparse = 10}\n",
      "New GAP: { distance_2b cutoff = 4 covariance_type = ard_se delta = 0.5 theta_uniform = 1.0 sparse_method = uniform             = T n_sparse = 10 Z1=8 Z2=8}\n",
      "New GAP: { distance_2b cutoff = 4 covariance_type = ard_se delta = 0.5 theta_uniform = 1.0 sparse_method = uniform             = T n_sparse = 10 Z1=8 Z2=1}\n",
      "New GAP: { distance_2b cutoff = 4 covariance_type = ard_se delta = 0.5 theta_uniform = 1.0 sparse_method = uniform             = T n_sparse = 10 Z1=1 Z2=1}\n",
      "Unchanged GAP: { angle_3b cutoff = 4 covariance_type = ard_se delta = 0.5 theta_fac = 0.5 sparse_method = uniform add_species = F n_sparse = 10}\n",
      "Multispecies support added where requested\n",
      "\n",
      "===================== Report on number of descriptors found ====================\n",
      "\n",
      "---------------------------------------------------------------------\n",
      "Descriptor:  distance_2b cutoff = 4 covariance_type = ard_se delta = 0.5 theta_uniform = 1.0 sparse_method = uniform             = T n_sparse = 10 Z1=8 Z2=8\n",
      "Number of descriptors:                        13920\n",
      "Number of partial derivatives of descriptors: 83520\n",
      "---------------------------------------------------------------------\n",
      "Descriptor:  distance_2b cutoff = 4 covariance_type = ard_se delta = 0.5 theta_uniform = 1.0 sparse_method = uniform             = T n_sparse = 10 Z1=8 Z2=1\n",
      "Number of descriptors:                        64578\n",
      "Number of partial derivatives of descriptors: 387468\n",
      "---------------------------------------------------------------------\n",
      "Descriptor:  distance_2b cutoff = 4 covariance_type = ard_se delta = 0.5 theta_uniform = 1.0 sparse_method = uniform             = T n_sparse = 10 Z1=1 Z2=1\n",
      "Number of descriptors:                        58878\n",
      "Number of partial derivatives of descriptors: 353268\n",
      "---------------------------------------------------------------------\n",
      "Descriptor:  angle_3b cutoff = 4 covariance_type = ard_se delta = 0.5 theta_fac = 0.5 sparse_method = uniform add_species = F n_sparse = 10\n",
      "Number of descriptors:                        3797282\n",
      "Number of partial derivatives of descriptors: 34175538\n",
      "\n",
      "========================================  ======================================\n",
      "\n",
      "E0/atom =   0.32100000000000000E+001  0.00000000000000000E+000  0.00000000000000000E+000  0.00000000000000000E+000  0.00000000000000000E+000  0.00000000000000000E+000  0.00000000000000000E+000  0.45999999999999996E+001  0.00000000000000000E+000  0.00000000000000000E+000  0.00000000000000000E+000  0.00000000000000000E+000  0.00000000000000000E+000  0.00000000000000000E+000  0.00000000000000000E+000  0.00000000000000000E+000  0.00000000000000000E+000  0.00000000000000000E+000  0.00000000000000000E+000  0.00000000000000000E+000  0.00000000000000000E+000  0.00000000000000000E+000  0.00000000000000000E+000  0.00000000000000000E+000  0.00000000000000000E+000  0.00000000000000000E+000  0.00000000000000000E+000  0.00000000000000000E+000  0.00000000000000000E+000  0.00000000000000000E+000  0.00000000000000000E+000  0.00000000000000000E+000  0.00000000000000000E+000  0.00000000000000000E+000  0.00000000000000000E+000  0.00000000000000000E+000  0.00000000000000000E+000  0.00000000000000000E+000  0.00000000000000000E+000  0.00000000000000000E+000  0.00000000000000000E+000  0.00000000000000000E+000  0.00000000000000000E+000  0.00000000000000000E+000  0.00000000000000000E+000  0.00000000000000000E+000  0.00000000000000000E+000  0.00000000000000000E+000  0.00000000000000000E+000  0.00000000000000000E+000  0.00000000000000000E+000  0.00000000000000000E+000  0.00000000000000000E+000  0.00000000000000000E+000  0.00000000000000000E+000  0.00000000000000000E+000  0.00000000000000000E+000  0.00000000000000000E+000  0.00000000000000000E+000  0.00000000000000000E+000  0.00000000000000000E+000  0.00000000000000000E+000  0.00000000000000000E+000  0.00000000000000000E+000  0.00000000000000000E+000  0.00000000000000000E+000  0.00000000000000000E+000  0.00000000000000000E+000  0.00000000000000000E+000  0.00000000000000000E+000  0.00000000000000000E+000  0.00000000000000000E+000  0.00000000000000000E+000  0.00000000000000000E+000  0.00000000000000000E+000  0.00000000000000000E+000  0.00000000000000000E+000  0.00000000000000000E+000  0.00000000000000000E+000  0.00000000000000000E+000  0.00000000000000000E+000  0.00000000000000000E+000  0.00000000000000000E+000  0.00000000000000000E+000  0.00000000000000000E+000  0.00000000000000000E+000  0.00000000000000000E+000  0.00000000000000000E+000  0.00000000000000000E+000  0.00000000000000000E+000  0.00000000000000000E+000  0.00000000000000000E+000  0.00000000000000000E+000  0.00000000000000000E+000  0.00000000000000000E+000  0.00000000000000000E+000  0.00000000000000000E+000  0.00000000000000000E+000  0.00000000000000000E+000  0.00000000000000000E+000  0.00000000000000000E+000  0.00000000000000000E+000  0.00000000000000000E+000  0.00000000000000000E+000  0.00000000000000000E+000  0.00000000000000000E+000  0.00000000000000000E+000  0.00000000000000000E+000  0.00000000000000000E+000  0.00000000000000000E+000  0.00000000000000000E+000  0.00000000000000000E+000  0.00000000000000000E+000  0.00000000000000000E+000  0.00000000000000000E+000  0.00000000000000000E+000  0.00000000000000000E+000  0.00000000000000000E+000\n",
      "\n",
      "========== Report on number of target properties found in training XYZ: ========\n",
      "\n",
      "Number of target energies (property name: energy) found: 63\n",
      "Number of target local_properties (property name: local_property) found: 0\n",
      "Number of target forces (property name: forces) found: 14829\n",
      "Number of target virials (property name: virial) found: 0\n",
      "Number of target Hessian eigenvalues (property name: hessian) found: 0\n",
      "\n",
      "================================= End of report ================================\n",
      "\n",
      "\n",
      "===== Report on per-configuration/per-atom sigma (error parameter) settings ====\n",
      "\n",
      "Number of per-configuration setting of energy_sigma found:     0\n",
      "Number of per-configuration setting of force_sigma found:      0\n",
      "Number of per-configuration setting of virial_sigma found:     0\n",
      "Number of per-configuration setting of hessian_sigma found:    0\n",
      "Number of per-atom setting of force_atom_sigma found:          0\n",
      "Number of per-component setting of force_component_sigma found:          0\n",
      "\n",
      "================================= End of report ================================\n",
      "\n",
      "Cartesian coordinates transformed to descriptors\n",
      "Started sparse covariance matrix calculation of coordinate 1\n",
      "\n",
      "Finished sparse covariance matrix calculation of coordinate 1\n",
      "TIMER: gpFull_covarianceMatrix_sparse_Coordinate1_sparse  done in .14477800000000052 cpu secs, .14540600776672363 wall clock secs.\n",
      "TIMER: gpFull_covarianceMatrix_sparse_Coordinate1         done in .14480800000000116 cpu secs, .14543414115905762 wall clock secs.\n",
      "Started sparse covariance matrix calculation of coordinate 2\n",
      "\n",
      "Finished sparse covariance matrix calculation of coordinate 2\n",
      "TIMER: gpFull_covarianceMatrix_sparse_Coordinate2_sparse  done in .66475699999999982 cpu secs, .66582417488098145 wall clock secs.\n",
      "TIMER: gpFull_covarianceMatrix_sparse_Coordinate2         done in .66478200000000065 cpu secs, .66585111618041992 wall clock secs.\n",
      "Started sparse covariance matrix calculation of coordinate 3\n",
      "\n",
      "Finished sparse covariance matrix calculation of coordinate 3\n",
      "TIMER: gpFull_covarianceMatrix_sparse_Coordinate3_sparse  done in .59919299999999964 cpu secs, .59956622123718262 wall clock secs.\n",
      "TIMER: gpFull_covarianceMatrix_sparse_Coordinate3         done in .59921799999999870 cpu secs, .59959220886230469 wall clock secs.\n",
      "Started sparse covariance matrix calculation of coordinate 4\n",
      "\n",
      "Finished sparse covariance matrix calculation of coordinate 4\n",
      "TIMER: gpFull_covarianceMatrix_sparse_Coordinate4_sparse  done in 38.811879000000005 cpu secs, 38.983312129974365 wall clock secs.\n",
      "TIMER: gpFull_covarianceMatrix_sparse_Coordinate4         done in 38.811910999999995 cpu secs, 38.983344793319702 wall clock secs.\n",
      "TIMER: gpFull_covarianceMatrix_sparse_LinearAlgebra       done in .26046999999998377E-001 cpu secs, .18482923507690430E-001 wall clock secs.\n",
      "TIMER: gpFull_covarianceMatrix_sparse_FunctionValues      done in .23999999996249244E-004 cpu secs, .24080276489257812E-004 wall clock secs.\n",
      "TIMER: gpFull_covarianceMatrix_sparse                     done in 40.247857000000003 cpu secs, 40.413791894912720 wall clock secs.\n",
      "TIMER: GP sparsify                                        done in 40.291103000000000 cpu secs, 40.472716093063354 wall clock secs.\n",
      "\n",
      "libAtoms::Finalise: 02/03/2021   18:40:16\n",
      "libAtoms::Finalise: Bye-Bye!\n",
      "\n"
     ]
    },
    {
     "data": {
      "text/plain": [
       "'train.xyz'"
      ]
     },
     "execution_count": 4,
     "metadata": {},
     "output_type": "execute_result"
    }
   ],
   "source": [
    "train_data='train.xyz'\n",
    "validate_data='validate.xyz'\n",
    "model.train(descriptor_2b.get_parameter_string(),training_data=train_data,GAP_potential='GAPPotential_2b.xml')\n",
    "train_data"
   ]
  },
  {
   "cell_type": "code",
   "execution_count": 5,
   "metadata": {},
   "outputs": [
    {
     "name": "stdout",
     "output_type": "stream",
     "text": [
      " quip E=T F=T  atoms_filename='train.xyz'  param_filename='GAPPotential_2b.xml' | grep AT | sed 's/AT//'  > quip_2b_train.xyz \n",
      "\n",
      " quip E=T F=T  atoms_filename='validate.xyz'  param_filename='GAPPotential_2b.xml' | grep AT | sed 's/AT//'  > quip_2b_validate.xyz \n",
      "\n"
     ]
    }
   ],
   "source": [
    "model.predict(Test_Data=train_data, GAP_potential='GAPPotential_2b.xml',QUIP_Prediction='quip_2b_train.xyz')\n",
    "model.predict(Test_Data=validate_data, GAP_potential='GAPPotential_2b.xml',QUIP_Prediction='quip_2b_validate.xyz')"
   ]
  },
  {
   "cell_type": "code",
   "execution_count": 6,
   "metadata": {},
   "outputs": [],
   "source": [
    "from gapplot import QualityPlot\n",
    "import matplotlib.pyplot as plt "
   ]
  },
  {
   "cell_type": "code",
   "execution_count": 7,
   "metadata": {},
   "outputs": [
    {
     "data": {
      "image/png": "[encoded data removed]",
      "text/plain": [
       "<Figure size 432x288 with 4 Axes>"
      ]
     },
     "metadata": {
      "needs_background": "light"
     },
     "output_type": "display_data"
    }
   ],
   "source": [
    "fig,ax = plt.subplots(nrows=2,ncols=2)"
   ]
  },
  {
   "cell_type": "code",
   "execution_count": 8,
   "metadata": {},
   "outputs": [
    {
     "data": {
      "image/png": "[encoded data removed]",
      "text/plain": [
       "<Figure size 432x288 with 4 Axes>"
      ]
     },
     "metadata": {
      "needs_background": "light"
     },
     "output_type": "display_data"
    }
   ],
   "source": [
    "fig,ax = plt.subplots(nrows=2,ncols=2)\n",
    "qp = QualityPlot()\n",
    "\n",
    "qp.energies_on_energies(train_data,'quip_2b_train.xyz',ax[0,0],label=\"Energy of Training Data\")\n",
    "qp.energies_on_energies(validate_data,'quip_2b_validate.xyz',ax[0,1],label=\"Energy of Validation Data\")\n",
    "qp.forces_on_forces(train_data,'quip_2b_train.xyz',ax[1,0],label=\"Force of Training Data\")\n",
    "qp.forces_on_forces(validate_data,'quip_2b_validate.xyz',ax[1,1],label=\"Force of Validation Data\")\n"
   ]
  },
  {
   "cell_type": "code",
   "execution_count": null,
   "metadata": {
    "scrolled": true
   },
   "outputs": [],
   "source": []
  },
  {
   "cell_type": "code",
   "execution_count": null,
   "metadata": {},
   "outputs": [],
   "source": []
  }
 ],
 "metadata": {
  "kernelspec": {
   "display_name": "Python 3",
   "language": "python",
   "name": "python3"
  },
  "language_info": {
   "codemirror_mode": {
    "name": "ipython",
    "version": 3
   },
   "file_extension": ".py",
   "mimetype": "text/x-python",
   "name": "python",
   "nbconvert_exporter": "python",
   "pygments_lexer": "ipython3",
   "version": "3.8.2"
  }
 },
 "nbformat": 4,
 "nbformat_minor": 4
}
