{
 "cells": [
  {
   "cell_type": "markdown",
   "metadata": {},
   "source": [
    "## Testing n stuff - simon k "
   ]
  },
  {
   "cell_type": "code",
   "execution_count": 1,
   "metadata": {},
   "outputs": [],
   "source": [
    "# Try: create the shell cmd string when creating the descriptor class\n",
    "from gap_models2 import GAPModel\n",
    "from gap_descriptors import distance_2b\n",
    "from gap_descriptors import angle_3b\n",
    "from gap_descriptors import soap"
   ]
  },
  {
   "cell_type": "code",
   "execution_count": 2,
   "metadata": {},
   "outputs": [
    {
     "name": "stdout",
     "output_type": "stream",
     "text": [
      " distance_2b cutoff = 4 covariance_type = ard_se delta = 0.5 theta_uniform = 1.0 sparse_method = uniform add_species = T n_sparse = 10\n",
      " angle_3b cutoff = 4 covariance_type = ard_se delta = 0.5 theta_fac = 0.5 sparse_method = uniform add_species = F n_sparse = 10\n"
     ]
    }
   ],
   "source": [
    "# Make descriptor(s)\n",
    "descriptor_2b = distance_2b(4,'ard_se',0.5,1.0,'uniform','T',10)\n",
    "descriptor_3b = angle_3b(cutoff=4,covariance_type='ard_se',delta=0.5,theta_fac=0.5,sparse_method='uniform',add_species='F',n_sparse=10)"
   ]
  },
  {
   "cell_type": "code",
   "execution_count": 3,
   "metadata": {},
   "outputs": [],
   "source": [
    "# Make instance of GAPModel\n",
    "model = GAPModel()"
   ]
  },
  {
   "cell_type": "code",
   "execution_count": 5,
   "metadata": {},
   "outputs": [],
   "source": []
  },
  {
   "cell_type": "code",
   "execution_count": null,
   "metadata": {},
   "outputs": [],
   "source": []
  },
  {
   "cell_type": "code",
   "execution_count": 6,
   "metadata": {},
   "outputs": [
    {
     "name": "stdout",
     "output_type": "stream",
     "text": [
      " gap_fit energy_parameter_name = energy  force_parameter_name = forces do_copy_at_file = F  sparse_separate_file = T gp_file = GAPPotential_2b.xml at_file = 'train.xyz'  default_sigma = {0.008 0.04 0 0} gap = {  distance_2b cutoff = 4 covariance_type = ard_se delta = 0.5 theta_uniform = 1.0 sparse_method = uniform add_species = T n_sparse = 10}\n",
      "libAtoms::Hello World: 02/03/2021   18:52:42\n",
      "libAtoms::Hello World: git version  https://github.com/libAtoms/QUIP.git,357e28d15-dirty\n",
      "libAtoms::Hello World: QUIP_ARCH    darwin_x86_64_gfortran\n",
      "libAtoms::Hello World: compiled on  Jan 15 2021 at 14:52:24\n",
      "libAtoms::Hello World: Random Seed = 67962181\n",
      "libAtoms::Hello World: global verbosity = 0\n",
      "\n",
      "Calls to system_timer will do nothing by default\n",
      "\n",
      "\n",
      "================================ Input parameters ==============================\n",
      "\n",
      "atoms_filename = //MANDATORY//\n",
      "at_file = train.xyz\n",
      "gap = \" distance_2b cutoff = 4 covariance_type = ard_se delta = 0.5 theta_uniform = 1.0 sparse_method = uniform add_species = T n_sparse = 10\"\n",
      "e0 = 0.0\n",
      "local_property0 = 0.0\n",
      "e0_offset = 0.0\n",
      "e0_method = isolated\n",
      "default_kernel_regularisation = //MANDATORY//\n",
      "default_sigma = \"0.008 0.04 0 0\"\n",
      "sparse_jitter = 1.0e-10\n",
      "hessian_displacement = 1.0e-2\n",
      "hessian_delta = 1.0e-2\n",
      "baseline_param_filename = quip_params.xml\n",
      "core_param_file = quip_params.xml\n",
      "baseline_ip_args =\n",
      "core_ip_args =\n",
      "energy_parameter_name = energy\n",
      "local_property_parameter_name = local_property\n",
      "force_parameter_name = forces\n",
      "virial_parameter_name = virial\n",
      "hessian_parameter_name = hessian\n",
      "config_type_parameter_name = config_type\n",
      "kernel_regularisation_parameter_name = sigma\n",
      "sigma_parameter_name = sigma\n",
      "force_mask_parameter_name = force_mask\n",
      "parameter_name_prefix =\n",
      "config_type_kernel_regularisation =\n",
      "config_type_sigma =\n",
      "kernel_regularisation_is_per_atom = T\n",
      "sigma_per_atom = T\n",
      "do_copy_atoms_file = T\n",
      "do_copy_at_file = F\n",
      "sparse_separate_file = T\n",
      "sparse_use_actual_gpcov = F\n",
      "gap_file = gap_new.xml\n",
      "gp_file = GAPPotential_2b.xml\n",
      "verbosity = NORMAL\n",
      "rnd_seed = -1\n",
      "openmp_chunk_size = 1\n",
      "do_ip_timing = F\n",
      "template_file = template.xyz\n",
      "sparsify_only_no_fit = F\n",
      "\n",
      "========================================  ======================================\n",
      "\n",
      "\n",
      "============== Gaussian Approximation Potentials - Database fitting ============\n",
      "\n",
      "\n",
      "Initial parsing of command line arguments finished.\n",
      "Found 1 GAPs.\n",
      "Descriptors have been parsed\n",
      "XYZ file read\n",
      "Old GAP: { distance_2b cutoff = 4 covariance_type = ard_se delta = 0.5 theta_uniform = 1.0 sparse_method = uniform add_species = T n_sparse = 10}\n",
      "New GAP: { distance_2b cutoff = 4 covariance_type = ard_se delta = 0.5 theta_uniform = 1.0 sparse_method = uniform             = T n_sparse = 10 Z1=1 Z2=1}\n",
      "Multispecies support added where requested\n",
      "\n",
      "===================== Report on number of descriptors found ====================\n",
      "\n",
      "---------------------------------------------------------------------\n",
      "Descriptor:  distance_2b cutoff = 4 covariance_type = ard_se delta = 0.5 theta_uniform = 1.0 sparse_method = uniform             = T n_sparse = 10 Z1=1 Z2=1\n",
      "Number of descriptors:                        916800\n",
      "Number of partial derivatives of descriptors: 5500800\n",
      "\n",
      "========================================  ======================================\n",
      "\n",
      "E0/atom =   0.32100000000000000E+001  0.00000000000000000E+000  0.00000000000000000E+000  0.00000000000000000E+000  0.00000000000000000E+000  0.00000000000000000E+000  0.00000000000000000E+000  0.00000000000000000E+000  0.00000000000000000E+000  0.00000000000000000E+000  0.00000000000000000E+000  0.00000000000000000E+000  0.00000000000000000E+000  0.00000000000000000E+000  0.00000000000000000E+000  0.00000000000000000E+000  0.00000000000000000E+000  0.00000000000000000E+000  0.00000000000000000E+000  0.00000000000000000E+000  0.00000000000000000E+000  0.00000000000000000E+000  0.00000000000000000E+000  0.00000000000000000E+000  0.00000000000000000E+000  0.00000000000000000E+000  0.00000000000000000E+000  0.00000000000000000E+000  0.00000000000000000E+000  0.00000000000000000E+000  0.00000000000000000E+000  0.00000000000000000E+000  0.00000000000000000E+000  0.00000000000000000E+000  0.00000000000000000E+000  0.00000000000000000E+000  0.00000000000000000E+000  0.00000000000000000E+000  0.00000000000000000E+000  0.00000000000000000E+000  0.00000000000000000E+000  0.00000000000000000E+000  0.00000000000000000E+000  0.00000000000000000E+000  0.00000000000000000E+000  0.00000000000000000E+000  0.00000000000000000E+000  0.00000000000000000E+000  0.00000000000000000E+000  0.00000000000000000E+000  0.00000000000000000E+000  0.00000000000000000E+000  0.00000000000000000E+000  0.00000000000000000E+000  0.00000000000000000E+000  0.00000000000000000E+000  0.00000000000000000E+000  0.00000000000000000E+000  0.00000000000000000E+000  0.00000000000000000E+000  0.00000000000000000E+000  0.00000000000000000E+000  0.00000000000000000E+000  0.00000000000000000E+000  0.00000000000000000E+000  0.00000000000000000E+000  0.00000000000000000E+000  0.00000000000000000E+000  0.00000000000000000E+000  0.00000000000000000E+000  0.00000000000000000E+000  0.00000000000000000E+000  0.00000000000000000E+000  0.00000000000000000E+000  0.00000000000000000E+000  0.00000000000000000E+000  0.00000000000000000E+000  0.00000000000000000E+000  0.00000000000000000E+000  0.00000000000000000E+000  0.00000000000000000E+000  0.00000000000000000E+000  0.00000000000000000E+000  0.00000000000000000E+000  0.00000000000000000E+000  0.00000000000000000E+000  0.00000000000000000E+000  0.00000000000000000E+000  0.00000000000000000E+000  0.00000000000000000E+000  0.00000000000000000E+000  0.00000000000000000E+000  0.00000000000000000E+000  0.00000000000000000E+000  0.00000000000000000E+000  0.00000000000000000E+000  0.00000000000000000E+000  0.00000000000000000E+000  0.00000000000000000E+000  0.00000000000000000E+000  0.00000000000000000E+000  0.00000000000000000E+000  0.00000000000000000E+000  0.00000000000000000E+000  0.00000000000000000E+000  0.00000000000000000E+000  0.00000000000000000E+000  0.00000000000000000E+000  0.00000000000000000E+000  0.00000000000000000E+000  0.00000000000000000E+000  0.00000000000000000E+000  0.00000000000000000E+000  0.00000000000000000E+000  0.00000000000000000E+000  0.00000000000000000E+000  0.00000000000000000E+000  0.00000000000000000E+000\n",
      "\n",
      "========== Report on number of target properties found in training XYZ: ========\n",
      "\n",
      "Number of target energies (property name: energy) found: 26\n",
      "Number of target local_properties (property name: local_property) found: 0\n",
      "Number of target forces (property name: forces) found: 14403\n",
      "Number of target virials (property name: virial) found: 0\n",
      "Number of target Hessian eigenvalues (property name: hessian) found: 0\n",
      "\n",
      "================================= End of report ================================\n",
      "\n",
      "\n",
      "===== Report on per-configuration/per-atom sigma (error parameter) settings ====\n",
      "\n",
      "Number of per-configuration setting of energy_sigma found:     0\n",
      "Number of per-configuration setting of force_sigma found:      0\n",
      "Number of per-configuration setting of virial_sigma found:     0\n",
      "Number of per-configuration setting of hessian_sigma found:    0\n",
      "Number of per-atom setting of force_atom_sigma found:          0\n",
      "Number of per-component setting of force_component_sigma found:          0\n",
      "\n",
      "================================= End of report ================================\n",
      "\n",
      "Cartesian coordinates transformed to descriptors\n",
      "Started sparse covariance matrix calculation of coordinate 1\n",
      "\n",
      "Finished sparse covariance matrix calculation of coordinate 1\n",
      "TIMER: gpFull_covarianceMatrix_sparse_Coordinate1_sparse  done in 9.4397040000000008 cpu secs, 9.4906086921691895 wall clock secs.\n",
      "TIMER: gpFull_covarianceMatrix_sparse_Coordinate1         done in 9.4397340000000014 cpu secs, 9.4906370639801025 wall clock secs.\n",
      "TIMER: gpFull_covarianceMatrix_sparse_LinearAlgebra       done in .51089999999991420E-002 cpu secs, .30751228332519531E-002 wall clock secs.\n",
      "TIMER: gpFull_covarianceMatrix_sparse_FunctionValues      done in .26000000000081513E-004 cpu secs, .26226043701171875E-004 wall clock secs.\n",
      "TIMER: gpFull_covarianceMatrix_sparse                     done in 9.4459780000000002 cpu secs, 9.4948470592498779 wall clock secs.\n",
      "TIMER: GP sparsify                                        done in 9.4554009999999984 cpu secs, 9.5082948207855225 wall clock secs.\n",
      "\n",
      "libAtoms::Finalise: 02/03/2021   18:52:54\n",
      "libAtoms::Finalise: Bye-Bye!\n",
      "\n"
     ]
    },
    {
     "data": {
      "text/plain": [
       "'train.xyz'"
      ]
     },
     "execution_count": 6,
     "metadata": {},
     "output_type": "execute_result"
    }
   ],
   "source": [
    "train_data='train.xyz'\n",
    "validate_data='validate.xyz'\n",
    "model.train(descriptor_2b.get_parameter_string(),training_data=train_data,GAP_potential='GAPPotential_2b.xml')\n"
   ]
  },
  {
   "cell_type": "code",
   "execution_count": 7,
   "metadata": {},
   "outputs": [
    {
     "name": "stdout",
     "output_type": "stream",
     "text": [
      " quip E=T F=T  atoms_filename='train.xyz'  param_filename='GAPPotential_2b.xml' | grep AT | sed 's/AT//'  > quip_2b_train.xyz \n",
      "\n",
      " quip E=T F=T  atoms_filename='validate.xyz'  param_filename='GAPPotential_2b.xml' | grep AT | sed 's/AT//'  > quip_2b_validate.xyz \n",
      "\n"
     ]
    }
   ],
   "source": [
    "model.predict(Test_Data=train_data, GAP_potential='GAPPotential_2b.xml',QUIP_Prediction='quip_2b_train.xyz')\n",
    "model.predict(Test_Data=validate_data, GAP_potential='GAPPotential_2b.xml',QUIP_Prediction='quip_2b_validate.xyz')"
   ]
  },
  {
   "cell_type": "code",
   "execution_count": 8,
   "metadata": {},
   "outputs": [],
   "source": [
    "from gapplot import QualityPlot\n",
    "import matplotlib.pyplot as plt "
   ]
  },
  {
   "cell_type": "code",
   "execution_count": 9,
   "metadata": {},
   "outputs": [
    {
     "data": {
      "image/png": "[encoded data removed]",
      "text/plain": [
       "<Figure size 432x288 with 4 Axes>"
      ]
     },
     "metadata": {
      "needs_background": "light"
     },
     "output_type": "display_data"
    }
   ],
   "source": [
    "fig,ax = plt.subplots(nrows=1,ncols=2)"
   ]
  },
  {
   "cell_type": "code",
   "execution_count": 10,
   "metadata": {},
   "outputs": [
    {
     "data": {
      "image/png": "[encoded data removed]",
      "text/plain": [
       "<Figure size 432x288 with 4 Axes>"
      ]
     },
     "metadata": {
      "needs_background": "light"
     },
     "output_type": "display_data"
    }
   ],
   "source": [
    "fig,ax = plt.subplots(nrows=2,ncols=2)\n",
    "qp = QualityPlot()\n",
    "\n",
    "qp.energies_on_energies(train_data,'quip_2b_train.xyz',ax[0,0],label=\"Energy of Training Data\")\n",
    "qp.energies_on_energies(validate_data,'quip_2b_validate.xyz',ax[0,1],label=\"Energy of Validation Data\")\n"
   ]
  },
  {
   "cell_type": "markdown",
   "metadata": {
    "scrolled": true
   },
   "source": [
    "## Collect all possible covariance_types and sparse_methods in an array"
   ]
  },
  {
   "cell_type": "code",
   "execution_count": 1,
   "metadata": {},
   "outputs": [],
   "source": [
    "covariance_type = ['ard_se','dot_product']\n",
    "sparse_method = ['uniform','cur_points']\n"
   ]
  },
  {
   "cell_type": "markdown",
   "metadata": {},
   "source": [
    "## Make arrays values of cutoff, n_sparse, delta,theta_uniform, default_sigma, covariance_type, sparse_method"
   ]
  },
  {
   "cell_type": "code",
   "execution_count": 2,
   "metadata": {},
   "outputs": [
    {
     "name": "stdout",
     "output_type": "stream",
     "text": [
      "1 10 1 0.1 0.1 0.1 0.0 0.0\n",
      "1 10 1 0.1 0.01 0.01 0.0 0.0\n",
      "1 10 1 1 0.1 0.1 0.0 0.0\n",
      "1 10 1 1 0.01 0.01 0.0 0.0\n",
      "1 10 2 0.1 0.1 0.1 0.0 0.0\n",
      "1 10 2 0.1 0.01 0.01 0.0 0.0\n",
      "1 10 2 1 0.1 0.1 0.0 0.0\n",
      "1 10 2 1 0.01 0.01 0.0 0.0\n",
      "1 20 1 0.1 0.1 0.1 0.0 0.0\n",
      "1 20 1 0.1 0.01 0.01 0.0 0.0\n",
      "1 20 1 1 0.1 0.1 0.0 0.0\n",
      "1 20 1 1 0.01 0.01 0.0 0.0\n",
      "1 20 2 0.1 0.1 0.1 0.0 0.0\n",
      "1 20 2 0.1 0.01 0.01 0.0 0.0\n",
      "1 20 2 1 0.1 0.1 0.0 0.0\n",
      "1 20 2 1 0.01 0.01 0.0 0.0\n",
      "2 10 1 0.1 0.1 0.1 0.0 0.0\n",
      "2 10 1 0.1 0.01 0.01 0.0 0.0\n",
      "2 10 1 1 0.1 0.1 0.0 0.0\n",
      "2 10 1 1 0.01 0.01 0.0 0.0\n",
      "2 10 2 0.1 0.1 0.1 0.0 0.0\n",
      "2 10 2 0.1 0.01 0.01 0.0 0.0\n",
      "2 10 2 1 0.1 0.1 0.0 0.0\n",
      "2 10 2 1 0.01 0.01 0.0 0.0\n",
      "2 20 1 0.1 0.1 0.1 0.0 0.0\n",
      "2 20 1 0.1 0.01 0.01 0.0 0.0\n",
      "2 20 1 1 0.1 0.1 0.0 0.0\n",
      "2 20 1 1 0.01 0.01 0.0 0.0\n",
      "2 20 2 0.1 0.1 0.1 0.0 0.0\n",
      "2 20 2 0.1 0.01 0.01 0.0 0.0\n",
      "2 20 2 1 0.1 0.1 0.0 0.0\n",
      "2 20 2 1 0.01 0.01 0.0 0.0\n"
     ]
    }
   ],
   "source": [
    "cutoff = [1,2]\n",
    "n_sparse = [10,20]\n",
    "delta = [1,2]\n",
    "theta_uniform = [0.1,1]\n",
    "default_sigma = ['0.1 0.1 0.0 0.0', '0.01 0.01 0.0 0.0']\n",
    "covariance_type = ['ard_se','dot_product']\n",
    "sparse_method = ['uniform','cur_points']\n",
    "\n",
    "# Pythonic way of getting all list combinations\n",
    "import itertools\n",
    "li = [cutoff,covariance_type, delta, theta_uniform, n_sparse, sparse_method, default_sigma]\n",
    "comb = list(itertools.product(*li))\n",
    "\n",
    "\n",
    "for cut,cov,delta,theta,nsparse,sparse,sigma in comb:\n",
    "    print(f\"cutoff = {cut}, covariance_type = {cov}, delta = {delta}, theta_uniform = {theta}, n_sparse = {nsparse} \"\n",
    "         f\"sparse_method = {sparse}, default_sigma = {sigma}\")\n",
    "\n",
    "\n",
    "        "
   ]
  },
  {
   "cell_type": "code",
   "execution_count": 3,
   "metadata": {},
   "outputs": [
    {
     "name": "stdout",
     "output_type": "stream",
     "text": [
      "cutoff = 1, covariance_type = ard_se, delta = 1, theta_uniform = 0.1, n_sparse = 10 sparse_method = uniform, default_sigma = 0.1 0.1 0.0 0.0\n",
      "cutoff = 1, covariance_type = ard_se, delta = 1, theta_uniform = 0.1, n_sparse = 10 sparse_method = uniform, default_sigma = 0.01 0.01 0.0 0.0\n",
      "cutoff = 1, covariance_type = ard_se, delta = 1, theta_uniform = 0.1, n_sparse = 10 sparse_method = cur_points, default_sigma = 0.1 0.1 0.0 0.0\n",
      "cutoff = 1, covariance_type = ard_se, delta = 1, theta_uniform = 0.1, n_sparse = 10 sparse_method = cur_points, default_sigma = 0.01 0.01 0.0 0.0\n",
      "cutoff = 1, covariance_type = ard_se, delta = 1, theta_uniform = 0.1, n_sparse = 20 sparse_method = uniform, default_sigma = 0.1 0.1 0.0 0.0\n",
      "cutoff = 1, covariance_type = ard_se, delta = 1, theta_uniform = 0.1, n_sparse = 20 sparse_method = uniform, default_sigma = 0.01 0.01 0.0 0.0\n",
      "cutoff = 1, covariance_type = ard_se, delta = 1, theta_uniform = 0.1, n_sparse = 20 sparse_method = cur_points, default_sigma = 0.1 0.1 0.0 0.0\n",
      "cutoff = 1, covariance_type = ard_se, delta = 1, theta_uniform = 0.1, n_sparse = 20 sparse_method = cur_points, default_sigma = 0.01 0.01 0.0 0.0\n",
      "cutoff = 1, covariance_type = ard_se, delta = 1, theta_uniform = 1, n_sparse = 10 sparse_method = uniform, default_sigma = 0.1 0.1 0.0 0.0\n",
      "cutoff = 1, covariance_type = ard_se, delta = 1, theta_uniform = 1, n_sparse = 10 sparse_method = uniform, default_sigma = 0.01 0.01 0.0 0.0\n",
      "cutoff = 1, covariance_type = ard_se, delta = 1, theta_uniform = 1, n_sparse = 10 sparse_method = cur_points, default_sigma = 0.1 0.1 0.0 0.0\n",
      "cutoff = 1, covariance_type = ard_se, delta = 1, theta_uniform = 1, n_sparse = 10 sparse_method = cur_points, default_sigma = 0.01 0.01 0.0 0.0\n",
      "cutoff = 1, covariance_type = ard_se, delta = 1, theta_uniform = 1, n_sparse = 20 sparse_method = uniform, default_sigma = 0.1 0.1 0.0 0.0\n",
      "cutoff = 1, covariance_type = ard_se, delta = 1, theta_uniform = 1, n_sparse = 20 sparse_method = uniform, default_sigma = 0.01 0.01 0.0 0.0\n",
      "cutoff = 1, covariance_type = ard_se, delta = 1, theta_uniform = 1, n_sparse = 20 sparse_method = cur_points, default_sigma = 0.1 0.1 0.0 0.0\n",
      "cutoff = 1, covariance_type = ard_se, delta = 1, theta_uniform = 1, n_sparse = 20 sparse_method = cur_points, default_sigma = 0.01 0.01 0.0 0.0\n",
      "cutoff = 1, covariance_type = ard_se, delta = 2, theta_uniform = 0.1, n_sparse = 10 sparse_method = uniform, default_sigma = 0.1 0.1 0.0 0.0\n",
      "cutoff = 1, covariance_type = ard_se, delta = 2, theta_uniform = 0.1, n_sparse = 10 sparse_method = uniform, default_sigma = 0.01 0.01 0.0 0.0\n",
      "cutoff = 1, covariance_type = ard_se, delta = 2, theta_uniform = 0.1, n_sparse = 10 sparse_method = cur_points, default_sigma = 0.1 0.1 0.0 0.0\n",
      "cutoff = 1, covariance_type = ard_se, delta = 2, theta_uniform = 0.1, n_sparse = 10 sparse_method = cur_points, default_sigma = 0.01 0.01 0.0 0.0\n",
      "cutoff = 1, covariance_type = ard_se, delta = 2, theta_uniform = 0.1, n_sparse = 20 sparse_method = uniform, default_sigma = 0.1 0.1 0.0 0.0\n",
      "cutoff = 1, covariance_type = ard_se, delta = 2, theta_uniform = 0.1, n_sparse = 20 sparse_method = uniform, default_sigma = 0.01 0.01 0.0 0.0\n",
      "cutoff = 1, covariance_type = ard_se, delta = 2, theta_uniform = 0.1, n_sparse = 20 sparse_method = cur_points, default_sigma = 0.1 0.1 0.0 0.0\n",
      "cutoff = 1, covariance_type = ard_se, delta = 2, theta_uniform = 0.1, n_sparse = 20 sparse_method = cur_points, default_sigma = 0.01 0.01 0.0 0.0\n",
      "cutoff = 1, covariance_type = ard_se, delta = 2, theta_uniform = 1, n_sparse = 10 sparse_method = uniform, default_sigma = 0.1 0.1 0.0 0.0\n",
      "cutoff = 1, covariance_type = ard_se, delta = 2, theta_uniform = 1, n_sparse = 10 sparse_method = uniform, default_sigma = 0.01 0.01 0.0 0.0\n",
      "cutoff = 1, covariance_type = ard_se, delta = 2, theta_uniform = 1, n_sparse = 10 sparse_method = cur_points, default_sigma = 0.1 0.1 0.0 0.0\n",
      "cutoff = 1, covariance_type = ard_se, delta = 2, theta_uniform = 1, n_sparse = 10 sparse_method = cur_points, default_sigma = 0.01 0.01 0.0 0.0\n",
      "cutoff = 1, covariance_type = ard_se, delta = 2, theta_uniform = 1, n_sparse = 20 sparse_method = uniform, default_sigma = 0.1 0.1 0.0 0.0\n",
      "cutoff = 1, covariance_type = ard_se, delta = 2, theta_uniform = 1, n_sparse = 20 sparse_method = uniform, default_sigma = 0.01 0.01 0.0 0.0\n",
      "cutoff = 1, covariance_type = ard_se, delta = 2, theta_uniform = 1, n_sparse = 20 sparse_method = cur_points, default_sigma = 0.1 0.1 0.0 0.0\n",
      "cutoff = 1, covariance_type = ard_se, delta = 2, theta_uniform = 1, n_sparse = 20 sparse_method = cur_points, default_sigma = 0.01 0.01 0.0 0.0\n",
      "cutoff = 1, covariance_type = dot_product, delta = 1, theta_uniform = 0.1, n_sparse = 10 sparse_method = uniform, default_sigma = 0.1 0.1 0.0 0.0\n",
      "cutoff = 1, covariance_type = dot_product, delta = 1, theta_uniform = 0.1, n_sparse = 10 sparse_method = uniform, default_sigma = 0.01 0.01 0.0 0.0\n",
      "cutoff = 1, covariance_type = dot_product, delta = 1, theta_uniform = 0.1, n_sparse = 10 sparse_method = cur_points, default_sigma = 0.1 0.1 0.0 0.0\n",
      "cutoff = 1, covariance_type = dot_product, delta = 1, theta_uniform = 0.1, n_sparse = 10 sparse_method = cur_points, default_sigma = 0.01 0.01 0.0 0.0\n",
      "cutoff = 1, covariance_type = dot_product, delta = 1, theta_uniform = 0.1, n_sparse = 20 sparse_method = uniform, default_sigma = 0.1 0.1 0.0 0.0\n",
      "cutoff = 1, covariance_type = dot_product, delta = 1, theta_uniform = 0.1, n_sparse = 20 sparse_method = uniform, default_sigma = 0.01 0.01 0.0 0.0\n",
      "cutoff = 1, covariance_type = dot_product, delta = 1, theta_uniform = 0.1, n_sparse = 20 sparse_method = cur_points, default_sigma = 0.1 0.1 0.0 0.0\n",
      "cutoff = 1, covariance_type = dot_product, delta = 1, theta_uniform = 0.1, n_sparse = 20 sparse_method = cur_points, default_sigma = 0.01 0.01 0.0 0.0\n",
      "cutoff = 1, covariance_type = dot_product, delta = 1, theta_uniform = 1, n_sparse = 10 sparse_method = uniform, default_sigma = 0.1 0.1 0.0 0.0\n",
      "cutoff = 1, covariance_type = dot_product, delta = 1, theta_uniform = 1, n_sparse = 10 sparse_method = uniform, default_sigma = 0.01 0.01 0.0 0.0\n",
      "cutoff = 1, covariance_type = dot_product, delta = 1, theta_uniform = 1, n_sparse = 10 sparse_method = cur_points, default_sigma = 0.1 0.1 0.0 0.0\n",
      "cutoff = 1, covariance_type = dot_product, delta = 1, theta_uniform = 1, n_sparse = 10 sparse_method = cur_points, default_sigma = 0.01 0.01 0.0 0.0\n",
      "cutoff = 1, covariance_type = dot_product, delta = 1, theta_uniform = 1, n_sparse = 20 sparse_method = uniform, default_sigma = 0.1 0.1 0.0 0.0\n",
      "cutoff = 1, covariance_type = dot_product, delta = 1, theta_uniform = 1, n_sparse = 20 sparse_method = uniform, default_sigma = 0.01 0.01 0.0 0.0\n",
      "cutoff = 1, covariance_type = dot_product, delta = 1, theta_uniform = 1, n_sparse = 20 sparse_method = cur_points, default_sigma = 0.1 0.1 0.0 0.0\n",
      "cutoff = 1, covariance_type = dot_product, delta = 1, theta_uniform = 1, n_sparse = 20 sparse_method = cur_points, default_sigma = 0.01 0.01 0.0 0.0\n",
      "cutoff = 1, covariance_type = dot_product, delta = 2, theta_uniform = 0.1, n_sparse = 10 sparse_method = uniform, default_sigma = 0.1 0.1 0.0 0.0\n",
      "cutoff = 1, covariance_type = dot_product, delta = 2, theta_uniform = 0.1, n_sparse = 10 sparse_method = uniform, default_sigma = 0.01 0.01 0.0 0.0\n",
      "cutoff = 1, covariance_type = dot_product, delta = 2, theta_uniform = 0.1, n_sparse = 10 sparse_method = cur_points, default_sigma = 0.1 0.1 0.0 0.0\n",
      "cutoff = 1, covariance_type = dot_product, delta = 2, theta_uniform = 0.1, n_sparse = 10 sparse_method = cur_points, default_sigma = 0.01 0.01 0.0 0.0\n",
      "cutoff = 1, covariance_type = dot_product, delta = 2, theta_uniform = 0.1, n_sparse = 20 sparse_method = uniform, default_sigma = 0.1 0.1 0.0 0.0\n",
      "cutoff = 1, covariance_type = dot_product, delta = 2, theta_uniform = 0.1, n_sparse = 20 sparse_method = uniform, default_sigma = 0.01 0.01 0.0 0.0\n",
      "cutoff = 1, covariance_type = dot_product, delta = 2, theta_uniform = 0.1, n_sparse = 20 sparse_method = cur_points, default_sigma = 0.1 0.1 0.0 0.0\n",
      "cutoff = 1, covariance_type = dot_product, delta = 2, theta_uniform = 0.1, n_sparse = 20 sparse_method = cur_points, default_sigma = 0.01 0.01 0.0 0.0\n",
      "cutoff = 1, covariance_type = dot_product, delta = 2, theta_uniform = 1, n_sparse = 10 sparse_method = uniform, default_sigma = 0.1 0.1 0.0 0.0\n",
      "cutoff = 1, covariance_type = dot_product, delta = 2, theta_uniform = 1, n_sparse = 10 sparse_method = uniform, default_sigma = 0.01 0.01 0.0 0.0\n",
      "cutoff = 1, covariance_type = dot_product, delta = 2, theta_uniform = 1, n_sparse = 10 sparse_method = cur_points, default_sigma = 0.1 0.1 0.0 0.0\n",
      "cutoff = 1, covariance_type = dot_product, delta = 2, theta_uniform = 1, n_sparse = 10 sparse_method = cur_points, default_sigma = 0.01 0.01 0.0 0.0\n",
      "cutoff = 1, covariance_type = dot_product, delta = 2, theta_uniform = 1, n_sparse = 20 sparse_method = uniform, default_sigma = 0.1 0.1 0.0 0.0\n",
      "cutoff = 1, covariance_type = dot_product, delta = 2, theta_uniform = 1, n_sparse = 20 sparse_method = uniform, default_sigma = 0.01 0.01 0.0 0.0\n",
      "cutoff = 1, covariance_type = dot_product, delta = 2, theta_uniform = 1, n_sparse = 20 sparse_method = cur_points, default_sigma = 0.1 0.1 0.0 0.0\n",
      "cutoff = 1, covariance_type = dot_product, delta = 2, theta_uniform = 1, n_sparse = 20 sparse_method = cur_points, default_sigma = 0.01 0.01 0.0 0.0\n",
      "cutoff = 2, covariance_type = ard_se, delta = 1, theta_uniform = 0.1, n_sparse = 10 sparse_method = uniform, default_sigma = 0.1 0.1 0.0 0.0\n",
      "cutoff = 2, covariance_type = ard_se, delta = 1, theta_uniform = 0.1, n_sparse = 10 sparse_method = uniform, default_sigma = 0.01 0.01 0.0 0.0\n",
      "cutoff = 2, covariance_type = ard_se, delta = 1, theta_uniform = 0.1, n_sparse = 10 sparse_method = cur_points, default_sigma = 0.1 0.1 0.0 0.0\n",
      "cutoff = 2, covariance_type = ard_se, delta = 1, theta_uniform = 0.1, n_sparse = 10 sparse_method = cur_points, default_sigma = 0.01 0.01 0.0 0.0\n",
      "cutoff = 2, covariance_type = ard_se, delta = 1, theta_uniform = 0.1, n_sparse = 20 sparse_method = uniform, default_sigma = 0.1 0.1 0.0 0.0\n",
      "cutoff = 2, covariance_type = ard_se, delta = 1, theta_uniform = 0.1, n_sparse = 20 sparse_method = uniform, default_sigma = 0.01 0.01 0.0 0.0\n",
      "cutoff = 2, covariance_type = ard_se, delta = 1, theta_uniform = 0.1, n_sparse = 20 sparse_method = cur_points, default_sigma = 0.1 0.1 0.0 0.0\n",
      "cutoff = 2, covariance_type = ard_se, delta = 1, theta_uniform = 0.1, n_sparse = 20 sparse_method = cur_points, default_sigma = 0.01 0.01 0.0 0.0\n",
      "cutoff = 2, covariance_type = ard_se, delta = 1, theta_uniform = 1, n_sparse = 10 sparse_method = uniform, default_sigma = 0.1 0.1 0.0 0.0\n",
      "cutoff = 2, covariance_type = ard_se, delta = 1, theta_uniform = 1, n_sparse = 10 sparse_method = uniform, default_sigma = 0.01 0.01 0.0 0.0\n",
      "cutoff = 2, covariance_type = ard_se, delta = 1, theta_uniform = 1, n_sparse = 10 sparse_method = cur_points, default_sigma = 0.1 0.1 0.0 0.0\n",
      "cutoff = 2, covariance_type = ard_se, delta = 1, theta_uniform = 1, n_sparse = 10 sparse_method = cur_points, default_sigma = 0.01 0.01 0.0 0.0\n",
      "cutoff = 2, covariance_type = ard_se, delta = 1, theta_uniform = 1, n_sparse = 20 sparse_method = uniform, default_sigma = 0.1 0.1 0.0 0.0\n",
      "cutoff = 2, covariance_type = ard_se, delta = 1, theta_uniform = 1, n_sparse = 20 sparse_method = uniform, default_sigma = 0.01 0.01 0.0 0.0\n",
      "cutoff = 2, covariance_type = ard_se, delta = 1, theta_uniform = 1, n_sparse = 20 sparse_method = cur_points, default_sigma = 0.1 0.1 0.0 0.0\n",
      "cutoff = 2, covariance_type = ard_se, delta = 1, theta_uniform = 1, n_sparse = 20 sparse_method = cur_points, default_sigma = 0.01 0.01 0.0 0.0\n",
      "cutoff = 2, covariance_type = ard_se, delta = 2, theta_uniform = 0.1, n_sparse = 10 sparse_method = uniform, default_sigma = 0.1 0.1 0.0 0.0\n",
      "cutoff = 2, covariance_type = ard_se, delta = 2, theta_uniform = 0.1, n_sparse = 10 sparse_method = uniform, default_sigma = 0.01 0.01 0.0 0.0\n",
      "cutoff = 2, covariance_type = ard_se, delta = 2, theta_uniform = 0.1, n_sparse = 10 sparse_method = cur_points, default_sigma = 0.1 0.1 0.0 0.0\n",
      "cutoff = 2, covariance_type = ard_se, delta = 2, theta_uniform = 0.1, n_sparse = 10 sparse_method = cur_points, default_sigma = 0.01 0.01 0.0 0.0\n",
      "cutoff = 2, covariance_type = ard_se, delta = 2, theta_uniform = 0.1, n_sparse = 20 sparse_method = uniform, default_sigma = 0.1 0.1 0.0 0.0\n",
      "cutoff = 2, covariance_type = ard_se, delta = 2, theta_uniform = 0.1, n_sparse = 20 sparse_method = uniform, default_sigma = 0.01 0.01 0.0 0.0\n",
      "cutoff = 2, covariance_type = ard_se, delta = 2, theta_uniform = 0.1, n_sparse = 20 sparse_method = cur_points, default_sigma = 0.1 0.1 0.0 0.0\n",
      "cutoff = 2, covariance_type = ard_se, delta = 2, theta_uniform = 0.1, n_sparse = 20 sparse_method = cur_points, default_sigma = 0.01 0.01 0.0 0.0\n",
      "cutoff = 2, covariance_type = ard_se, delta = 2, theta_uniform = 1, n_sparse = 10 sparse_method = uniform, default_sigma = 0.1 0.1 0.0 0.0\n",
      "cutoff = 2, covariance_type = ard_se, delta = 2, theta_uniform = 1, n_sparse = 10 sparse_method = uniform, default_sigma = 0.01 0.01 0.0 0.0\n",
      "cutoff = 2, covariance_type = ard_se, delta = 2, theta_uniform = 1, n_sparse = 10 sparse_method = cur_points, default_sigma = 0.1 0.1 0.0 0.0\n",
      "cutoff = 2, covariance_type = ard_se, delta = 2, theta_uniform = 1, n_sparse = 10 sparse_method = cur_points, default_sigma = 0.01 0.01 0.0 0.0\n",
      "cutoff = 2, covariance_type = ard_se, delta = 2, theta_uniform = 1, n_sparse = 20 sparse_method = uniform, default_sigma = 0.1 0.1 0.0 0.0\n",
      "cutoff = 2, covariance_type = ard_se, delta = 2, theta_uniform = 1, n_sparse = 20 sparse_method = uniform, default_sigma = 0.01 0.01 0.0 0.0\n",
      "cutoff = 2, covariance_type = ard_se, delta = 2, theta_uniform = 1, n_sparse = 20 sparse_method = cur_points, default_sigma = 0.1 0.1 0.0 0.0\n",
      "cutoff = 2, covariance_type = ard_se, delta = 2, theta_uniform = 1, n_sparse = 20 sparse_method = cur_points, default_sigma = 0.01 0.01 0.0 0.0\n",
      "cutoff = 2, covariance_type = dot_product, delta = 1, theta_uniform = 0.1, n_sparse = 10 sparse_method = uniform, default_sigma = 0.1 0.1 0.0 0.0\n",
      "cutoff = 2, covariance_type = dot_product, delta = 1, theta_uniform = 0.1, n_sparse = 10 sparse_method = uniform, default_sigma = 0.01 0.01 0.0 0.0\n",
      "cutoff = 2, covariance_type = dot_product, delta = 1, theta_uniform = 0.1, n_sparse = 10 sparse_method = cur_points, default_sigma = 0.1 0.1 0.0 0.0\n",
      "cutoff = 2, covariance_type = dot_product, delta = 1, theta_uniform = 0.1, n_sparse = 10 sparse_method = cur_points, default_sigma = 0.01 0.01 0.0 0.0\n",
      "cutoff = 2, covariance_type = dot_product, delta = 1, theta_uniform = 0.1, n_sparse = 20 sparse_method = uniform, default_sigma = 0.1 0.1 0.0 0.0\n",
      "cutoff = 2, covariance_type = dot_product, delta = 1, theta_uniform = 0.1, n_sparse = 20 sparse_method = uniform, default_sigma = 0.01 0.01 0.0 0.0\n",
      "cutoff = 2, covariance_type = dot_product, delta = 1, theta_uniform = 0.1, n_sparse = 20 sparse_method = cur_points, default_sigma = 0.1 0.1 0.0 0.0\n",
      "cutoff = 2, covariance_type = dot_product, delta = 1, theta_uniform = 0.1, n_sparse = 20 sparse_method = cur_points, default_sigma = 0.01 0.01 0.0 0.0\n",
      "cutoff = 2, covariance_type = dot_product, delta = 1, theta_uniform = 1, n_sparse = 10 sparse_method = uniform, default_sigma = 0.1 0.1 0.0 0.0\n",
      "cutoff = 2, covariance_type = dot_product, delta = 1, theta_uniform = 1, n_sparse = 10 sparse_method = uniform, default_sigma = 0.01 0.01 0.0 0.0\n",
      "cutoff = 2, covariance_type = dot_product, delta = 1, theta_uniform = 1, n_sparse = 10 sparse_method = cur_points, default_sigma = 0.1 0.1 0.0 0.0\n",
      "cutoff = 2, covariance_type = dot_product, delta = 1, theta_uniform = 1, n_sparse = 10 sparse_method = cur_points, default_sigma = 0.01 0.01 0.0 0.0\n",
      "cutoff = 2, covariance_type = dot_product, delta = 1, theta_uniform = 1, n_sparse = 20 sparse_method = uniform, default_sigma = 0.1 0.1 0.0 0.0\n",
      "cutoff = 2, covariance_type = dot_product, delta = 1, theta_uniform = 1, n_sparse = 20 sparse_method = uniform, default_sigma = 0.01 0.01 0.0 0.0\n",
      "cutoff = 2, covariance_type = dot_product, delta = 1, theta_uniform = 1, n_sparse = 20 sparse_method = cur_points, default_sigma = 0.1 0.1 0.0 0.0\n",
      "cutoff = 2, covariance_type = dot_product, delta = 1, theta_uniform = 1, n_sparse = 20 sparse_method = cur_points, default_sigma = 0.01 0.01 0.0 0.0\n",
      "cutoff = 2, covariance_type = dot_product, delta = 2, theta_uniform = 0.1, n_sparse = 10 sparse_method = uniform, default_sigma = 0.1 0.1 0.0 0.0\n",
      "cutoff = 2, covariance_type = dot_product, delta = 2, theta_uniform = 0.1, n_sparse = 10 sparse_method = uniform, default_sigma = 0.01 0.01 0.0 0.0\n",
      "cutoff = 2, covariance_type = dot_product, delta = 2, theta_uniform = 0.1, n_sparse = 10 sparse_method = cur_points, default_sigma = 0.1 0.1 0.0 0.0\n",
      "cutoff = 2, covariance_type = dot_product, delta = 2, theta_uniform = 0.1, n_sparse = 10 sparse_method = cur_points, default_sigma = 0.01 0.01 0.0 0.0\n",
      "cutoff = 2, covariance_type = dot_product, delta = 2, theta_uniform = 0.1, n_sparse = 20 sparse_method = uniform, default_sigma = 0.1 0.1 0.0 0.0\n",
      "cutoff = 2, covariance_type = dot_product, delta = 2, theta_uniform = 0.1, n_sparse = 20 sparse_method = uniform, default_sigma = 0.01 0.01 0.0 0.0\n",
      "cutoff = 2, covariance_type = dot_product, delta = 2, theta_uniform = 0.1, n_sparse = 20 sparse_method = cur_points, default_sigma = 0.1 0.1 0.0 0.0\n",
      "cutoff = 2, covariance_type = dot_product, delta = 2, theta_uniform = 0.1, n_sparse = 20 sparse_method = cur_points, default_sigma = 0.01 0.01 0.0 0.0\n",
      "cutoff = 2, covariance_type = dot_product, delta = 2, theta_uniform = 1, n_sparse = 10 sparse_method = uniform, default_sigma = 0.1 0.1 0.0 0.0\n",
      "cutoff = 2, covariance_type = dot_product, delta = 2, theta_uniform = 1, n_sparse = 10 sparse_method = uniform, default_sigma = 0.01 0.01 0.0 0.0\n",
      "cutoff = 2, covariance_type = dot_product, delta = 2, theta_uniform = 1, n_sparse = 10 sparse_method = cur_points, default_sigma = 0.1 0.1 0.0 0.0\n",
      "cutoff = 2, covariance_type = dot_product, delta = 2, theta_uniform = 1, n_sparse = 10 sparse_method = cur_points, default_sigma = 0.01 0.01 0.0 0.0\n",
      "cutoff = 2, covariance_type = dot_product, delta = 2, theta_uniform = 1, n_sparse = 20 sparse_method = uniform, default_sigma = 0.1 0.1 0.0 0.0\n",
      "cutoff = 2, covariance_type = dot_product, delta = 2, theta_uniform = 1, n_sparse = 20 sparse_method = uniform, default_sigma = 0.01 0.01 0.0 0.0\n",
      "cutoff = 2, covariance_type = dot_product, delta = 2, theta_uniform = 1, n_sparse = 20 sparse_method = cur_points, default_sigma = 0.1 0.1 0.0 0.0\n",
      "cutoff = 2, covariance_type = dot_product, delta = 2, theta_uniform = 1, n_sparse = 20 sparse_method = cur_points, default_sigma = 0.01 0.01 0.0 0.0\n"
     ]
    }
   ],
   "source": [
    "# More pyhtonic way of getting all list combinations\n",
    "import itertools\n",
    "li = [cutoff,covariance_type, delta, theta_uniform, n_sparse, sparse_method, default_sigma]\n",
    "comb = list(itertools.product(*li))\n",
    "\n",
    "\n",
    "for cut,cov,delta,theta,nsparse,sparse,sigma in comb:\n",
    "    print(f\"cutoff = {cut}, covariance_type = {cov}, delta = {delta}, theta_uniform = {theta}, n_sparse = {nsparse} \"\n",
    "         f\"sparse_method = {sparse}, default_sigma = {sigma}\")"
   ]
  },
  {
   "cell_type": "code",
   "execution_count": null,
   "metadata": {},
   "outputs": [],
   "source": []
  }
 ],
 "metadata": {
  "kernelspec": {
   "display_name": "Python 3",
   "language": "python",
   "name": "python3"
  },
  "language_info": {
   "codemirror_mode": {
    "name": "ipython",
    "version": 3
   },
   "file_extension": ".py",
   "mimetype": "text/x-python",
   "name": "python",
   "nbconvert_exporter": "python",
   "pygments_lexer": "ipython3",
   "version": "3.8.2"
  }
 },
 "nbformat": 4,
 "nbformat_minor": 4
}
