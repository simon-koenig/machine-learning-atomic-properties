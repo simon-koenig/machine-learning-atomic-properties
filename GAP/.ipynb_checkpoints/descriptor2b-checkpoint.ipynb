{
 "cells": [
  {
   "cell_type": "markdown",
   "metadata": {},
   "source": [
    "# File to test gap_modules - simon "
   ]
  },
  {
   "cell_type": "markdown",
   "metadata": {},
   "source": [
    "## Importing modules and classes"
   ]
  },
  {
   "cell_type": "code",
   "execution_count": 1,
   "metadata": {},
   "outputs": [],
   "source": [
    "# Using the model with the simplest descriptor, 2b - two body distance\n",
    "from gap_models2 import GAPModel\n",
    "from gap_models2 import distance_2b"
   ]
  },
  {
   "cell_type": "markdown",
   "metadata": {},
   "source": [
    "## Creating instances of models and descriptors"
   ]
  },
  {
   "cell_type": "code",
   "execution_count": 2,
   "metadata": {},
   "outputs": [
    {
     "name": "stdout",
     "output_type": "stream",
     "text": [
      " distance_2b cutoff = 4 covariance_type = ard_se delta = 0.5 theta_uniform = 1.0 sparse_method = uniform add_species = T n_sparse = 10\n"
     ]
    }
   ],
   "source": [
    "# Initialize distance_2_b descriptor\n",
    "descriptor_2b = distance_2b(4,'ard_se',0.5,1.0,'uniform','T',10)"
   ]
  },
  {
   "cell_type": "code",
   "execution_count": 3,
   "metadata": {},
   "outputs": [],
   "source": [
    "# Make instances of GAPModel\n",
    "model = GAPModel()\n"
   ]
  },
  {
   "cell_type": "markdown",
   "metadata": {},
   "source": [
    "## Splitting up the Data into training data and test data"
   ]
  },
  {
   "cell_type": "code",
   "execution_count": 4,
   "metadata": {},
   "outputs": [],
   "source": [
    "from gap_models2 import Split"
   ]
  },
  {
   "cell_type": "code",
   "execution_count": 5,
   "metadata": {},
   "outputs": [],
   "source": [
    "# Create split object and pass in the data that needs to be split and the percentage of the training data \n",
    "data_file = \"/Users/simon/simon_ml/GAP/hydrogen_md.xyz\"\n",
    "train_percentage = 0.8\n",
    "\n",
    "split = Split(data_file, train_percentage)"
   ]
  },
  {
   "cell_type": "code",
   "execution_count": 6,
   "metadata": {},
   "outputs": [
    {
     "data": {
      "text/plain": [
       "' Percentile of training data: 0.8 |  Percentile of test data: 0.19999999999999996 '"
      ]
     },
     "execution_count": 6,
     "metadata": {},
     "output_type": "execute_result"
    }
   ],
   "source": [
    "# Get percentages \n",
    "split.get_percentages()"
   ]
  },
  {
   "cell_type": "code",
   "execution_count": 7,
   "metadata": {},
   "outputs": [
    {
     "name": "stdout",
     "output_type": "stream",
     "text": [
      "[Atoms(symbols='H192', pbc=True, cell=[[6.22321522, 0.0, 0.0], [-3.10548432, 5.39298588, 0.0], [0.0, 0.0, 11.097194]], energies=..., forces=..., calculator=SinglePointCalculator(...)), Atoms(symbols='H192', pbc=True, cell=[[6.22321522, 0.0, 0.0], [-3.10548432, 5.39298588, 0.0], [0.0, 0.0, 11.097194]], energies=..., forces=..., calculator=SinglePointCalculator(...)), Atoms(symbols='H192', pbc=True, cell=[[6.22321522, 0.0, 0.0], [-3.10548432, 5.39298588, 0.0], [0.0, 0.0, 11.097194]], energies=..., forces=..., calculator=SinglePointCalculator(...)), Atoms(symbols='H192', pbc=True, cell=[[6.22321522, 0.0, 0.0], [-3.10548432, 5.39298588, 0.0], [0.0, 0.0, 11.097194]], energies=..., forces=..., calculator=SinglePointCalculator(...)), Atoms(symbols='H192', pbc=True, cell=[[6.22321522, 0.0, 0.0], [-3.10548432, 5.39298588, 0.0], [0.0, 0.0, 11.097194]], energies=..., forces=..., calculator=SinglePointCalculator(...)), Atoms(symbols='H192', pbc=True, cell=[[6.22321522, 0.0, 0.0], [-3.10548432, 5.39298588, 0.0], [0.0, 0.0, 11.097194]], energies=..., forces=..., calculator=SinglePointCalculator(...)), Atoms(symbols='H192', pbc=True, cell=[[6.22321522, 0.0, 0.0], [-3.10548432, 5.39298588, 0.0], [0.0, 0.0, 11.097194]], energies=..., forces=..., calculator=SinglePointCalculator(...)), Atoms(symbols='H192', pbc=True, cell=[[6.22321522, 0.0, 0.0], [-3.10548432, 5.39298588, 0.0], [0.0, 0.0, 11.097194]], energies=..., forces=..., calculator=SinglePointCalculator(...)), Atoms(symbols='H192', pbc=True, cell=[[6.22321522, 0.0, 0.0], [-3.10548432, 5.39298588, 0.0], [0.0, 0.0, 11.097194]], energies=..., forces=..., calculator=SinglePointCalculator(...)), Atoms(symbols='H192', pbc=True, cell=[[6.22321522, 0.0, 0.0], [-3.10548432, 5.39298588, 0.0], [0.0, 0.0, 11.097194]], energies=..., forces=..., calculator=SinglePointCalculator(...)), Atoms(symbols='H192', pbc=True, cell=[[6.22321522, 0.0, 0.0], [-3.10548432, 5.39298588, 0.0], [0.0, 0.0, 11.097194]], energies=..., forces=..., calculator=SinglePointCalculator(...)), Atoms(symbols='H192', pbc=True, cell=[[6.22321522, 0.0, 0.0], [-3.10548432, 5.39298588, 0.0], [0.0, 0.0, 11.097194]], energies=..., forces=..., calculator=SinglePointCalculator(...)), Atoms(symbols='H192', pbc=True, cell=[[6.22321522, 0.0, 0.0], [-3.10548432, 5.39298588, 0.0], [0.0, 0.0, 11.097194]], energies=..., forces=..., calculator=SinglePointCalculator(...)), Atoms(symbols='H192', pbc=True, cell=[[6.22321522, 0.0, 0.0], [-3.10548432, 5.39298588, 0.0], [0.0, 0.0, 11.097194]], energies=..., forces=..., calculator=SinglePointCalculator(...)), Atoms(symbols='H192', pbc=True, cell=[[6.22321522, 0.0, 0.0], [-3.10548432, 5.39298588, 0.0], [0.0, 0.0, 11.097194]], energies=..., forces=..., calculator=SinglePointCalculator(...)), Atoms(symbols='H192', pbc=True, cell=[[6.22321522, 0.0, 0.0], [-3.10548432, 5.39298588, 0.0], [0.0, 0.0, 11.097194]], energies=..., forces=..., calculator=SinglePointCalculator(...)), Atoms(symbols='H192', pbc=True, cell=[[6.22321522, 0.0, 0.0], [-3.10548432, 5.39298588, 0.0], [0.0, 0.0, 11.097194]], energies=..., forces=..., calculator=SinglePointCalculator(...)), Atoms(symbols='H192', pbc=True, cell=[[6.22321522, 0.0, 0.0], [-3.10548432, 5.39298588, 0.0], [0.0, 0.0, 11.097194]], energies=..., forces=..., calculator=SinglePointCalculator(...)), Atoms(symbols='H192', pbc=True, cell=[[6.22321522, 0.0, 0.0], [-3.10548432, 5.39298588, 0.0], [0.0, 0.0, 11.097194]], energies=..., forces=..., calculator=SinglePointCalculator(...)), Atoms(symbols='H192', pbc=True, cell=[[6.22321522, 0.0, 0.0], [-3.10548432, 5.39298588, 0.0], [0.0, 0.0, 11.097194]], energies=..., forces=..., calculator=SinglePointCalculator(...)), Atoms(symbols='H192', pbc=True, cell=[[6.22321522, 0.0, 0.0], [-3.10548432, 5.39298588, 0.0], [0.0, 0.0, 11.097194]], energies=..., forces=..., calculator=SinglePointCalculator(...)), Atoms(symbols='H192', pbc=True, cell=[[6.22321522, 0.0, 0.0], [-3.10548432, 5.39298588, 0.0], [0.0, 0.0, 11.097194]], energies=..., forces=..., calculator=SinglePointCalculator(...)), Atoms(symbols='H192', pbc=True, cell=[[6.22321522, 0.0, 0.0], [-3.10548432, 5.39298588, 0.0], [0.0, 0.0, 11.097194]], energies=..., forces=..., calculator=SinglePointCalculator(...)), Atoms(symbols='H192', pbc=True, cell=[[6.22321522, 0.0, 0.0], [-3.10548432, 5.39298588, 0.0], [0.0, 0.0, 11.097194]], energies=..., forces=..., calculator=SinglePointCalculator(...)), Atoms(symbols='H192', pbc=True, cell=[[6.22321522, 0.0, 0.0], [-3.10548432, 5.39298588, 0.0], [0.0, 0.0, 11.097194]], energies=..., forces=..., calculator=SinglePointCalculator(...)), Atoms(symbols='H192', pbc=True, cell=[[6.22321522, 0.0, 0.0], [-3.10548432, 5.39298588, 0.0], [0.0, 0.0, 11.097194]], energies=..., forces=..., calculator=SinglePointCalculator(...)), Atoms(symbols='H192', pbc=True, cell=[[6.22321522, 0.0, 0.0], [-3.10548432, 5.39298588, 0.0], [0.0, 0.0, 11.097194]], energies=..., forces=..., calculator=SinglePointCalculator(...)), Atoms(symbols='H192', pbc=True, cell=[[6.22321522, 0.0, 0.0], [-3.10548432, 5.39298588, 0.0], [0.0, 0.0, 11.097194]], energies=..., forces=..., calculator=SinglePointCalculator(...)), Atoms(symbols='H192', pbc=True, cell=[[6.22321522, 0.0, 0.0], [-3.10548432, 5.39298588, 0.0], [0.0, 0.0, 11.097194]], energies=..., forces=..., calculator=SinglePointCalculator(...)), Atoms(symbols='H192', pbc=True, cell=[[6.22321522, 0.0, 0.0], [-3.10548432, 5.39298588, 0.0], [0.0, 0.0, 11.097194]], energies=..., forces=..., calculator=SinglePointCalculator(...)), Atoms(symbols='H192', pbc=True, cell=[[6.22321522, 0.0, 0.0], [-3.10548432, 5.39298588, 0.0], [0.0, 0.0, 11.097194]], energies=..., forces=..., calculator=SinglePointCalculator(...)), Atoms(symbols='H192', pbc=True, cell=[[6.22321522, 0.0, 0.0], [-3.10548432, 5.39298588, 0.0], [0.0, 0.0, 11.097194]], energies=..., forces=..., calculator=SinglePointCalculator(...)), Atoms(symbols='H192', pbc=True, cell=[[6.22321522, 0.0, 0.0], [-3.10548432, 5.39298588, 0.0], [0.0, 0.0, 11.097194]], energies=..., forces=..., calculator=SinglePointCalculator(...)), Atoms(symbols='H192', pbc=True, cell=[[6.22321522, 0.0, 0.0], [-3.10548432, 5.39298588, 0.0], [0.0, 0.0, 11.097194]], energies=..., forces=..., calculator=SinglePointCalculator(...)), Atoms(symbols='H192', pbc=True, cell=[[6.22321522, 0.0, 0.0], [-3.10548432, 5.39298588, 0.0], [0.0, 0.0, 11.097194]], energies=..., forces=..., calculator=SinglePointCalculator(...)), Atoms(symbols='H192', pbc=True, cell=[[6.22321522, 0.0, 0.0], [-3.10548432, 5.39298588, 0.0], [0.0, 0.0, 11.097194]], energies=..., forces=..., calculator=SinglePointCalculator(...)), Atoms(symbols='H192', pbc=True, cell=[[6.22321522, 0.0, 0.0], [-3.10548432, 5.39298588, 0.0], [0.0, 0.0, 11.097194]], energies=..., forces=..., calculator=SinglePointCalculator(...)), Atoms(symbols='H192', pbc=True, cell=[[6.22321522, 0.0, 0.0], [-3.10548432, 5.39298588, 0.0], [0.0, 0.0, 11.097194]], energies=..., forces=..., calculator=SinglePointCalculator(...)), Atoms(symbols='H192', pbc=True, cell=[[6.22321522, 0.0, 0.0], [-3.10548432, 5.39298588, 0.0], [0.0, 0.0, 11.097194]], energies=..., forces=..., calculator=SinglePointCalculator(...)), Atoms(symbols='H192', pbc=True, cell=[[6.22321522, 0.0, 0.0], [-3.10548432, 5.39298588, 0.0], [0.0, 0.0, 11.097194]], energies=..., forces=..., calculator=SinglePointCalculator(...)), Atoms(symbols='H192', pbc=True, cell=[[6.22321522, 0.0, 0.0], [-3.10548432, 5.39298588, 0.0], [0.0, 0.0, 11.097194]], energies=..., forces=..., calculator=SinglePointCalculator(...)), Atoms(symbols='H192', pbc=True, cell=[[6.22321522, 0.0, 0.0], [-3.10548432, 5.39298588, 0.0], [0.0, 0.0, 11.097194]], energies=..., forces=..., calculator=SinglePointCalculator(...)), Atoms(symbols='H192', pbc=True, cell=[[6.22321522, 0.0, 0.0], [-3.10548432, 5.39298588, 0.0], [0.0, 0.0, 11.097194]], energies=..., forces=..., calculator=SinglePointCalculator(...)), Atoms(symbols='H192', pbc=True, cell=[[6.22321522, 0.0, 0.0], [-3.10548432, 5.39298588, 0.0], [0.0, 0.0, 11.097194]], energies=..., forces=..., calculator=SinglePointCalculator(...)), Atoms(symbols='H192', pbc=True, cell=[[6.22321522, 0.0, 0.0], [-3.10548432, 5.39298588, 0.0], [0.0, 0.0, 11.097194]], energies=..., forces=..., calculator=SinglePointCalculator(...)), Atoms(symbols='H192', pbc=True, cell=[[6.22321522, 0.0, 0.0], [-3.10548432, 5.39298588, 0.0], [0.0, 0.0, 11.097194]], energies=..., forces=..., calculator=SinglePointCalculator(...)), Atoms(symbols='H192', pbc=True, cell=[[6.22321522, 0.0, 0.0], [-3.10548432, 5.39298588, 0.0], [0.0, 0.0, 11.097194]], energies=..., forces=..., calculator=SinglePointCalculator(...)), Atoms(symbols='H192', pbc=True, cell=[[6.22321522, 0.0, 0.0], [-3.10548432, 5.39298588, 0.0], [0.0, 0.0, 11.097194]], energies=..., forces=..., calculator=SinglePointCalculator(...)), Atoms(symbols='H192', pbc=True, cell=[[6.22321522, 0.0, 0.0], [-3.10548432, 5.39298588, 0.0], [0.0, 0.0, 11.097194]], energies=..., forces=..., calculator=SinglePointCalculator(...)), Atoms(symbols='H192', pbc=True, cell=[[6.22321522, 0.0, 0.0], [-3.10548432, 5.39298588, 0.0], [0.0, 0.0, 11.097194]], energies=..., forces=..., calculator=SinglePointCalculator(...))]\n",
      "Atoms(symbols='H', pbc=True, cell=[[6.22321522, 0.0, 0.0], [-3.10548432, 5.39298588, 0.0], [0.0, 0.0, 11.097194]], energies=..., forces=..., calculator=SinglePointCalculator(...))\n"
     ]
    },
    {
     "name": "stderr",
     "output_type": "stream",
     "text": [
      "/Library/Frameworks/Python.framework/Versions/3.8/lib/python3.8/site-packages/ase/io/extxyz.py:997: UserWarning: write_xyz() overwriting array \"forces\" present in atoms.arrays with stored results from calculator\n",
      "  warnings.warn('write_xyz() overwriting array \"{0}\" present '\n",
      "/Library/Frameworks/Python.framework/Versions/3.8/lib/python3.8/site-packages/ase/io/extxyz.py:997: UserWarning: write_xyz() overwriting array \"energies\" present in atoms.arrays with stored results from calculator\n",
      "  warnings.warn('write_xyz() overwriting array \"{0}\" present '\n"
     ]
    }
   ],
   "source": [
    "# Split up the data. Here the output_file_names need to be passed in order to avoid overwriting later. \n",
    "train_data_file = '2btrain_data_file.xyz'\n",
    "test_data_file = '2btest_data_file.xyz'\n",
    "split.split(train_data_file,test_data_file)"
   ]
  },
  {
   "cell_type": "code",
   "execution_count": 9,
   "metadata": {},
   "outputs": [
    {
     "data": {
      "text/plain": [
       "[Atoms(symbols='H192', pbc=True, cell=[[6.22321522, 0.0, 0.0], [-3.10548432, 5.39298588, 0.0], [0.0, 0.0, 11.097194]], energies=..., forces=..., calculator=SinglePointCalculator(...)),\n",
       " Atoms(symbols='H192', pbc=True, cell=[[6.22321522, 0.0, 0.0], [-3.10548432, 5.39298588, 0.0], [0.0, 0.0, 11.097194]], energies=..., forces=..., calculator=SinglePointCalculator(...)),\n",
       " Atoms(symbols='H192', pbc=True, cell=[[6.22321522, 0.0, 0.0], [-3.10548432, 5.39298588, 0.0], [0.0, 0.0, 11.097194]], energies=..., forces=..., calculator=SinglePointCalculator(...)),\n",
       " Atoms(symbols='H192', pbc=True, cell=[[6.22321522, 0.0, 0.0], [-3.10548432, 5.39298588, 0.0], [0.0, 0.0, 11.097194]], energies=..., forces=..., calculator=SinglePointCalculator(...)),\n",
       " Atoms(symbols='H192', pbc=True, cell=[[6.22321522, 0.0, 0.0], [-3.10548432, 5.39298588, 0.0], [0.0, 0.0, 11.097194]], energies=..., forces=..., calculator=SinglePointCalculator(...)),\n",
       " Atoms(symbols='H192', pbc=True, cell=[[6.22321522, 0.0, 0.0], [-3.10548432, 5.39298588, 0.0], [0.0, 0.0, 11.097194]], energies=..., forces=..., calculator=SinglePointCalculator(...)),\n",
       " Atoms(symbols='H192', pbc=True, cell=[[6.22321522, 0.0, 0.0], [-3.10548432, 5.39298588, 0.0], [0.0, 0.0, 11.097194]], energies=..., forces=..., calculator=SinglePointCalculator(...)),\n",
       " Atoms(symbols='H192', pbc=True, cell=[[6.22321522, 0.0, 0.0], [-3.10548432, 5.39298588, 0.0], [0.0, 0.0, 11.097194]], energies=..., forces=..., calculator=SinglePointCalculator(...)),\n",
       " Atoms(symbols='H192', pbc=True, cell=[[6.22321522, 0.0, 0.0], [-3.10548432, 5.39298588, 0.0], [0.0, 0.0, 11.097194]], energies=..., forces=..., calculator=SinglePointCalculator(...)),\n",
       " Atoms(symbols='H192', pbc=True, cell=[[6.22321522, 0.0, 0.0], [-3.10548432, 5.39298588, 0.0], [0.0, 0.0, 11.097194]], energies=..., forces=..., calculator=SinglePointCalculator(...)),\n",
       " Atoms(symbols='H192', pbc=True, cell=[[6.22321522, 0.0, 0.0], [-3.10548432, 5.39298588, 0.0], [0.0, 0.0, 11.097194]], energies=..., forces=..., calculator=SinglePointCalculator(...)),\n",
       " Atoms(symbols='H192', pbc=True, cell=[[6.22321522, 0.0, 0.0], [-3.10548432, 5.39298588, 0.0], [0.0, 0.0, 11.097194]], energies=..., forces=..., calculator=SinglePointCalculator(...)),\n",
       " Atoms(symbols='H192', pbc=True, cell=[[6.22321522, 0.0, 0.0], [-3.10548432, 5.39298588, 0.0], [0.0, 0.0, 11.097194]], energies=..., forces=..., calculator=SinglePointCalculator(...)),\n",
       " Atoms(symbols='H192', pbc=True, cell=[[6.22321522, 0.0, 0.0], [-3.10548432, 5.39298588, 0.0], [0.0, 0.0, 11.097194]], energies=..., forces=..., calculator=SinglePointCalculator(...)),\n",
       " Atoms(symbols='H192', pbc=True, cell=[[6.22321522, 0.0, 0.0], [-3.10548432, 5.39298588, 0.0], [0.0, 0.0, 11.097194]], energies=..., forces=..., calculator=SinglePointCalculator(...)),\n",
       " Atoms(symbols='H192', pbc=True, cell=[[6.22321522, 0.0, 0.0], [-3.10548432, 5.39298588, 0.0], [0.0, 0.0, 11.097194]], energies=..., forces=..., calculator=SinglePointCalculator(...)),\n",
       " Atoms(symbols='H192', pbc=True, cell=[[6.22321522, 0.0, 0.0], [-3.10548432, 5.39298588, 0.0], [0.0, 0.0, 11.097194]], energies=..., forces=..., calculator=SinglePointCalculator(...)),\n",
       " Atoms(symbols='H192', pbc=True, cell=[[6.22321522, 0.0, 0.0], [-3.10548432, 5.39298588, 0.0], [0.0, 0.0, 11.097194]], energies=..., forces=..., calculator=SinglePointCalculator(...)),\n",
       " Atoms(symbols='H192', pbc=True, cell=[[6.22321522, 0.0, 0.0], [-3.10548432, 5.39298588, 0.0], [0.0, 0.0, 11.097194]], energies=..., forces=..., calculator=SinglePointCalculator(...)),\n",
       " Atoms(symbols='H192', pbc=True, cell=[[6.22321522, 0.0, 0.0], [-3.10548432, 5.39298588, 0.0], [0.0, 0.0, 11.097194]], energies=..., forces=..., calculator=SinglePointCalculator(...)),\n",
       " Atoms(symbols='H192', pbc=True, cell=[[6.22321522, 0.0, 0.0], [-3.10548432, 5.39298588, 0.0], [0.0, 0.0, 11.097194]], energies=..., forces=..., calculator=SinglePointCalculator(...)),\n",
       " Atoms(symbols='H192', pbc=True, cell=[[6.22321522, 0.0, 0.0], [-3.10548432, 5.39298588, 0.0], [0.0, 0.0, 11.097194]], energies=..., forces=..., calculator=SinglePointCalculator(...)),\n",
       " Atoms(symbols='H192', pbc=True, cell=[[6.22321522, 0.0, 0.0], [-3.10548432, 5.39298588, 0.0], [0.0, 0.0, 11.097194]], energies=..., forces=..., calculator=SinglePointCalculator(...)),\n",
       " Atoms(symbols='H192', pbc=True, cell=[[6.22321522, 0.0, 0.0], [-3.10548432, 5.39298588, 0.0], [0.0, 0.0, 11.097194]], energies=..., forces=..., calculator=SinglePointCalculator(...)),\n",
       " Atoms(symbols='H192', pbc=True, cell=[[6.22321522, 0.0, 0.0], [-3.10548432, 5.39298588, 0.0], [0.0, 0.0, 11.097194]], energies=..., forces=..., calculator=SinglePointCalculator(...)),\n",
       " Atoms(symbols='H192', pbc=True, cell=[[6.22321522, 0.0, 0.0], [-3.10548432, 5.39298588, 0.0], [0.0, 0.0, 11.097194]], energies=..., forces=..., calculator=SinglePointCalculator(...)),\n",
       " Atoms(symbols='H192', pbc=True, cell=[[6.22321522, 0.0, 0.0], [-3.10548432, 5.39298588, 0.0], [0.0, 0.0, 11.097194]], energies=..., forces=..., calculator=SinglePointCalculator(...)),\n",
       " Atoms(symbols='H192', pbc=True, cell=[[6.22321522, 0.0, 0.0], [-3.10548432, 5.39298588, 0.0], [0.0, 0.0, 11.097194]], energies=..., forces=..., calculator=SinglePointCalculator(...)),\n",
       " Atoms(symbols='H192', pbc=True, cell=[[6.22321522, 0.0, 0.0], [-3.10548432, 5.39298588, 0.0], [0.0, 0.0, 11.097194]], energies=..., forces=..., calculator=SinglePointCalculator(...)),\n",
       " Atoms(symbols='H192', pbc=True, cell=[[6.22321522, 0.0, 0.0], [-3.10548432, 5.39298588, 0.0], [0.0, 0.0, 11.097194]], energies=..., forces=..., calculator=SinglePointCalculator(...)),\n",
       " Atoms(symbols='H192', pbc=True, cell=[[6.22321522, 0.0, 0.0], [-3.10548432, 5.39298588, 0.0], [0.0, 0.0, 11.097194]], energies=..., forces=..., calculator=SinglePointCalculator(...)),\n",
       " Atoms(symbols='H192', pbc=True, cell=[[6.22321522, 0.0, 0.0], [-3.10548432, 5.39298588, 0.0], [0.0, 0.0, 11.097194]], energies=..., forces=..., calculator=SinglePointCalculator(...)),\n",
       " Atoms(symbols='H192', pbc=True, cell=[[6.22321522, 0.0, 0.0], [-3.10548432, 5.39298588, 0.0], [0.0, 0.0, 11.097194]], energies=..., forces=..., calculator=SinglePointCalculator(...)),\n",
       " Atoms(symbols='H192', pbc=True, cell=[[6.22321522, 0.0, 0.0], [-3.10548432, 5.39298588, 0.0], [0.0, 0.0, 11.097194]], energies=..., forces=..., calculator=SinglePointCalculator(...)),\n",
       " Atoms(symbols='H192', pbc=True, cell=[[6.22321522, 0.0, 0.0], [-3.10548432, 5.39298588, 0.0], [0.0, 0.0, 11.097194]], energies=..., forces=..., calculator=SinglePointCalculator(...)),\n",
       " Atoms(symbols='H192', pbc=True, cell=[[6.22321522, 0.0, 0.0], [-3.10548432, 5.39298588, 0.0], [0.0, 0.0, 11.097194]], energies=..., forces=..., calculator=SinglePointCalculator(...)),\n",
       " Atoms(symbols='H192', pbc=True, cell=[[6.22321522, 0.0, 0.0], [-3.10548432, 5.39298588, 0.0], [0.0, 0.0, 11.097194]], energies=..., forces=..., calculator=SinglePointCalculator(...)),\n",
       " Atoms(symbols='H192', pbc=True, cell=[[6.22321522, 0.0, 0.0], [-3.10548432, 5.39298588, 0.0], [0.0, 0.0, 11.097194]], energies=..., forces=..., calculator=SinglePointCalculator(...)),\n",
       " Atoms(symbols='H192', pbc=True, cell=[[6.22321522, 0.0, 0.0], [-3.10548432, 5.39298588, 0.0], [0.0, 0.0, 11.097194]], energies=..., forces=..., calculator=SinglePointCalculator(...)),\n",
       " Atoms(symbols='H192', pbc=True, cell=[[6.22321522, 0.0, 0.0], [-3.10548432, 5.39298588, 0.0], [0.0, 0.0, 11.097194]], energies=..., forces=..., calculator=SinglePointCalculator(...)),\n",
       " Atoms(symbols='H', pbc=True, cell=[[6.22321522, 0.0, 0.0], [-3.10548432, 5.39298588, 0.0], [0.0, 0.0, 11.097194]], energies=..., forces=..., calculator=SinglePointCalculator(...))]"
      ]
     },
     "execution_count": 9,
     "metadata": {},
     "output_type": "execute_result"
    }
   ],
   "source": [
    "# Get the splitted data\n",
    "train,test = split.get_splitted_data()"
   ]
  },
  {
   "cell_type": "code",
   "execution_count": null,
   "metadata": {},
   "outputs": [],
   "source": [
    "# Get the names of the data files containing the splitted data. These are needed for the model.train and \n",
    "# model.predict methods. \n",
    "train_data_file, test_data_file = split.get_splitted_data_files()\n",
    "train_data_file"
   ]
  },
  {
   "cell_type": "code",
   "execution_count": null,
   "metadata": {},
   "outputs": [],
   "source": []
  },
  {
   "cell_type": "code",
   "execution_count": null,
   "metadata": {},
   "outputs": [],
   "source": []
  },
  {
   "cell_type": "markdown",
   "metadata": {},
   "source": [
    "## Training the model"
   ]
  },
  {
   "cell_type": "code",
   "execution_count": null,
   "metadata": {},
   "outputs": [],
   "source": [
    "# Getting the parameters\n",
    "d2b_parameters = descriptor_2b.get_parameter_string()\n",
    "\n",
    "# Choose training data and \n",
    "train_data_file \n",
    "\n",
    "# Choose test data\n",
    "test_data_file\n",
    "\n",
    "# Choose filename to be of trained GAP Potential. \n",
    "GAP_potential = '2bGAP.xml'\n",
    "\n",
    "# Train the model\n",
    "model.train(d2b_parameters,training_data=train_data_file,GAP_potential=GAP_potential)\n",
    "\n",
    "# Print out file in which the potential is stored\n",
    "model.get_potential_file()\n",
    "\n",
    "\n",
    "\n"
   ]
  },
  {
   "cell_type": "markdown",
   "metadata": {},
   "source": [
    "## Making predictions "
   ]
  },
  {
   "cell_type": "code",
   "execution_count": null,
   "metadata": {},
   "outputs": [],
   "source": [
    "# Select which configuration you want to predict the energy for, let´s first predict energy and forces for \n",
    "# the training configuration. Secondly test the model on the test data, remember that both predictions are based \n",
    "# upon the same trained GAP Potential. \n",
    "\n",
    "test_data_tr = train_data_file\n",
    "test_data_te = test_data_file\n",
    "\n",
    "# Get trained potential\n",
    "GAP_potential = model.get_potential_file()\n",
    "\n",
    "\n",
    "# Select filename in which predictions should be stored for train data \n",
    "QUIP_Prediction2b_tr = '2bquip_prediction_tr.xyz'\n",
    "\n",
    "\n",
    "# Use predict method on training data as test data \n",
    "model.predict(Test_Data=test_data_tr, GAP_potential=GAP_potential, QUIP_Prediction=QUIP_Prediction2b_tr)\n",
    "print(model.get_prediction_file())\n",
    "\n",
    "\n",
    "# Select filename in which predictions should be stored for test data\n",
    "QUIP_Prediction2b_te = '2bquip_prediction_te.xyz'\n",
    "\n",
    "# Use predict method on test data as test data\n",
    "model.predict(Test_Data=test_data_tr, GAP_potential=GAP_potential, QUIP_Prediction=QUIP_Prediction2b_te)\n",
    "print(model.get_prediction_file())"
   ]
  },
  {
   "cell_type": "code",
   "execution_count": null,
   "metadata": {},
   "outputs": [],
   "source": []
  },
  {
   "cell_type": "markdown",
   "metadata": {},
   "source": [
    "## Plot real values against predicted values to see quality of the fit"
   ]
  },
  {
   "cell_type": "code",
   "execution_count": null,
   "metadata": {},
   "outputs": [],
   "source": [
    "from gapplot import QualityPlot\n",
    "import matplotlib.pyplot as plt\n",
    "\n"
   ]
  },
  {
   "cell_type": "code",
   "execution_count": null,
   "metadata": {},
   "outputs": [],
   "source": [
    "# Make instance of QualityPlot which contains the plot methods\n",
    "# Make instance of plt.subplots object to make nice table of multiple subplots\n",
    "QP = QualityPlot()\n",
    "figs, axs = plt.subplots(nrows=2,ncols=2,gridspec_kw={'wspace':1,'hspace':1})\n",
    "\n",
    "# Plot energies and pass them on to axis object.\n",
    "QP.energies_on_energies(real_values=test_data_tr, predicted_values=QUIP_Prediction2b_tr, axis=axs[0,0],label=\"Energy of training data\")\n",
    "QP.energies_on_energies(real_values=test_data_tr,predicted_values=QUIP_Prediction2b_te, axis=axs[0,1], label=\"Energy of test data\")\n",
    "\n",
    "# Plot forces and pass them on to axis object.\n",
    "QP.forces_on_forces(real_values=test_data_tr, predicted_values=QUIP_Prediction2b_tr, axis=axs[1,0],label=\"Forces of training data\")\n",
    "QP.forces_on_forces(real_values=test_data_tr,predicted_values=QUIP_Prediction2b_te, axis=axs[1,1], label=\"Forces of test data\")"
   ]
  },
  {
   "cell_type": "code",
   "execution_count": null,
   "metadata": {},
   "outputs": [],
   "source": []
  },
  {
   "cell_type": "code",
   "execution_count": null,
   "metadata": {},
   "outputs": [],
   "source": []
  }
 ],
 "metadata": {
  "kernelspec": {
   "display_name": "Python 3",
   "language": "python",
   "name": "python3"
  },
  "language_info": {
   "codemirror_mode": {
    "name": "ipython",
    "version": 3
   },
   "file_extension": ".py",
   "mimetype": "text/x-python",
   "name": "python",
   "nbconvert_exporter": "python",
   "pygments_lexer": "ipython3",
   "version": "3.8.2"
  }
 },
 "nbformat": 4,
 "nbformat_minor": 4
}
