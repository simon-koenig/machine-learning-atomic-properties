{
 "cells": [
  {
   "cell_type": "markdown",
   "metadata": {},
   "source": [
    "# Gap Fit using descriptors: distante 2b, angle 3b- simon "
   ]
  },
  {
   "cell_type": "markdown",
   "metadata": {},
   "source": [
    "## Importing modules and classes"
   ]
  },
  {
   "cell_type": "code",
   "execution_count": 18,
   "metadata": {},
   "outputs": [],
   "source": [
    "# Using the model with the simplest descriptor, 2b - two body distance\n",
    "from gap_models2 import GAPModel\n",
    "from gap_descriptors import distance_2b\n",
    "from gap_descriptors import angle_3b"
   ]
  },
  {
   "cell_type": "markdown",
   "metadata": {},
   "source": [
    "## Creating instances of models and descriptors"
   ]
  },
  {
   "cell_type": "code",
   "execution_count": 19,
   "metadata": {},
   "outputs": [
    {
     "name": "stdout",
     "output_type": "stream",
     "text": [
      " distance_2b cutoff = 4 covariance_type = ard_se delta = 0.5 theta_uniform = 1.0 sparse_method = uniform add_species = T n_sparse = 10\n"
     ]
    }
   ],
   "source": [
    "# Initialize distance_2b descriptor\n",
    "descriptor_2b = distance_2b(cutoff=4,covariance_type='ard_se',delta=0.5,theta_uniform=1.0,sparse_method='uniform',add_species='T',n_sparse=10)"
   ]
  },
  {
   "cell_type": "code",
   "execution_count": 20,
   "metadata": {},
   "outputs": [
    {
     "name": "stdout",
     "output_type": "stream",
     "text": [
      " angle_3b cutoff = 3.5 covariance_type = ard_se delta = 0.5 theta_fac = 0.5 sparse_method = uniform add_species = T n_sparse = 30\n"
     ]
    }
   ],
   "source": [
    "# Initialize angle_3b descriptor\n",
    "descriptor_3b = angle_3b(cutoff=3.5,covariance_type='ard_se',delta=0.5, theta_fac=0.5, add_species='T', n_sparse=30, sparse_method='uniform')"
   ]
  },
  {
   "cell_type": "code",
   "execution_count": 21,
   "metadata": {},
   "outputs": [],
   "source": [
    "# Make instances of GAPModel\n",
    "model = GAPModel()\n"
   ]
  },
  {
   "cell_type": "markdown",
   "metadata": {},
   "source": [
    "## Splitting up the Data into training data and test data"
   ]
  },
  {
   "cell_type": "code",
   "execution_count": 22,
   "metadata": {},
   "outputs": [],
   "source": [
    "from gap_models2 import Split"
   ]
  },
  {
   "cell_type": "code",
   "execution_count": 23,
   "metadata": {},
   "outputs": [],
   "source": [
    "# Create split object and pass in the data that needs to be split and the percentage of the training data \n",
    "data_file = \"/Users/simon/simon_ml/GAP/hydrogen_md.xyz\"\n",
    "train_percentage = 0.8\n",
    "\n",
    "split = Split(data_file, train_percentage)"
   ]
  },
  {
   "cell_type": "code",
   "execution_count": 24,
   "metadata": {},
   "outputs": [
    {
     "data": {
      "text/plain": [
       "' Percentile of training data: 0.8 |  Percentile of test data: 0.19999999999999996 '"
      ]
     },
     "execution_count": 24,
     "metadata": {},
     "output_type": "execute_result"
    }
   ],
   "source": [
    "# Get percentages \n",
    "split.get_percentages()"
   ]
  },
  {
   "cell_type": "code",
   "execution_count": 25,
   "metadata": {},
   "outputs": [
    {
     "name": "stderr",
     "output_type": "stream",
     "text": [
      "/Library/Frameworks/Python.framework/Versions/3.8/lib/python3.8/site-packages/ase/io/extxyz.py:997: UserWarning: write_xyz() overwriting array \"forces\" present in atoms.arrays with stored results from calculator\n",
      "  warnings.warn('write_xyz() overwriting array \"{0}\" present '\n",
      "/Library/Frameworks/Python.framework/Versions/3.8/lib/python3.8/site-packages/ase/io/extxyz.py:997: UserWarning: write_xyz() overwriting array \"energies\" present in atoms.arrays with stored results from calculator\n",
      "  warnings.warn('write_xyz() overwriting array \"{0}\" present '\n"
     ]
    }
   ],
   "source": [
    "# Split up the data. Here the output_file_names need to be passed in order to avoid overwriting later. \n",
    "train_data_file = '2b3btrain_data_file.xyz'\n",
    "test_data_file = '2b3btest_data_file.xyz'\n",
    "split.split(train_data_file,test_data_file)"
   ]
  },
  {
   "cell_type": "code",
   "execution_count": 26,
   "metadata": {},
   "outputs": [],
   "source": [
    "# Get the splitted data\n",
    "train,test = split.get_splitted_data()"
   ]
  },
  {
   "cell_type": "code",
   "execution_count": 27,
   "metadata": {},
   "outputs": [],
   "source": [
    "# Get the names of the data files containing the splitted data. These are needed for the model.train and \n",
    "# model.predict methods. \n",
    "train_data_file, test_data_file = split.get_splitted_data_files()\n"
   ]
  },
  {
   "cell_type": "code",
   "execution_count": null,
   "metadata": {},
   "outputs": [],
   "source": []
  },
  {
   "cell_type": "code",
   "execution_count": null,
   "metadata": {},
   "outputs": [],
   "source": []
  },
  {
   "cell_type": "markdown",
   "metadata": {},
   "source": [
    "## Training the model"
   ]
  },
  {
   "cell_type": "code",
   "execution_count": 29,
   "metadata": {},
   "outputs": [
    {
     "name": "stdout",
     "output_type": "stream",
     "text": [
      " gap_fit energy_parameter_name = energy  force_parameter_name = forces do_copy_at_file = F  sparse_separate_file = T gp_file = 2bGAP.xml at_file = '2b3btrain_data_file.xyz'  default_sigma = {0.008 0.04 0 0} gap = {  distance_2b cutoff = 4 covariance_type = ard_se delta = 0.5 theta_uniform = 1.0 sparse_method = uniform add_species = T n_sparse = 10: angle_3b cutoff = 3.5 covariance_type = ard_se delta = 0.5 theta_fac = 0.5 sparse_method = uniform add_species = T n_sparse = 30}\n",
      "libAtoms::Hello World: 01/03/2021   20:08:44\n",
      "libAtoms::Hello World: git version  https://github.com/libAtoms/QUIP.git,357e28d15-dirty\n",
      "libAtoms::Hello World: QUIP_ARCH    darwin_x86_64_gfortran\n",
      "libAtoms::Hello World: compiled on  Jan 15 2021 at 14:52:24\n",
      "libAtoms::Hello World: Random Seed = 72524300\n",
      "libAtoms::Hello World: global verbosity = 0\n",
      "\n",
      "Calls to system_timer will do nothing by default\n",
      "\n",
      "\n",
      "================================ Input parameters ==============================\n",
      "\n",
      "atoms_filename = //MANDATORY//\n",
      "at_file = 2b3btrain_data_file.xyz\n",
      "gap = \" distance_2b cutoff = 4 covariance_type = ard_se delta = 0.5 theta_uniform = 1.0 sparse_method = uniform add_species = T n_sparse = 10: angle_3b cutoff = 3.5 covariance_type = ard_se delta = 0.5 theta_fac = 0.5 sparse_method = uniform add_species = T n_sparse = 30\"\n",
      "e0 = 0.0\n",
      "local_property0 = 0.0\n",
      "e0_offset = 0.0\n",
      "e0_method = isolated\n",
      "default_kernel_regularisation = //MANDATORY//\n",
      "default_sigma = \"0.008 0.04 0 0\"\n",
      "sparse_jitter = 1.0e-10\n",
      "hessian_displacement = 1.0e-2\n",
      "hessian_delta = 1.0e-2\n",
      "baseline_param_filename = quip_params.xml\n",
      "core_param_file = quip_params.xml\n",
      "baseline_ip_args =\n",
      "core_ip_args =\n",
      "energy_parameter_name = energy\n",
      "local_property_parameter_name = local_property\n",
      "force_parameter_name = forces\n",
      "virial_parameter_name = virial\n",
      "hessian_parameter_name = hessian\n",
      "config_type_parameter_name = config_type\n",
      "kernel_regularisation_parameter_name = sigma\n",
      "sigma_parameter_name = sigma\n",
      "force_mask_parameter_name = force_mask\n",
      "parameter_name_prefix =\n",
      "config_type_kernel_regularisation =\n",
      "config_type_sigma =\n",
      "kernel_regularisation_is_per_atom = T\n",
      "sigma_per_atom = T\n",
      "do_copy_atoms_file = T\n",
      "do_copy_at_file = F\n",
      "sparse_separate_file = T\n",
      "sparse_use_actual_gpcov = F\n",
      "gap_file = gap_new.xml\n",
      "gp_file = 2bGAP.xml\n",
      "verbosity = NORMAL\n",
      "rnd_seed = -1\n",
      "openmp_chunk_size = 1\n",
      "do_ip_timing = F\n",
      "template_file = template.xyz\n",
      "sparsify_only_no_fit = F\n",
      "\n",
      "========================================  ======================================\n",
      "\n",
      "\n",
      "============== Gaussian Approximation Potentials - Database fitting ============\n",
      "\n",
      "\n",
      "Initial parsing of command line arguments finished.\n",
      "Found 2 GAPs.\n",
      "Descriptors have been parsed\n",
      "XYZ file read\n",
      "Old GAP: { distance_2b cutoff = 4 covariance_type = ard_se delta = 0.5 theta_uniform = 1.0 sparse_method = uniform add_species = T n_sparse = 10}\n",
      "New GAP: { distance_2b cutoff = 4 covariance_type = ard_se delta = 0.5 theta_uniform = 1.0 sparse_method = uniform             = T n_sparse = 10 Z1=1 Z2=1}\n",
      "Old GAP: { angle_3b cutoff = 3.5 covariance_type = ard_se delta = 0.5 theta_fac = 0.5 sparse_method = uniform add_species = T n_sparse = 30}\n",
      "New GAP: { angle_3b cutoff = 3.5 covariance_type = ard_se delta = 0.5 theta_fac = 0.5 sparse_method = uniform             = T n_sparse = 30 Z=1 Z1=1 Z2=1}\n",
      "Multispecies support added where requested\n",
      "\n",
      "===================== Report on number of descriptors found ====================\n",
      "\n",
      "---------------------------------------------------------------------\n",
      "Descriptor:  distance_2b cutoff = 4 covariance_type = ard_se delta = 0.5 theta_uniform = 1.0 sparse_method = uniform             = T n_sparse = 10 Z1=1 Z2=1\n",
      "Number of descriptors:                        1466880\n",
      "Number of partial derivatives of descriptors: 8801280\n",
      "---------------------------------------------------------------------\n",
      "Descriptor:  angle_3b cutoff = 3.5 covariance_type = ard_se delta = 0.5 theta_fac = 0.5 sparse_method = uniform             = T n_sparse = 30 Z=1 Z1=1 Z2=1\n",
      "Number of descriptors:                        278707200\n",
      "Number of partial derivatives of descriptors: -1786602496\n",
      "\n",
      "========================================  ======================================\n",
      "\n",
      "E0/atom =   0.32100000000000000E+001  0.00000000000000000E+000  0.00000000000000000E+000  0.00000000000000000E+000  0.00000000000000000E+000  0.00000000000000000E+000  0.00000000000000000E+000  0.00000000000000000E+000  0.00000000000000000E+000  0.00000000000000000E+000  0.00000000000000000E+000  0.00000000000000000E+000  0.00000000000000000E+000  0.00000000000000000E+000  0.00000000000000000E+000  0.00000000000000000E+000  0.00000000000000000E+000  0.00000000000000000E+000  0.00000000000000000E+000  0.00000000000000000E+000  0.00000000000000000E+000  0.00000000000000000E+000  0.00000000000000000E+000  0.00000000000000000E+000  0.00000000000000000E+000  0.00000000000000000E+000  0.00000000000000000E+000  0.00000000000000000E+000  0.00000000000000000E+000  0.00000000000000000E+000  0.00000000000000000E+000  0.00000000000000000E+000  0.00000000000000000E+000  0.00000000000000000E+000  0.00000000000000000E+000  0.00000000000000000E+000  0.00000000000000000E+000  0.00000000000000000E+000  0.00000000000000000E+000  0.00000000000000000E+000  0.00000000000000000E+000  0.00000000000000000E+000  0.00000000000000000E+000  0.00000000000000000E+000  0.00000000000000000E+000  0.00000000000000000E+000  0.00000000000000000E+000  0.00000000000000000E+000  0.00000000000000000E+000  0.00000000000000000E+000  0.00000000000000000E+000  0.00000000000000000E+000  0.00000000000000000E+000  0.00000000000000000E+000  0.00000000000000000E+000  0.00000000000000000E+000  0.00000000000000000E+000  0.00000000000000000E+000  0.00000000000000000E+000  0.00000000000000000E+000  0.00000000000000000E+000  0.00000000000000000E+000  0.00000000000000000E+000  0.00000000000000000E+000  0.00000000000000000E+000  0.00000000000000000E+000  0.00000000000000000E+000  0.00000000000000000E+000  0.00000000000000000E+000  0.00000000000000000E+000  0.00000000000000000E+000  0.00000000000000000E+000  0.00000000000000000E+000  0.00000000000000000E+000  0.00000000000000000E+000  0.00000000000000000E+000  0.00000000000000000E+000  0.00000000000000000E+000  0.00000000000000000E+000  0.00000000000000000E+000  0.00000000000000000E+000  0.00000000000000000E+000  0.00000000000000000E+000  0.00000000000000000E+000  0.00000000000000000E+000  0.00000000000000000E+000  0.00000000000000000E+000  0.00000000000000000E+000  0.00000000000000000E+000  0.00000000000000000E+000  0.00000000000000000E+000  0.00000000000000000E+000  0.00000000000000000E+000  0.00000000000000000E+000  0.00000000000000000E+000  0.00000000000000000E+000  0.00000000000000000E+000  0.00000000000000000E+000  0.00000000000000000E+000  0.00000000000000000E+000  0.00000000000000000E+000  0.00000000000000000E+000  0.00000000000000000E+000  0.00000000000000000E+000  0.00000000000000000E+000  0.00000000000000000E+000  0.00000000000000000E+000  0.00000000000000000E+000  0.00000000000000000E+000  0.00000000000000000E+000  0.00000000000000000E+000  0.00000000000000000E+000  0.00000000000000000E+000  0.00000000000000000E+000  0.00000000000000000E+000  0.00000000000000000E+000  0.00000000000000000E+000  0.00000000000000000E+000\n",
      "\n"
     ]
    },
    {
     "data": {
      "text/plain": [
       "'/Users/simon/simon_ml/GAP/2bGAP.xml'"
      ]
     },
     "execution_count": 29,
     "metadata": {},
     "output_type": "execute_result"
    }
   ],
   "source": [
    "# Getting the parameters\n",
    "d2b_parameters = descriptor_2b.get_parameter_string()\n",
    "a3b_parameters = descriptor_3b.get_parameter_string()\n",
    "\n",
    "# Choose training data and add\n",
    "train_data_file \n",
    "\n",
    "# Choose test data\n",
    "test_data_file\n",
    "\n",
    "# Choose filename to be of trained GAP Potential. \n",
    "GAP_potential = '2bGAP.xml'\n",
    "\n",
    "# Train the model\n",
    "model.train(d2b_parameters, a3b_parameters, training_data=train_data_file,GAP_potential=GAP_potential)\n",
    "\n",
    "# Print out file in which the potential is stored\n",
    "model.get_potential_file()\n",
    "\n",
    "\n",
    "\n"
   ]
  },
  {
   "cell_type": "markdown",
   "metadata": {},
   "source": [
    "## Making predictions "
   ]
  },
  {
   "cell_type": "code",
   "execution_count": 11,
   "metadata": {},
   "outputs": [
    {
     "name": "stdout",
     "output_type": "stream",
     "text": [
      " quip E=T F=T  atoms_filename='2btrain_data_file.xyz'  param_filename='/Users/simon/simon_ml/GAP/2bGAP.xml' | grep AT | sed 's/AT//'  > 2bquip_prediction_tr.xyz \n",
      "\n",
      "/Users/simon/simon_ml/GAP/2bquip_prediction_tr.xyz\n",
      " quip E=T F=T  atoms_filename='2btrain_data_file.xyz'  param_filename='/Users/simon/simon_ml/GAP/2bGAP.xml' | grep AT | sed 's/AT//'  > 2bquip_prediction_te.xyz \n",
      "\n",
      "/Users/simon/simon_ml/GAP/2bquip_prediction_te.xyz\n"
     ]
    }
   ],
   "source": [
    "# Select which configuration you want to predict the energy for, let´s first predict energy and forces for \n",
    "# the training configuration. Secondly test the model on the test data, remember that both predictions are based \n",
    "# upon the same trained GAP Potential. \n",
    "\n",
    "test_data_tr = train_data_file\n",
    "test_data_te = test_data_file\n",
    "\n",
    "# Get trained potential\n",
    "GAP_potential = model.get_potential_file()\n",
    "\n",
    "\n",
    "# Select filename in which predictions should be stored for train data \n",
    "QUIP_Prediction2b3b_tr = '2b3bquip_prediction_tr.xyz'\n",
    "\n",
    "\n",
    "# Use predict method on training data as test data \n",
    "model.predict(Test_Data=test_data_tr, GAP_potential=GAP_potential, QUIP_Prediction=QUIP_Prediction2b_tr)\n",
    "print(model.get_prediction_file())\n",
    "\n",
    "\n",
    "# Select filename in which predictions should be stored for test data\n",
    "QUIP_Prediction2b3b_te = '2b3bquip_prediction_te.xyz'\n",
    "\n",
    "# Use predict method on test data as test data\n",
    "model.predict(Test_Data=test_data_tr, GAP_potential=GAP_potential, QUIP_Prediction=QUIP_Prediction2b_te)\n",
    "print(model.get_prediction_file())"
   ]
  },
  {
   "cell_type": "code",
   "execution_count": null,
   "metadata": {},
   "outputs": [],
   "source": []
  },
  {
   "cell_type": "markdown",
   "metadata": {},
   "source": [
    "## Plot real values against predicted values to see quality of the fit"
   ]
  },
  {
   "cell_type": "code",
   "execution_count": 12,
   "metadata": {},
   "outputs": [],
   "source": [
    "from gapplot import QualityPlot\n",
    "import matplotlib.pyplot as plt\n",
    "\n"
   ]
  },
  {
   "cell_type": "code",
   "execution_count": 13,
   "metadata": {},
   "outputs": [
    {
     "name": "stdout",
     "output_type": "stream",
     "text": [
      "[-2.244962282135417, -2.2453941820833334, -2.2461952821354165, -2.245164891302083, -2.2463680481770836, -2.246880423802083, -2.2463577058333333, -2.24817987859375, -2.246701410625, -2.246003494895833, -2.2456472738541664, -2.245474264583333, -2.2451504565625, -2.2462168677604164, -2.2463391968229165, -2.2447664765104167, -2.2467424226562502, -2.2470864452083332, -2.245734479427083, -2.2457037650520832, -2.2460340127083334, -2.2470984813541666, -2.24460041625, -2.245661888854167, -2.2466832132291668, -2.245983086510417, -2.2465889082291666, -2.2450639713541665, -2.2472037406770835, -2.2459335802083333, -2.244114574583333, -2.2452429702083334, -2.24446667296875, -2.2462067291145833, -2.2452375803125, -2.24489444890625, -2.247457318020833, -2.2453744952083334, -2.24473497109375, -2.2459292770312502, 0.0]\n",
      "[-2.245817533759805, -2.2459401565398154, -2.245882021016269, -2.245821935402913, -2.245911963876985, -2.245924054180963, -2.245873916169766, -2.245912892739009, -2.2459219342081505, -2.2459209018770068, -2.245882956335459, -2.2458819229594433, -2.2459501220257607, -2.2458364433582525, -2.2458339796426756, -2.2458154293719326, -2.2459266642081914, -2.2459364480201756, -2.2459345471766823, -2.2459496359928486, -2.2458227205123342, -2.2459203000191343, -2.2458660018092664, -2.245863457453133, -2.2459329586808856, -2.245945389156063, -2.245923567914437, -2.2458441363465247, -2.245922135129078, -2.245826420623724, -2.2458957460367515, -2.245890293875379, -2.245845250876433, -2.245873310301905, -2.2458869630799327, -2.245866195781479, -2.2459275737399644, -2.2458856762235677, -2.2459395553072867, -2.2458267194712462, 0.0]\n",
      "[-2.244962282135417, -2.2453941820833334, -2.2461952821354165, -2.245164891302083, -2.2463680481770836, -2.246880423802083, -2.2463577058333333, -2.24817987859375, -2.246701410625, -2.246003494895833, -2.2456472738541664, -2.245474264583333, -2.2451504565625, -2.2462168677604164, -2.2463391968229165, -2.2447664765104167, -2.2467424226562502, -2.2470864452083332, -2.245734479427083, -2.2457037650520832, -2.2460340127083334, -2.2470984813541666, -2.24460041625, -2.245661888854167, -2.2466832132291668, -2.245983086510417, -2.2465889082291666, -2.2450639713541665, -2.2472037406770835, -2.2459335802083333, -2.244114574583333, -2.2452429702083334, -2.24446667296875, -2.2462067291145833, -2.2452375803125, -2.24489444890625, -2.247457318020833, -2.2453744952083334, -2.24473497109375, -2.2459292770312502, 0.0]\n",
      "[-2.245817533759805, -2.2459401565398154, -2.245882021016269, -2.245821935402913, -2.245911963876985, -2.245924054180963, -2.245873916169766, -2.245912892739009, -2.2459219342081505, -2.2459209018770068, -2.245882956335459, -2.2458819229594433, -2.2459501220257607, -2.2458364433582525, -2.2458339796426756, -2.2458154293719326, -2.2459266642081914, -2.2459364480201756, -2.2459345471766823, -2.2459496359928486, -2.2458227205123342, -2.2459203000191343, -2.2458660018092664, -2.245863457453133, -2.2459329586808856, -2.245945389156063, -2.245923567914437, -2.2458441363465247, -2.245922135129078, -2.245826420623724, -2.2458957460367515, -2.245890293875379, -2.245845250876433, -2.245873310301905, -2.2458869630799327, -2.245866195781479, -2.2459275737399644, -2.2458856762235677, -2.2459395553072867, -2.2458267194712462, 0.0]\n"
     ]
    },
    {
     "data": {
      "image/png": "[encoded data removed]",
      "text/plain": [
       "<Figure size 432x288 with 4 Axes>"
      ]
     },
     "metadata": {
      "needs_background": "light"
     },
     "output_type": "display_data"
    }
   ],
   "source": [
    "# Make instance of QualityPlot which contains the plot methods\n",
    "# Make instance of plt.subplots object to make nice table of multiple subplots\n",
    "QP = QualityPlot()\n",
    "figs, axs = plt.subplots(nrows=2,ncols=2,gridspec_kw={'wspace':1,'hspace':1})\n",
    "\n",
    "# Plot energies and pass them on to axis object.\n",
    "QP.energies_on_energies(real_values=test_data_tr, predicted_values=QUIP_Prediction2b_tr, axis=axs[0,0],label=\"Energy of training data\")\n",
    "QP.energies_on_energies(real_values=test_data_tr,predicted_values=QUIP_Prediction2b_te, axis=axs[0,1], label=\"Energy of test data\")\n",
    "\n",
    "# Plot forces and pass them on to axis object.\n",
    "QP.forces_on_forces(real_values=test_data_tr, predicted_values=QUIP_Prediction2b_tr, axis=axs[1,0],label=\"Forces of training data\")\n",
    "QP.forces_on_forces(real_values=test_data_tr,predicted_values=QUIP_Prediction2b_te, axis=axs[1,1], label=\"Forces of test data\")"
   ]
  },
  {
   "cell_type": "code",
   "execution_count": null,
   "metadata": {},
   "outputs": [],
   "source": []
  },
  {
   "cell_type": "code",
   "execution_count": null,
   "metadata": {},
   "outputs": [],
   "source": []
  }
 ],
 "metadata": {
  "kernelspec": {
   "display_name": "Python 3",
   "language": "python",
   "name": "python3"
  },
  "language_info": {
   "codemirror_mode": {
    "name": "ipython",
    "version": 3
   },
   "file_extension": ".py",
   "mimetype": "text/x-python",
   "name": "python",
   "nbconvert_exporter": "python",
   "pygments_lexer": "ipython3",
   "version": "3.8.2"
  }
 },
 "nbformat": 4,
 "nbformat_minor": 4
}
