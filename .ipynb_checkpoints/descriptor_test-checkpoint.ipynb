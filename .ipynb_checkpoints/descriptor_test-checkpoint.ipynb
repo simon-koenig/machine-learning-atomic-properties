{
 "cells": [
  {
   "cell_type": "markdown",
   "metadata": {},
   "source": [
    "# File to test gap_modules - simon "
   ]
  },
  {
   "cell_type": "markdown",
   "metadata": {},
   "source": [
    "## Importing modules and classes"
   ]
  },
  {
   "cell_type": "code",
   "execution_count": 1,
   "metadata": {},
   "outputs": [
    {
     "name": "stdout",
     "output_type": "stream",
     "text": [
      "hello world\n"
     ]
    }
   ],
   "source": [
    "# Using the model with the simplest descriptor, 2b - two body distance\n",
    "from GAP.gap_models2 import GAPModel\n",
    "from GAP.gap_models2 import distance_2b"
   ]
  },
  {
   "cell_type": "markdown",
   "metadata": {},
   "source": [
    "## Creating instances of models and descriptors"
   ]
  },
  {
   "cell_type": "code",
   "execution_count": 2,
   "metadata": {},
   "outputs": [
    {
     "data": {
      "text/plain": [
       "{'cutoff': 4,\n",
       " 'covariance_type': 'ard_se',\n",
       " 'delta': 0.5,\n",
       " 'theta_uniform': 1.0,\n",
       " 'sparse_method': 'uniform',\n",
       " 'add_species': 'T',\n",
       " 'n_sparse': 10}"
      ]
     },
     "execution_count": 2,
     "metadata": {},
     "output_type": "execute_result"
    }
   ],
   "source": [
    "# Initialize distance_2_b descriptor\n",
    "test_descriptor_2b = distance_2b(4,'ard_se',0.5,1.0,'uniform','T',10)\n",
    "test_descriptor_2b.get_parameter_dict()"
   ]
  },
  {
   "cell_type": "code",
   "execution_count": 3,
   "metadata": {},
   "outputs": [],
   "source": [
    "# Make instances of GAPModel\n",
    "test_model = GAPModel()\n"
   ]
  },
  {
   "cell_type": "markdown",
   "metadata": {},
   "source": [
    "## Training the model"
   ]
  },
  {
   "cell_type": "code",
   "execution_count": 4,
   "metadata": {},
   "outputs": [
    {
     "name": "stdout",
     "output_type": "stream",
     "text": [
      " gap_fit energy_parameter_name = energy  force_parameter_name = forces do_copy_at_file = F  sparse_separate_file = T gp_file = GAP.xml at_file = 'hydrogen_md.xyz'  default_sigma = {0.008 0.04 0 0} gap = {distance_2b cutoff = 4 covariance_type = ard_se delta = 0.5 theta_uniform = 1.0 sparse_method = uniform add_species = T n_sparse = 10}\n",
      "libAtoms::Hello World: 22/02/2021   17:58:49\n",
      "libAtoms::Hello World: git version  https://github.com/libAtoms/QUIP.git,357e28d15-dirty\n",
      "libAtoms::Hello World: QUIP_ARCH    darwin_x86_64_gfortran\n",
      "libAtoms::Hello World: compiled on  Jan 15 2021 at 14:52:24\n",
      "libAtoms::Hello World: Random Seed = 64729487\n",
      "libAtoms::Hello World: global verbosity = 0\n",
      "\n",
      "Calls to system_timer will do nothing by default\n",
      "\n",
      "\n",
      "================================ Input parameters ==============================\n",
      "\n",
      "atoms_filename = //MANDATORY//\n",
      "at_file = hydrogen_md.xyz\n",
      "gap = \"distance_2b cutoff = 4 covariance_type = ard_se delta = 0.5 theta_uniform = 1.0 sparse_method = uniform add_species = T n_sparse = 10\"\n",
      "e0 = 0.0\n",
      "local_property0 = 0.0\n",
      "e0_offset = 0.0\n",
      "e0_method = isolated\n",
      "default_kernel_regularisation = //MANDATORY//\n",
      "default_sigma = \"0.008 0.04 0 0\"\n",
      "sparse_jitter = 1.0e-10\n",
      "hessian_displacement = 1.0e-2\n",
      "hessian_delta = 1.0e-2\n",
      "baseline_param_filename = quip_params.xml\n",
      "core_param_file = quip_params.xml\n",
      "baseline_ip_args =\n",
      "core_ip_args =\n",
      "energy_parameter_name = energy\n",
      "local_property_parameter_name = local_property\n",
      "force_parameter_name = forces\n",
      "virial_parameter_name = virial\n",
      "hessian_parameter_name = hessian\n",
      "config_type_parameter_name = config_type\n",
      "kernel_regularisation_parameter_name = sigma\n",
      "sigma_parameter_name = sigma\n",
      "force_mask_parameter_name = force_mask\n",
      "parameter_name_prefix =\n",
      "config_type_kernel_regularisation =\n",
      "config_type_sigma =\n",
      "kernel_regularisation_is_per_atom = T\n",
      "sigma_per_atom = T\n",
      "do_copy_atoms_file = T\n",
      "do_copy_at_file = F\n",
      "sparse_separate_file = T\n",
      "sparse_use_actual_gpcov = F\n",
      "gap_file = gap_new.xml\n",
      "gp_file = GAP.xml\n",
      "verbosity = NORMAL\n",
      "rnd_seed = -1\n",
      "openmp_chunk_size = 1\n",
      "do_ip_timing = F\n",
      "template_file = template.xyz\n",
      "sparsify_only_no_fit = F\n",
      "\n",
      "========================================  ======================================\n",
      "\n",
      "\n",
      "============== Gaussian Approximation Potentials - Database fitting ============\n",
      "\n",
      "\n",
      "Initial parsing of command line arguments finished.\n",
      "Found 1 GAPs.\n",
      "Descriptors have been parsed\n",
      "\n"
     ]
    },
    {
     "data": {
      "text/plain": [
       "'/Users/simon/simon_ml/GAP.xml'"
      ]
     },
     "execution_count": 4,
     "metadata": {},
     "output_type": "execute_result"
    }
   ],
   "source": [
    "# Two ways of getting the parameters\n",
    "d_parameters1 = test_descriptor_2b.param_dict\n",
    "d_parameters2 = test_descriptor_2b.get_parameter_dict()\n",
    "\n",
    "# Get the descriptor_type from descriptor object or manually input into training method\n",
    "d_type = test_descriptor_2b.get_descriptor_type()\n",
    "\n",
    "# Choose training data\n",
    "t_data = \"hydrogen_md.xyz\"\n",
    "\n",
    "# Train the model\n",
    "test_model.train(parameters=d_parameters1,training_data=t_data,descriptor_type=d_type)\n",
    "\n",
    "# Print out file in which the potential is stored\n",
    "test_model.get_potential_file()\n",
    "\n",
    "\n",
    "\n"
   ]
  },
  {
   "cell_type": "code",
   "execution_count": null,
   "metadata": {},
   "outputs": [],
   "source": []
  },
  {
   "cell_type": "code",
   "execution_count": null,
   "metadata": {},
   "outputs": [],
   "source": []
  }
 ],
 "metadata": {
  "kernelspec": {
   "display_name": "Python 3",
   "language": "python",
   "name": "python3"
  },
  "language_info": {
   "codemirror_mode": {
    "name": "ipython",
    "version": 3
   },
   "file_extension": ".py",
   "mimetype": "text/x-python",
   "name": "python",
   "nbconvert_exporter": "python",
   "pygments_lexer": "ipython3",
   "version": "3.8.2"
  }
 },
 "nbformat": 4,
 "nbformat_minor": 4
}
